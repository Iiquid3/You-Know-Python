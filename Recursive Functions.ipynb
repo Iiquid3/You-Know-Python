{
 "cells": [
  {
   "cell_type": "markdown",
   "metadata": {},
   "source": [
    "## Recursive Functions\n",
    "\n",
    "1. Anisa, a mathematics enthusiast, is currently engaged in studying Pascal's Triangle. She requires a program to generate the nth row of Pascal's Triangle using a recursive algorithm. \n",
    "\n",
    "To support Anisa in her mathematical pursuits, you are assigned the task of developing a function named generate_nth_row. This function should only accept values of n between 0 and 12 (inclusive) and return the nth row of Pascal's Triangle. If the input value of n is outside this range, the function should return None to indicate an invalid input."
   ]
  },
  {
   "cell_type": "code",
   "execution_count": null,
   "metadata": {},
   "outputs": [],
   "source": [
    "def generate_nth_row(n):\n",
    "    # Validate input range\n",
    "    if n < 0 or n > 12:\n",
    "        return \"Invalid input\"\n",
    "\n",
    "    # Base case for recursion: the 0th row is [1]\n",
    "    if n == 0:\n",
    "        return [1]\n",
    "    \n",
    "    # Recursive call to get the previous row\n",
    "    previous_row = generate_nth_row(n - 1)\n",
    "    \n",
    "    # Generate the current row based on the previous row\n",
    "    current_row = [1]  # Start with 1\n",
    "    for i in range(1, len(previous_row)):\n",
    "        current_row.append(previous_row[i - 1] + previous_row[i])\n",
    "    current_row.append(1)  # End with 1\n",
    "\n",
    "    return \" \".join(map(str, current_row))\n",
    "\n",
    "# Test examples\n",
    "n = 5  # Replace with any value between 0 and 12 to test\n",
    "output = generate_nth_row(n)\n",
    "print(output if output != \"Invalid input\" else output)\n"
   ]
  },
  {
   "cell_type": "markdown",
   "metadata": {},
   "source": [
    "2. Neha is developing a text-processing tool and needs assistance with counting the occurrences of a specific character in a given string. She plans to implement a recursive function that iterates through the string character by character, checking if each character matches the specified one."
   ]
  },
  {
   "cell_type": "code",
   "execution_count": null,
   "metadata": {},
   "outputs": [],
   "source": [
    "def count_occurrences(s, c):\n",
    "    # Base case: if the string is empty, return 0\n",
    "    if not s:\n",
    "        return 0\n",
    "    \n",
    "    # Check if the first character matches the specified character\n",
    "    # Add 1 if it matches, otherwise add 0, and proceed with the rest of the string\n",
    "    return (1 if s[0] == c else 0) + count_occurrences(s[1:], c)\n",
    "\n",
    "# Test examples\n",
    "s = input(\"Enter the string: \")\n",
    "c = input(\"Enter the character to count: \")\n",
    "\n",
    "# Ensure only a single character is provided for counting\n",
    "if len(c) != 1:\n",
    "    print(\"Please enter a single character to count.\")\n",
    "else:\n",
    "    print(count_occurrences(s, c))\n"
   ]
  },
  {
   "cell_type": "markdown",
   "metadata": {},
   "source": [
    "3. David is developing a program to calculate the sum of the digits of a given integer and determine if this sum is a prime number or not. "
   ]
  },
  {
   "cell_type": "code",
   "execution_count": null,
   "metadata": {},
   "outputs": [],
   "source": [
    "def sum_of_digits(n):\n",
    "    # Calculate the sum of the digits\n",
    "    return sum(int(digit) for digit in str(abs(n)))  # Use abs(n) to handle negative numbers\n",
    "\n",
    "def is_prime(num):\n",
    "    # Edge cases\n",
    "    if num < 2:\n",
    "        return False\n",
    "    if num == 2:\n",
    "        return True\n",
    "    if num % 2 == 0:\n",
    "        return False\n",
    "    \n",
    "    # Check divisors from 3 up to the square root of num\n",
    "    for i in range(3, int(num ** 0.5) + 1, 2):\n",
    "        if num % i == 0:\n",
    "            return False\n",
    "    return True\n",
    "\n",
    "# Main program\n",
    "n = int(input(\"Enter an integer: \"))\n",
    "digit_sum = sum_of_digits(n)\n",
    "\n",
    "if is_prime(digit_sum):\n",
    "    print(f\"Sum of digits: {digit_sum} is a prime number.\")\n",
    "else:\n",
    "    print(f\"Sum of digits: {digit_sum} is not a prime number.\")\n"
   ]
  },
  {
   "cell_type": "markdown",
   "metadata": {},
   "source": [
    "4. Arun wants to write a program in which an array of N elements and a value of M are taken as input. He has to find out the factors of M that are present in the given array. "
   ]
  },
  {
   "cell_type": "code",
   "execution_count": null,
   "metadata": {},
   "outputs": [],
   "source": [
    "def find_factors_in_array(n, arr, m):\n",
    "    # Find factors of M\n",
    "    factors = [i for i in range(1, m + 1) if m % i == 0]\n",
    "    \n",
    "    # Find factors of M that are present in the array\n",
    "    factors_in_array = [factor for factor in factors if factor in arr]\n",
    "    \n",
    "    # Print the factors found in the array\n",
    "    if factors_in_array:\n",
    "        print(\" \".join(map(str, factors_in_array)))\n",
    "    else:\n",
    "        print(\"No factors of M are present in the array.\")\n",
    "\n",
    "# Input handling\n",
    "n = int(input(\"Enter the number of elements in the array: \"))\n",
    "arr = list(map(int, input(\"Enter the elements of the array: \").split()))\n",
    "m = int(input(\"Enter the value of M: \"))\n",
    "\n",
    "# Execute the function with provided inputs\n",
    "find_factors_in_array(n, arr, m)\n"
   ]
  },
  {
   "cell_type": "markdown",
   "metadata": {},
   "source": [
    "5. You are developing a text compression utility for a messaging application. The utility will compress repetitive sequences of characters in a string to reduce the overall message size without losing any information. As part of this utility, you need to implement a recursive function that compresses a given string according to the following rules:\n",
    "\n",
    "If a character is repeated consecutively in the string, it should be replaced with the character followed by the count of its consecutive occurrences.\n",
    "If a character is not repeated, it remains unchanged."
   ]
  },
  {
   "cell_type": "code",
   "execution_count": null,
   "metadata": {},
   "outputs": [],
   "source": [
    "def compress_string(s):\n",
    "    # Base case: if the string is empty, return an empty string\n",
    "    if not s:\n",
    "        return \"\"\n",
    "    \n",
    "    # Recursive case\n",
    "    def compress_helper(s, index, current_char, count):\n",
    "        # End of string: append the last compressed result\n",
    "        if index == len(s):\n",
    "            return current_char + (str(count) if count > 1 else \"\")\n",
    "        \n",
    "        # Check if the next character is the same as the current one\n",
    "        if s[index] == current_char:\n",
    "            return compress_helper(s, index + 1, current_char, count + 1)\n",
    "        else:\n",
    "            # Append compressed result of the current character sequence\n",
    "            compressed_part = current_char + (str(count) if count > 1 else \"\")\n",
    "            # Recursively process the next character sequence\n",
    "            return compressed_part + compress_helper(s, index + 1, s[index], 1)\n",
    "    \n",
    "    # Start the recursive compression\n",
    "    return compress_helper(s, 1, s[0], 1)\n",
    "\n",
    "# Test example\n",
    "s = input(\"Enter the string to compress: \")\n",
    "print(compress_string(s))\n"
   ]
  },
  {
   "cell_type": "markdown",
   "metadata": {},
   "source": [
    "6. Arjun is working on a mathematical tool to manipulate lists of numbers. He needs a program that reads a list of integers and generates two lists: one containing the squares of the input numbers, and another containing the cubes. Arjun wants to use lambda functions for both tasks. "
   ]
  },
  {
   "cell_type": "code",
   "execution_count": null,
   "metadata": {},
   "outputs": [],
   "source": [
    "# Input: space-separated integers in a single line\n",
    "numbers = list(map(int, input(\"Enter a list of integers: \").split()))\n",
    "\n",
    "# Lambda functions for square and cube calculations\n",
    "squares = list(map(lambda x: x ** 2, numbers))\n",
    "cubes = list(map(lambda x: x ** 3, numbers))\n",
    "\n",
    "# Output results\n",
    "print(squares)\n",
    "print(cubes)"
   ]
  }
 ],
 "metadata": {
  "kernelspec": {
   "display_name": "Python 3",
   "language": "python",
   "name": "python3"
  },
  "language_info": {
   "name": "python",
   "version": "3.12.7"
  }
 },
 "nbformat": 4,
 "nbformat_minor": 2
}
