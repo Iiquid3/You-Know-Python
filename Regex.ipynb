{
 "cells": [
  {
   "cell_type": "markdown",
   "metadata": {},
   "source": [
    "## Regex "
   ]
  },
  {
   "cell_type": "markdown",
   "metadata": {},
   "source": [
    "### 1. **Basics of Regular Expressions**\n",
    "To use regular expressions in Python, you need to import the `re` module.\n",
    "\n"
   ]
  },
  {
   "cell_type": "code",
   "execution_count": null,
   "metadata": {},
   "outputs": [],
   "source": [
    "import re"
   ]
  },
  {
   "cell_type": "markdown",
   "metadata": {},
   "source": [
    "### Basic Functions\n",
    "\n",
    "- **re.match()**: Checks if the pattern matches from the start of the string.\n",
    "- **re.search()**: Searches for the first match anywhere in the string.\n",
    "- **re.findall()**: Returns all non-overlapping matches as a list.\n",
    "- **re.sub()**: Replaces matched patterns with a replacement string.\n"
   ]
  },
  {
   "cell_type": "code",
   "execution_count": null,
   "metadata": {},
   "outputs": [],
   "source": [
    "# Example usage\n",
    "pattern = r'\\d+'  # matches digits\n",
    "text = \"My number is 12345\"\n",
    "\n",
    "# Match from the start\n",
    "match = re.match(pattern, text)  # None, no digits at the start\n",
    "\n",
    "# Search anywhere\n",
    "search = re.search(pattern, text)  # Finds '12345'\n",
    "\n",
    "# Find all matches\n",
    "find_all = re.findall(pattern, text)  # ['12345']\n",
    "\n",
    "# Replace matched pattern\n",
    "substitute = re.sub(pattern, '#####', text)  # \"My number is #####\"\n"
   ]
  },
  {
   "cell_type": "markdown",
   "metadata": {},
   "source": [
    "### Special Characters\n",
    "\n",
    "- `.` : Any character except newline.\n",
    "- `^` : Start of the string.\n",
    "- `$` : End of the string.\n",
    "- `*` : 0 or more repetitions of the preceding character.\n",
    "- `+` : 1 or more repetitions.\n",
    "- `?` : 0 or 1 repetition (optional).\n",
    "- `[]` : Set of characters to match.\n",
    "- `\\d` : Any digit (equivalent to `[0-9]`).\n",
    "- `\\D` : Any non-digit.\n",
    "- `\\w` : Any alphanumeric character or underscore (equivalent to `[a-zA-Z0-9_]`).\n",
    "- `\\W` : Any non-word character.\n",
    "- `\\s` : Whitespace (spaces, tabs, newlines).\n",
    "- `\\S` : Non-whitespace.\n"
   ]
  },
  {
   "cell_type": "code",
   "execution_count": null,
   "metadata": {},
   "outputs": [],
   "source": [
    "# Example\n",
    "text = \"Hello 123\"\n",
    "re.search(r'\\d+', text)  # Matches '123' (one or more digits)\n",
    "re.search(r'^\\w+', text)  # Matches 'Hello' (word at the start)\n",
    "re.search(r'\\D+', text)  # Matches 'Hello ' (non-digit characters)\n"
   ]
  },
  {
   "cell_type": "markdown",
   "metadata": {},
   "source": [
    "### Quantifiers\n",
    "- `{m}` : Exactly m occurrences.\n",
    "- `{m,n}` : Between m and n occurrences.\n",
    "\n",
    "\n"
   ]
  },
  {
   "cell_type": "code",
   "execution_count": null,
   "metadata": {},
   "outputs": [],
   "source": [
    "# Example\n",
    "text = \"abbbbcc\"\n",
    "re.search(r'b{3}', text)  # Matches 'bbb' (exactly 3 'b's)\n",
    "re.search(r'b{2,4}', text)  # Matches 'bbbb' (between 2 and 4 'b's)"
   ]
  },
  {
   "cell_type": "markdown",
   "metadata": {},
   "source": [
    "### Grouping and Capturing\n",
    "- Parentheses `()` are used for grouping.\n",
    "- Captured groups can be accessed using `.group(n)` where `n` is the group number (starting from 1).\n"
   ]
  },
  {
   "cell_type": "code",
   "execution_count": null,
   "metadata": {},
   "outputs": [],
   "source": [
    "# Example\n",
    "text = \"My age is 25\"\n",
    "match = re.search(r'My age is (\\d+)', text)\n",
    "age = match.group(1)  # Captures '25'\n"
   ]
  },
  {
   "cell_type": "markdown",
   "metadata": {},
   "source": [
    "### Alternation and Escaping\n",
    "\n",
    "- `|` : Acts as an OR operator.\n",
    "- `\\` : Escapes special characters.\n"
   ]
  },
  {
   "cell_type": "code",
   "execution_count": null,
   "metadata": {},
   "outputs": [],
   "source": [
    "# Example\n",
    "re.search(r'cat|dog', \"I love cats\")  # Matches 'cat' (alternation)\n",
    "re.search(r'\\$', \"The price is $10\")  # Matches '$' (escaped character)\n"
   ]
  },
  {
   "cell_type": "markdown",
   "metadata": {},
   "source": [
    "### Lookahead and Lookbehind\n",
    "\n",
    "- **Lookahead** `(?=...)`: Matches a group only if it is followed by the specified pattern.\n",
    "- **Negative Lookahead** `(?!...)`: Ensures that the pattern is not followed by the specified group.\n",
    "- **Lookbehind** `(?<=...)`: Matches a group only if it is preceded by the specified pattern.\n",
    "- **Negative Lookbehind** `(?<!...)`: Ensures that the pattern is not preceded by the specified group.\n"
   ]
  },
  {
   "cell_type": "code",
   "execution_count": null,
   "metadata": {},
   "outputs": [],
   "source": [
    "# Example\n",
    "text = \"Python 3.9 is awesome!\"\n",
    "re.search(r'Python(?=\\s3)', text)  # Matches 'Python' if followed by ' 3'\n",
    "re.search(r'awesome(?<!not)', text)  # Matches 'awesome' if not preceded by 'not'\n"
   ]
  },
  {
   "cell_type": "markdown",
   "metadata": {},
   "source": [
    "### Flags\n",
    "\n",
    "- `re.IGNORECASE` (`re.I`) : Case-insensitive matching.\n",
    "- `re.DOTALL` (`re.S`) : `.` matches newlines as well.\n",
    "- `re.MULTILINE` (`re.M`) : `^` and `$` match start/end of lines.\n"
   ]
  },
  {
   "cell_type": "code",
   "execution_count": null,
   "metadata": {},
   "outputs": [],
   "source": [
    "# Example\n",
    "text = \"HELLO world\"\n",
    "re.search(r'hello', text, re.IGNORECASE)  # Matches 'HELLO'\n"
   ]
  },
  {
   "cell_type": "markdown",
   "metadata": {},
   "source": [
    "\n",
    "## Summary Table of Key Functions and Patterns\n",
    "\n",
    "| **Pattern**       | **Description**                                    |\n",
    "|-------------------|----------------------------------------------------|\n",
    "| `.`               | Any character except newline                       |\n",
    "| `^`, `$`          | Start, end of string                               |\n",
    "| `*`, `+`, `?`     | 0 or more, 1 or more, 0 or 1 repetitions          |\n",
    "| `{m}`, `{m,n}`    | Exactly m, between m and n occurrences             |\n",
    "| `\\d`, `\\D`        | Digit, non-digit                                   |\n",
    "| `\\w`, `\\W`        | Alphanumeric, non-alphanumeric                     |\n",
    "| `\\s`, `\\S`        | Whitespace, non-whitespace                         |\n",
    "| `|`               | Alternation (OR)                                   |\n",
    "| `()`              | Grouping, capturing                                |\n",
    "| `(?=...)`, `(?!...)` | Lookahead, negative lookahead                     |\n",
    "| `(?<=...)`, `(?<!...)` | Lookbehind, negative lookbehind                 |\n"
   ]
  },
  {
   "cell_type": "markdown",
   "metadata": {},
   "source": [
    "# Example"
   ]
  },
  {
   "cell_type": "code",
   "execution_count": 1,
   "metadata": {},
   "outputs": [],
   "source": [
    "# Validate an Email\n",
    "\n",
    "import re\n",
    "\n",
    "email_pattern = r'^[\\w\\.-]+@[a-zA-Z\\d\\.-]+\\.[a-zA-Z]{2,6}$'\n",
    "email = \"example@domain.com\"\n",
    "if re.match(email_pattern, email):\n",
    "    print(\"Valid email\")"
   ]
  },
  {
   "cell_type": "code",
   "execution_count": 3,
   "metadata": {},
   "outputs": [
    {
     "name": "stdout",
     "output_type": "stream",
     "text": [
      "Text after substitution: There are ### apples and ### oranges.\n"
     ]
    }
   ],
   "source": [
    "#Basic program\n",
    "\n",
    "import re\n",
    "\n",
    "# Original string\n",
    "text = \"There are 123 apples and 456 oranges.\"\n",
    "\n",
    "# Substitute each digit with '#'\n",
    "new_text = re.sub(r'\\d', '#', text)\n",
    "\n",
    "# Output the result\n",
    "print(\"Text after substitution:\", new_text)\n"
   ]
  }
 ],
 "metadata": {
  "kernelspec": {
   "display_name": "Python 3",
   "language": "python",
   "name": "python3"
  },
  "language_info": {
   "codemirror_mode": {
    "name": "ipython",
    "version": 3
   },
   "file_extension": ".py",
   "mimetype": "text/x-python",
   "name": "python",
   "nbconvert_exporter": "python",
   "pygments_lexer": "ipython3",
   "version": "3.12.7"
  }
 },
 "nbformat": 4,
 "nbformat_minor": 2
}
