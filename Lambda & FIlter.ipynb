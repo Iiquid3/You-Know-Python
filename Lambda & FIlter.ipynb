{
 "cells": [
  {
   "cell_type": "markdown",
   "metadata": {},
   "source": [
    "# Lambda and Filter in Python\n",
    "\n",
    "In Python, `lambda` and `filter` are useful tools for creating concise, readable functions and filtering elements in lists and other iterables. Here’s an explanation of each:\n",
    "\n",
    "## Lambda Functions\n",
    "A **lambda function** is an anonymous, single-line function defined with the `lambda` keyword. It’s often used when you need a simple function for a short period, typically when passing a function as an argument to higher-order functions like `map`, `filter`, or `sorted`.\n",
    "\n",
    "### Syntax\n",
    "```python\n",
    "lambda arguments: expression\n",
    "```\n",
    "\n",
    "### Example\n",
    "Let's say we want to create a function that doubles a number:\n",
    "\n",
    "```python\n",
    "# Using lambda\n",
    "double = lambda x: x * 2\n",
    "print(double(5))  # Output: 10\n",
    "```\n",
    "Here, `lambda x: x * 2` is a lambda function that takes one argument (`x`) and returns `x * 2`. It’s equivalent to:\n",
    "\n",
    "```python\n",
    "def double(x):\n",
    "    return x * 2\n",
    "```\n",
    "Lambda functions are useful in cases where defining a full `def` function might be too verbose.\n",
    "\n",
    "## Filter Function\n",
    "The **filter** function is used to filter elements in an iterable (like a list or tuple) based on a condition defined by a function. `filter` takes two arguments:\n",
    "\n",
    "1. A function that returns `True` or `False`.\n",
    "2. An iterable to filter.\n",
    "\n",
    "`filter` applies the function to each element in the iterable. If the function returns `True`, the element is kept; otherwise, it is discarded.\n",
    "\n",
    "### Syntax\n",
    "```python\n",
    "filter(function, iterable)\n",
    "```\n",
    "\n",
    "### Example\n",
    "Suppose we have a list of numbers and want to keep only the even numbers:\n",
    "\n",
    "```python\n",
    "numbers = [1, 2, 3, 4, 5, 6]\n",
    "\n",
    "# Using filter with lambda to keep only even numbers\n",
    "evens = list(filter(lambda x: x % 2 == 0, numbers))\n",
    "print(evens)  # Output: [2, 4, 6]\n",
    "```\n",
    "Here, `lambda x: x % 2 == 0` is a lambda function that checks if a number is even. `filter` applies this lambda to each element in `numbers`:\n",
    "\n",
    "- If `x % 2 == 0` is `True`, the number is kept.\n",
    "- If `x % 2 == 0` is `False`, the number is removed from the result.\n",
    "\n",
    "## Key Differences Between `lambda` and `filter`\n",
    "- **Lambda** is a way to create a simple, anonymous function. It’s primarily used for short, one-off functions.\n",
    "- **Filter** is a function used to filter elements from an iterable based on a condition. You often pass a lambda function as the first argument to `filter` to define the condition.\n",
    "\n",
    "Using `lambda` with `filter` is common in scenarios where you want to quickly specify a condition for filtering items."
   ]
  },
  {
   "cell_type": "code",
   "execution_count": 1,
   "metadata": {},
   "outputs": [],
   "source": [
    "# Example of Lambda\n",
    "double = lambda x: x * 2\n",
    "print(double(5))  # Output: 10\n",
    "\n",
    "# Example of Filter\n",
    "numbers = [1, 2, 3, 4, 5, 6]\n",
    "evens = list(filter(lambda x: x % 2 == 0, numbers))\n",
    "print(evens)  # Output: [2, 4, 6]"
   ]
  }
 ],
 "metadata": {
  "kernelspec": {
   "display_name": "Python 3",
   "language": "python",
   "name": "python3"
  },
  "language_info": {
   "codemirror_mode": {
    "name": "ipython",
    "version": 3
   },
   "file_extension": ".py",
   "mimetype": "text/x-python",
   "name": "python",
   "nbconvert_exporter": "python",
   "version": "3.8.8"
  }
 },
 "nbformat": 4,
 "nbformat_minor": 5
}
