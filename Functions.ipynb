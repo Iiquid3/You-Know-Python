{
 "cells": [
  {
   "cell_type": "markdown",
   "metadata": {},
   "source": [
    "## Functions\n",
    "\n",
    "1. Arjun is working as a mathematics teacher at a school. He is teaching students about the types of triangles, and he wants to find out whether the given triangle is a right triangle or not using the Pythagorean theorem. Help him write a program to find out if a triangle is a right triangle using the Pythagorean theorem."
   ]
  },
  {
   "cell_type": "code",
   "execution_count": null,
   "metadata": {},
   "outputs": [],
   "source": [
    "def is_right_triangle(a, b, c):\n",
    "    # Sort the sides to ensure that c is the largest side (hypotenuse)\n",
    "    sides = sorted([a, b, c])\n",
    "    # Check the Pythagorean theorem: hypotenuse^2 == side1^2 + side2^2\n",
    "    return round(sides[2]**2, 5) == round(sides[0]**2 + sides[1]**2, 5)\n",
    "\n",
    "# Input\n",
    "a = float(input(\"Enter side a: \"))\n",
    "b = float(input(\"Enter side b: \"))\n",
    "c = float(input(\"Enter side c: \"))\n",
    "\n",
    "# Output\n",
    "if is_right_triangle(a, b, c):\n",
    "    print(\"The given triangle is a right-angled triangle.\")\n",
    "else:\n",
    "    print(\"The given triangle is not a right-angled triangle.\")\n"
   ]
  },
  {
   "cell_type": "markdown",
   "metadata": {},
   "source": [
    "2. Implement a function that counts the number of vowels in a given input string. The vowels, which include both lowercase and uppercase vowels (a, e, i, o, u, A, E, I, O, U), are stored in a global variable called VOWELS."
   ]
  },
  {
   "cell_type": "code",
   "execution_count": 2,
   "metadata": {},
   "outputs": [
    {
     "name": "stdout",
     "output_type": "stream",
     "text": [
      "Number of vowels in the string: 5\n"
     ]
    }
   ],
   "source": [
    "# Define the global variable for vowels\n",
    "VOWELS = \"aeiouAEIOU\"\n",
    "\n",
    "def count_vowels(input_string):\n",
    "    # Initialize a local counter for the vowels\n",
    "    vowel_count = 0\n",
    "    # Iterate over each character in the input string\n",
    "    for char in input_string:\n",
    "        # Check if the character is in the VOWELS set\n",
    "        if char in VOWELS:\n",
    "            vowel_count += 1\n",
    "    # Return the count in the specified format\n",
    "    return f\"Number of vowels in the string: {vowel_count}\"\n",
    "\n",
    "# Example usage\n",
    "input_string = input(\"Enter a string: \")\n",
    "print(count_vowels(input_string))\n"
   ]
  },
  {
   "cell_type": "markdown",
   "metadata": {},
   "source": [
    "3. You are required to implement a function, loan_payment, which calculates the monthly installment amount for a loan based on the principal amount, an annual interest rate, and the loan tenure. The function should utilize a global constant for the annual interest rate and return the monthly installment."
   ]
  },
  {
   "cell_type": "code",
   "execution_count": null,
   "metadata": {},
   "outputs": [],
   "source": [
    "# Global constant for the annual interest rate\n",
    "ANNUAL_INTEREST_RATE = 0.06  # e.g., 6% annual interest rate\n",
    "\n",
    "def loan_payment(principal, loan_tenure):\n",
    "    # Calculate the monthly interest rate\n",
    "    monthly_rate = ANNUAL_INTEREST_RATE / 12\n",
    "    # Calculate the total number of monthly payments\n",
    "    total_payments = loan_tenure * 12\n",
    "    \n",
    "    # Calculate the monthly payment using the formula\n",
    "    monthly_payment = (principal * monthly_rate * (1 + monthly_rate)**total_payments) / ((1 + monthly_rate)**total_payments - 1)\n",
    "    \n",
    "    # Return the result in the specified format, rounded to two decimal places\n",
    "    return f\"Monthly installment: ${monthly_payment:.2f}\"\n",
    "\n",
    "# Example usage\n",
    "principal = float(input(\"Enter the loan principal amount: \"))\n",
    "loan_tenure = int(input(\"Enter the loan tenure in years: \"))\n",
    "print(loan_payment(principal, loan_tenure))\n"
   ]
  },
  {
   "cell_type": "markdown",
   "metadata": {},
   "source": [
    "4. Develop a program that evaluates the strength of a given password and categorizes it as \"Weak,\" \"Moderate,\" or \"Strong\" based on specific criteria."
   ]
  },
  {
   "cell_type": "code",
   "execution_count": null,
   "metadata": {},
   "outputs": [],
   "source": [
    "# Global variables for tracking character types\n",
    "has_uppercase = False\n",
    "has_lowercase = False\n",
    "has_digit = False\n",
    "has_special_char = False\n",
    "\n",
    "def password_strength(password):\n",
    "    global has_uppercase, has_lowercase, has_digit, has_special_char\n",
    "    \n",
    "    # Reset global variables for each new password check\n",
    "    has_uppercase = has_lowercase = has_digit = has_special_char = False\n",
    "\n",
    "    # Check the length requirement first\n",
    "    if len(password) < 8:\n",
    "        return \"Weak: Password is too short.\"\n",
    "\n",
    "    # Check each character in the password for types\n",
    "    for char in password:\n",
    "        if char.isupper():\n",
    "            has_uppercase = True\n",
    "        elif char.islower():\n",
    "            has_lowercase = True\n",
    "        elif char.isdigit():\n",
    "            has_digit = True\n",
    "        elif not char.isalnum():  # Special character check\n",
    "            has_special_char = True\n",
    "\n",
    "    # Determine the strength based on the criteria\n",
    "    if has_uppercase and has_lowercase and has_digit and has_special_char:\n",
    "        return \"Strong: Password is strong.\"\n",
    "    else:\n",
    "        return \"Moderate: Password is moderately strong.\"\n",
    "\n",
    "# Example usage\n",
    "password = input(\"Enter a password to evaluate: \")\n",
    "print(password_strength(password))\n"
   ]
  },
  {
   "cell_type": "markdown",
   "metadata": {},
   "source": [
    "5. You are developing a text compression utility for a messaging application. The utility will compress repetitive sequences of characters in a string to reduce the overall message size without losing any information. As part of this utility, you need to implement a recursive function that compresses a given string according to the following rules:\n",
    "\n",
    "If a character is repeated consecutively in the string, it should be replaced with the character followed by the count of its consecutive occurrences.\n",
    "If a character is not repeated, it remains unchanged.\n",
    "Input format :\n",
    "The input consists of a single line containing the string to be compressed."
   ]
  },
  {
   "cell_type": "code",
   "execution_count": null,
   "metadata": {},
   "outputs": [],
   "source": [
    "def compress_string(s, index=0):\n",
    "    # Base case: If we reach the end of the string, return an empty string\n",
    "    if index >= len(s):\n",
    "        return \"\"\n",
    "    \n",
    "    # Count consecutive occurrences of the current character\n",
    "    count = 1\n",
    "    while index + count < len(s) and s[index] == s[index + count]:\n",
    "        count += 1\n",
    "    \n",
    "    # Compress the current sequence\n",
    "    compressed_part = s[index] + (str(count) if count > 1 else \"\")\n",
    "    \n",
    "    # Recurse to compress the rest of the string\n",
    "    return compressed_part + compress_string(s, index + count)\n",
    "\n",
    "# Example usage\n",
    "input_string = input(\"Enter a string to compress: \")\n",
    "print(compress_string(input_string))\n"
   ]
  },
  {
   "cell_type": "markdown",
   "metadata": {},
   "source": [
    "6. Rithisa requires a program to determine whether a given string is a palindrome. The program prompts for a string input and checks if it reads the same backward as forward. "
   ]
  },
  {
   "cell_type": "code",
   "execution_count": null,
   "metadata": {},
   "outputs": [],
   "source": [
    "def isPalindrome(string, left_pos, right_pos):\n",
    "    # Base case: If left_pos crosses right_pos, it means the string is a palindrome\n",
    "    if left_pos >= right_pos:\n",
    "        return True\n",
    "    # Recursive case: Check if characters at left and right positions are the same\n",
    "    if string[left_pos] != string[right_pos]:\n",
    "        return False\n",
    "    # Move inward and continue checking\n",
    "    return isPalindrome(string, left_pos + 1, right_pos - 1)\n",
    "\n",
    "# Example usage\n",
    "input_string = input(\"Enter a string to check if it's a palindrome: \")\n",
    "print(isPalindrome(input_string, 0, len(input_string) - 1))\n"
   ]
  },
  {
   "cell_type": "markdown",
   "metadata": {},
   "source": [
    "7. Junior Coders Academy is a unique learning center that offers a creative and inspiring collaborative environment for building coding skills with students in grades 1–12. Williams, the proprietor of the academy and the mentor for the students, started his first session of the day with the interesting programming concept of using functions. \n",
    "\n",
    "After an interactive session of learning through design, Williams gave the students a small self-activity to write a program using functions to verify from two integer numbers A and B, if B corresponds to the last digit/digits of A. Williams wanted you to write the program for evaluating the students’ codes."
   ]
  },
  {
   "cell_type": "code",
   "execution_count": null,
   "metadata": {},
   "outputs": [],
   "source": [
    "def findValue(s1, s2):\n",
    "    # Check if s2 matches the end of s1\n",
    "    if s1.endswith(s2):\n",
    "        return \"Yes\"\n",
    "    else:\n",
    "        return \"No\"\n",
    "\n",
    "# Example usage\n",
    "A = input(\"Enter the first number (A): \")\n",
    "B = input(\"Enter the second number (B): \")\n",
    "print(findValue(A, B))\n"
   ]
  },
  {
   "cell_type": "markdown",
   "metadata": {},
   "source": [
    "8. Simplified Fraction \n",
    "\n",
    "St. Patrick Convent organizes a project exhibition \"Innovative Minds\" every year with the objective to provide a platform and unleash the potential of the students by showcasing their innovative projects. Pasha is a smart high school student and was eager to participate in the fair for the first time.\n",
    "\n",
    "After a lot of groundwork, she decided on her project and set out to design the same. Her project requirement was to design an advanced calculator that has a fraction feature that will simplify fractions. The project will accept a non-negative integer as a numerator and a positive integer as a denominator and outputs the fraction in simplest form. That is, the fraction cannot be reduced any further, and the numerator will be less than the denominator.\n",
    "\n",
    "Help Pasha to program her advanced calculator and succeed in her first-ever project presentation. You can assume that all input numerators and denominators will produce valid fractions."
   ]
  },
  {
   "cell_type": "code",
   "execution_count": null,
   "metadata": {},
   "outputs": [],
   "source": [
    "import math\n",
    "\n",
    "def printValue(numerator, denominator):\n",
    "    # Calculate the greatest common divisor\n",
    "    gcd = math.gcd(numerator, denominator)\n",
    "    # Simplify the numerator and denominator\n",
    "    simplified_numerator = numerator // gcd\n",
    "    simplified_denominator = denominator // gcd\n",
    "    # Print the simplified fraction\n",
    "    print(f\"{simplified_numerator}/{simplified_denominator}\")\n",
    "\n",
    "# Example usage\n",
    "numerator = int(input(\"Enter the numerator: \"))\n",
    "denominator = int(input(\"Enter the denominator: \"))\n",
    "printValue(numerator, denominator)\n"
   ]
  }
 ],
 "metadata": {
  "kernelspec": {
   "display_name": "Python 3",
   "language": "python",
   "name": "python3"
  },
  "language_info": {
   "codemirror_mode": {
    "name": "ipython",
    "version": 3
   },
   "file_extension": ".py",
   "mimetype": "text/x-python",
   "name": "python",
   "nbconvert_exporter": "python",
   "pygments_lexer": "ipython3",
   "version": "3.12.7"
  }
 },
 "nbformat": 4,
 "nbformat_minor": 2
}
