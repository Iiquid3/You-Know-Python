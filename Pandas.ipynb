{
  "cells": [
    {
      "source": "# Pandas Cheat Sheet for Data Science in Python\n\nA quick guide to the basics of the Python data analysis library Pandas, including code samples.",
      "metadata": {},
      "id": "a24a96b2-c87c-432c-9877-8cd3db366934",
      "cell_type": "markdown"
    },
    {
      "source": "The [Pandas](http://pandas.pydata.org) library is one of the most preferred tools for data scientists to do data manipulation and analysis, next to [matplotlib](http://matplotlib.org) for data visualization and [NumPy](http://www.numpy.org), the fundamental library for scientific computing in [Python](https://www.datacamp.com/learn/python) on which Pandas was built. \n\nThe fast, flexible, and expressive Pandas data structures are designed to make real-world data analysis significantly easier, but this might not be immediately the case for those who are just getting started with it. Exactly because there is so much functionality built into this package that the options are overwhelming.\n\nThat's where this Pandas cheat sheet might come in handy. \n\nIt's a quick guide through the basics of Pandas that you will need to get started on wrangling your data with Python. \n\nAs such, you can use it as a handy reference if you are just beginning their data science journey with Pandas or, for those of you who already haven't started yet, you can just use it as a guide to make it easier to learn about and use it. \n\n_**Explore [Python Pandas for Data Science in Python](https://www.datacamp.com/courses/data-manipulation-with-pandas) in this course.**_\n\n_**PDF resource [Pandas Cheat Sheet for Data Science in Python](https://images.datacamp.com/image/upload/v1676302204/Marketing/Blog/Pandas_Cheat_Sheet.pdf)**_",
      "metadata": {},
      "id": "fcd0d2a6-ab15-4fed-a105-036625750076",
      "cell_type": "markdown"
    },
    {
      "source": "The Pandas cheat sheet will guide you through the basics of the Pandas library, going from the data structuresto I/O, selection, dropping indices or columns, sorting and ranking, retrieving basic information of the data structures you're working with to applying functions and data alignment.\n\nIn short, everything that you need to kickstart your data science learning with Python!\n\nDo you want to learn more? Start the [Intermediate Python For Data Science](https://www.datacamp.com/courses/intermediate-python) course for free now or try out our [Pandas DataFrame tutorial](https://www.datacamp.com/tutorial/pandas-tutorial-dataframe-python)!\n\nAlso, don't miss out on our [Pandas Data Wrangling cheat sheet](https://www.datacamp.com/cheat-sheet/pandas-cheat-sheet-data-wrangling-in-python) or our other [data science cheat sheets](https://www.datacamp.com/cheat-sheet).",
      "metadata": {},
      "id": "89e91122-9971-49af-944a-0f8d0444fb7b",
      "cell_type": "markdown"
    },
    {
      "source": "## Python For Data Science Cheat Sheet: Pandas Basics\n\nUse the following import convention:",
      "metadata": {},
      "id": "6e2ef602-3ea6-45fb-8732-07a0a36385cb",
      "cell_type": "markdown"
    },
    {
      "source": "import pandas as pd",
      "metadata": {
        "executionCancelledAt": null,
        "executionTime": 49,
        "lastExecutedAt": 1726137652471,
        "lastExecutedByKernel": "4bcfc7f9-b0b6-497e-a6bd-cad05494e7ea",
        "lastScheduledRunId": null,
        "lastSuccessfullyExecutedCode": "import pandas as pd"
      },
      "id": "5eb4cbac-057c-4b58-a1a0-f0d755dac9ef",
      "cell_type": "code",
      "execution_count": 62,
      "outputs": []
    },
    {
      "source": "### Pandas Data Structures\n\n\n### Series\n\nA one-dimensional labeled array capable of holding any data type",
      "metadata": {},
      "id": "86e4431b-2272-4213-86eb-e193033a00e6",
      "cell_type": "markdown"
    },
    {
      "source": "s = pd.Series([3, -5, 7, 4],  index=['a',  'b',  'c',  'd'])\ns",
      "metadata": {
        "executionCancelledAt": null,
        "executionTime": 52,
        "lastExecutedAt": 1726137652524,
        "lastExecutedByKernel": "4bcfc7f9-b0b6-497e-a6bd-cad05494e7ea",
        "lastScheduledRunId": null,
        "lastSuccessfullyExecutedCode": "s = pd.Series([3, -5, 7, 4],  index=['a',  'b',  'c',  'd'])\ns",
        "outputsMetadata": {
          "0": {
            "height": 190,
            "type": "dataFrame"
          }
        },
        "collapsed": false,
        "jupyter": {
          "outputs_hidden": false,
          "source_hidden": false
        }
      },
      "id": "ddf3b80d-c766-4cd5-862e-07374cf77211",
      "cell_type": "code",
      "execution_count": 63,
      "outputs": []
    },
    {
      "source": "### DataFrame\n\nA two-dimensional labeled data structure with columns of potentially different types",
      "metadata": {},
      "id": "79ad3ac2-ca5d-4e9a-a58f-5bfc34ac0c2a",
      "cell_type": "markdown"
    },
    {
      "source": "data = {'Country': ['Belgium',  'India',  'Brazil'],\n\n'Capital': ['Brussels',  'New Delhi',  'Brasilia'],\n\n'Population': [11190846, 1303171035, 207847528]} \n\ndf = pd.DataFrame(data,columns=['Country',  'Capital',  'Population'])\ndf",
      "metadata": {
        "executionCancelledAt": null,
        "executionTime": 47,
        "lastExecutedAt": 1726137652571,
        "lastExecutedByKernel": "4bcfc7f9-b0b6-497e-a6bd-cad05494e7ea",
        "lastScheduledRunId": null,
        "lastSuccessfullyExecutedCode": "data = {'Country': ['Belgium',  'India',  'Brazil'],\n\n'Capital': ['Brussels',  'New Delhi',  'Brasilia'],\n\n'Population': [11190846, 1303171035, 207847528]} \n\ndf = pd.DataFrame(data,columns=['Country',  'Capital',  'Population'])\ndf",
        "outputsMetadata": {
          "0": {
            "height": 189,
            "type": "dataFrame"
          }
        },
        "collapsed": false,
        "jupyter": {
          "outputs_hidden": false,
          "source_hidden": false
        }
      },
      "id": "3f69e972-adad-4566-800c-ea20c9845447",
      "cell_type": "code",
      "execution_count": 64,
      "outputs": []
    },
    {
      "source": "Please note that the first column **1**,**2**,**3** is the index and **Country**,**Capital**,**Population** are the Columns.\n\n### Asking For Help",
      "metadata": {},
      "id": "afdca66a-4da1-474e-8b23-ad22a3f2d53c",
      "cell_type": "markdown"
    },
    {
      "source": "help(pd.Series.loc)",
      "metadata": {
        "executionCancelledAt": null,
        "executionTime": 49,
        "lastExecutedAt": 1726137652620,
        "lastExecutedByKernel": "4bcfc7f9-b0b6-497e-a6bd-cad05494e7ea",
        "lastScheduledRunId": null,
        "lastSuccessfullyExecutedCode": "help(pd.Series.loc)",
        "outputsMetadata": {
          "0": {
            "height": 616,
            "type": "stream"
          }
        },
        "collapsed": false,
        "jupyter": {
          "outputs_hidden": false,
          "source_hidden": false
        }
      },
      "id": "cf89df56-9329-485d-8a49-e28282f05854",
      "cell_type": "code",
      "execution_count": 65,
      "outputs": []
    },
    {
      "source": "## I/O\n\n### Read and Write to CSV",
      "metadata": {},
      "id": "ba8e1343-06fe-4342-9057-2cafb6c421ef",
      "cell_type": "markdown"
    },
    {
      "source": "def read_csv():\n    pd.read_csv('file.csv', header=None, nrows=5)\n    df.to_csv('myDataFrame.csv')",
      "metadata": {
        "executionCancelledAt": null,
        "executionTime": 47,
        "lastExecutedAt": 1726137652667,
        "lastExecutedByKernel": "4bcfc7f9-b0b6-497e-a6bd-cad05494e7ea",
        "lastScheduledRunId": null,
        "lastSuccessfullyExecutedCode": "def read_csv():\n    pd.read_csv('file.csv', header=None, nrows=5)\n    df.to_csv('myDataFrame.csv')"
      },
      "id": "60be1ca0-8726-431f-9da4-717ce65a1a98",
      "cell_type": "code",
      "execution_count": 66,
      "outputs": []
    },
    {
      "source": "### Read multiple sheets from the same file",
      "metadata": {},
      "id": "2df0fdfb-0bce-4704-b05a-2bec0eda1176",
      "cell_type": "markdown"
    },
    {
      "source": "def read_sheets():\n    xlsx = pd.ExcelFile('file.xls')\n    df = pd.read_excel(xlsx, 'Sheet1')",
      "metadata": {
        "executionCancelledAt": null,
        "executionTime": 48,
        "lastExecutedAt": 1726137652715,
        "lastExecutedByKernel": "4bcfc7f9-b0b6-497e-a6bd-cad05494e7ea",
        "lastScheduledRunId": null,
        "lastSuccessfullyExecutedCode": "def read_sheets():\n    xlsx = pd.ExcelFile('file.xls')\n    df = pd.read_excel(xlsx, 'Sheet1')"
      },
      "id": "2b138118-46f0-41b8-9a82-f3afb5ce90c9",
      "cell_type": "code",
      "execution_count": 67,
      "outputs": []
    },
    {
      "source": "### Read and Write to Excel",
      "metadata": {},
      "id": "616e24c3-75b0-47de-a33d-41a184e96e8b",
      "cell_type": "markdown"
    },
    {
      "source": "def read_write_sheets():\n    pd.read_excel('file.xlsx')\n    df.to_excel('dir/myDataFrame.xlsx', sheet_name='Sheet1')",
      "metadata": {
        "executionCancelledAt": null,
        "executionTime": 48,
        "lastExecutedAt": 1726137652763,
        "lastExecutedByKernel": "4bcfc7f9-b0b6-497e-a6bd-cad05494e7ea",
        "lastScheduledRunId": null,
        "lastSuccessfullyExecutedCode": "def read_write_sheets():\n    pd.read_excel('file.xlsx')\n    df.to_excel('dir/myDataFrame.xlsx', sheet_name='Sheet1')"
      },
      "id": "ad5fe3c7-2958-4f9c-988e-ed89cadd70b1",
      "cell_type": "code",
      "execution_count": 68,
      "outputs": []
    },
    {
      "source": "### Read and Write to SQL Query or Database Table\n\n(read_sql()is a convenience wrapper around read_sql_table() and read_sql_query())",
      "metadata": {},
      "id": "f58edb7e-7b5b-40ea-a30b-1c119c57d70f",
      "cell_type": "markdown"
    },
    {
      "source": "from sqlalchemy import create_engine\n\ndef query_sqlite():\n    engine = create_engine('sqlite:///:memory:')\n    pd.read_sql('SELECT * FROM my_table;', engine)\n    pd.read_sql_table('my_table', engine)\n    pd.read_sql_query('SELECT * FROM my_table;', engine)\n    df.to_sql('myDf', engine)",
      "metadata": {
        "executionCancelledAt": null,
        "executionTime": 47,
        "lastExecutedAt": 1726137652811,
        "lastExecutedByKernel": "4bcfc7f9-b0b6-497e-a6bd-cad05494e7ea",
        "lastScheduledRunId": null,
        "lastSuccessfullyExecutedCode": "from sqlalchemy import create_engine\n\ndef query_sqlite():\n    engine = create_engine('sqlite:///:memory:')\n    pd.read_sql('SELECT * FROM my_table;', engine)\n    pd.read_sql_table('my_table', engine)\n    pd.read_sql_query('SELECT * FROM my_table;', engine)\n    df.to_sql('myDf', engine)",
        "collapsed": false,
        "jupyter": {
          "outputs_hidden": false,
          "source_hidden": false
        }
      },
      "id": "2f216369-3cce-4ee9-a5e3-76caa3f064c1",
      "cell_type": "code",
      "execution_count": 69,
      "outputs": []
    },
    {
      "source": "## Selection\n\n### Getting\n\nGet one element",
      "metadata": {},
      "id": "664132f4-eebe-4647-8f94-3bcc31bab94a",
      "cell_type": "markdown"
    },
    {
      "source": "s['b']\n-5",
      "metadata": {
        "executionCancelledAt": null,
        "executionTime": 48,
        "lastExecutedAt": 1726137652859,
        "lastExecutedByKernel": "4bcfc7f9-b0b6-497e-a6bd-cad05494e7ea",
        "lastScheduledRunId": null,
        "lastSuccessfullyExecutedCode": "s['b']\n-5"
      },
      "id": "1390ef7c-e573-4cf9-afa7-f8f4dc2c1efc",
      "cell_type": "code",
      "execution_count": 70,
      "outputs": []
    },
    {
      "source": "Get subset of a DataFrame",
      "metadata": {},
      "id": "a3c60e95-2e01-49ac-86a4-7973131c0302",
      "cell_type": "markdown"
    },
    {
      "source": "df[1:]",
      "metadata": {
        "executionCancelledAt": null,
        "executionTime": null,
        "lastExecutedAt": null,
        "lastExecutedByKernel": null,
        "lastScheduledRunId": null,
        "lastSuccessfullyExecutedCode": null,
        "outputsMetadata": {
          "0": {
            "height": 134,
            "type": "dataFrame"
          }
        }
      },
      "id": "c6c14292-1658-44a3-8627-ec1e7f2f8ffe",
      "cell_type": "code",
      "execution_count": 71,
      "outputs": []
    },
    {
      "source": "### Selecting, Boolean Indexing and Setting\n\n### By Position\n\nSelect single value by row and and column",
      "metadata": {},
      "id": "9ba20371-8e7e-47b1-8268-b76424f54618",
      "cell_type": "markdown"
    },
    {
      "source": "df.iloc[0, 0]\ndf.iat[0, 0]",
      "metadata": {
        "executionCancelledAt": null,
        "executionTime": 48,
        "lastExecutedAt": 1726137652963,
        "lastExecutedByKernel": "4bcfc7f9-b0b6-497e-a6bd-cad05494e7ea",
        "lastScheduledRunId": null,
        "lastSuccessfullyExecutedCode": "df.iloc[0, 0]\ndf.iat[0, 0]"
      },
      "id": "bba5070a-fa7f-45fc-9028-2dcf396c4480",
      "cell_type": "code",
      "execution_count": 72,
      "outputs": []
    },
    {
      "source": "### By Label\n\nSelect single value by row and column labels",
      "metadata": {},
      "id": "47b56276-786a-4798-a9f8-e8e411245f0e",
      "cell_type": "markdown"
    },
    {
      "source": "df.loc[0, 'Country']\ndf.at[0, 'Country']",
      "metadata": {
        "executionCancelledAt": null,
        "executionTime": 48,
        "lastExecutedAt": 1726137653011,
        "lastExecutedByKernel": "4bcfc7f9-b0b6-497e-a6bd-cad05494e7ea",
        "lastScheduledRunId": null,
        "lastSuccessfullyExecutedCode": "df.loc[0, 'Country']\ndf.at[0, 'Country']"
      },
      "id": "e7f71980-0b42-4184-b9ab-76277d68402f",
      "cell_type": "code",
      "execution_count": 73,
      "outputs": []
    },
    {
      "source": "### By Label/Position\n\nSelect single row of subset of rows",
      "metadata": {},
      "id": "4578d56c-24dc-40f9-9dad-7dff94a78215",
      "cell_type": "markdown"
    },
    {
      "source": "df.iloc[2]",
      "metadata": {
        "executionCancelledAt": null,
        "executionTime": null,
        "lastExecutedAt": null,
        "lastExecutedByKernel": null,
        "lastScheduledRunId": null,
        "lastSuccessfullyExecutedCode": null,
        "outputsMetadata": {
          "0": {
            "height": 162,
            "type": "dataFrame"
          }
        }
      },
      "id": "9b96c325-ce27-481c-8a16-70dd227a7b01",
      "cell_type": "code",
      "execution_count": 74,
      "outputs": []
    },
    {
      "source": "Select a single column of subset of columns",
      "metadata": {},
      "id": "7ff65e83-165d-4c15-9fcb-fe972b6de090",
      "cell_type": "markdown"
    },
    {
      "source": "df.loc[:, 'Capital']",
      "metadata": {
        "executionCancelledAt": null,
        "executionTime": null,
        "lastExecutedAt": null,
        "lastExecutedByKernel": null,
        "lastScheduledRunId": null,
        "lastSuccessfullyExecutedCode": null,
        "outputsMetadata": {
          "0": {
            "height": 162,
            "type": "dataFrame"
          }
        }
      },
      "id": "68bd4c4b-9958-4f4e-8003-7eb5ce5f7b94",
      "cell_type": "code",
      "execution_count": 75,
      "outputs": []
    },
    {
      "source": "Select rows and columns",
      "metadata": {},
      "id": "3e784065-5fc8-400c-9f31-d3d69ef725cb",
      "cell_type": "markdown"
    },
    {
      "source": "df.loc[1, 'Capital']",
      "metadata": {
        "executionCancelledAt": null,
        "executionTime": 57,
        "lastExecutedAt": 1726137653180,
        "lastExecutedByKernel": "4bcfc7f9-b0b6-497e-a6bd-cad05494e7ea",
        "lastScheduledRunId": null,
        "lastSuccessfullyExecutedCode": "df.loc[1, 'Capital']"
      },
      "id": "a041206b-85ae-4252-b607-d58e4ce9d650",
      "cell_type": "code",
      "execution_count": 76,
      "outputs": []
    },
    {
      "source": "### Boolean Indexing\n\nSeries s where value is not >1",
      "metadata": {},
      "id": "5f3b894e-64bf-420f-8a19-d7995b3707ab",
      "cell_type": "markdown"
    },
    {
      "source": "s[~(s > 1)]",
      "metadata": {
        "executionCancelledAt": null,
        "executionTime": 56,
        "lastExecutedAt": 1726137653236,
        "lastExecutedByKernel": "4bcfc7f9-b0b6-497e-a6bd-cad05494e7ea",
        "lastScheduledRunId": null,
        "lastSuccessfullyExecutedCode": "s[~(s > 1)]",
        "outputsMetadata": {
          "0": {
            "height": 106,
            "type": "dataFrame"
          }
        }
      },
      "id": "26293335-092d-450b-a71d-62d621b92bdd",
      "cell_type": "code",
      "execution_count": 77,
      "outputs": []
    },
    {
      "source": "s where value is <-1 or >2",
      "metadata": {},
      "id": "a65b6e19-b3ea-47bf-a669-db0f7d8dabe9",
      "cell_type": "markdown"
    },
    {
      "source": "s[(s < -1) | (s > 2)]",
      "metadata": {
        "executionCancelledAt": null,
        "executionTime": null,
        "lastExecutedAt": null,
        "lastExecutedByKernel": null,
        "lastScheduledRunId": null,
        "lastSuccessfullyExecutedCode": null,
        "outputsMetadata": {
          "0": {
            "height": 190,
            "type": "dataFrame"
          }
        }
      },
      "id": "636bfbf4-501f-40cb-8ad3-f686eb971a94",
      "cell_type": "code",
      "execution_count": 78,
      "outputs": []
    },
    {
      "source": "Use filter to adjust DataFrame",
      "metadata": {},
      "id": "053ffcfc-f542-472c-8ca6-ffb0fd3fdb2d",
      "cell_type": "markdown"
    },
    {
      "source": "df[df['Population']>1200000000]",
      "metadata": {
        "executionCancelledAt": null,
        "executionTime": null,
        "lastExecutedAt": null,
        "lastExecutedByKernel": null,
        "lastScheduledRunId": null,
        "lastSuccessfullyExecutedCode": null,
        "outputsMetadata": {
          "0": {
            "height": 106,
            "type": "dataFrame"
          }
        }
      },
      "id": "014e5eab-37d5-458a-bc08-30c6a8f4d4b9",
      "cell_type": "code",
      "execution_count": 79,
      "outputs": []
    },
    {
      "source": "### Setting\n\nSet index a of Series s to 6",
      "metadata": {},
      "id": "7120b362-4d72-499b-8da0-5fa64b5894e4",
      "cell_type": "markdown"
    },
    {
      "source": "s['a'] = 6",
      "metadata": {
        "executionCancelledAt": null,
        "executionTime": 52,
        "lastExecutedAt": 1726137653399,
        "lastExecutedByKernel": "4bcfc7f9-b0b6-497e-a6bd-cad05494e7ea",
        "lastScheduledRunId": null,
        "lastSuccessfullyExecutedCode": "s['a'] = 6"
      },
      "id": "6e971342-1f6c-469b-9b63-820c8ecafc49",
      "cell_type": "code",
      "execution_count": 80,
      "outputs": []
    },
    {
      "source": "## Dropping\n\nDrop values from rows (axis=0)",
      "metadata": {},
      "id": "0f63de45-cb75-479f-87ce-4721527619bd",
      "cell_type": "markdown"
    },
    {
      "source": "s.drop(['a',  'c'])",
      "metadata": {
        "executionCancelledAt": null,
        "executionTime": null,
        "lastExecutedAt": null,
        "lastExecutedByKernel": null,
        "lastScheduledRunId": null,
        "lastSuccessfullyExecutedCode": null,
        "outputsMetadata": {
          "0": {
            "height": 134,
            "type": "dataFrame"
          }
        }
      },
      "id": "a8c07983-d394-4d0a-b877-faeb36b4f492",
      "cell_type": "code",
      "execution_count": 81,
      "outputs": []
    },
    {
      "source": "Drop values from columns(axis=1)",
      "metadata": {},
      "id": "a3d7ec86-8e37-4174-b1ba-3da0a58ffb33",
      "cell_type": "markdown"
    },
    {
      "source": "df.drop('Country', axis=1)",
      "metadata": {
        "executionCancelledAt": null,
        "executionTime": null,
        "lastExecutedAt": null,
        "lastExecutedByKernel": null,
        "lastScheduledRunId": null,
        "lastSuccessfullyExecutedCode": null,
        "outputsMetadata": {
          "0": {
            "height": 162,
            "type": "dataFrame"
          }
        }
      },
      "id": "249b826a-ea5b-4c37-a63b-a9c3d758c8b4",
      "cell_type": "code",
      "execution_count": 82,
      "outputs": []
    },
    {
      "source": "### Sort and Rank\n\nSort by labels along an axis",
      "metadata": {},
      "id": "ca828155-dad5-4cc8-a5bf-a84a37373b3b",
      "cell_type": "markdown"
    },
    {
      "source": "df.sort_index()",
      "metadata": {
        "executionCancelledAt": null,
        "executionTime": null,
        "lastExecutedAt": null,
        "lastExecutedByKernel": null,
        "lastScheduledRunId": null,
        "lastSuccessfullyExecutedCode": null,
        "outputsMetadata": {
          "0": {
            "height": 162,
            "type": "dataFrame"
          }
        }
      },
      "id": "b6f1b07c-c3a9-42cb-8db9-c8bf9e3344c1",
      "cell_type": "code",
      "execution_count": 83,
      "outputs": []
    },
    {
      "source": "Sort by the values along an axis",
      "metadata": {},
      "id": "029f1f36-d054-4912-9599-b7247179d890",
      "cell_type": "markdown"
    },
    {
      "source": "df.sort_values(by='Country')",
      "metadata": {
        "executionCancelledAt": null,
        "executionTime": null,
        "lastExecutedAt": null,
        "lastExecutedByKernel": null,
        "lastScheduledRunId": null,
        "lastSuccessfullyExecutedCode": null,
        "outputsMetadata": {
          "0": {
            "height": 162,
            "type": "dataFrame"
          }
        }
      },
      "id": "eeede90b-a63d-4af1-ab07-e13924a38912",
      "cell_type": "code",
      "execution_count": 84,
      "outputs": []
    },
    {
      "source": "Assign ranks to entries",
      "metadata": {},
      "id": "a682a56d-f47a-42c1-87df-00266ed1de6d",
      "cell_type": "markdown"
    },
    {
      "source": "df.rank()",
      "metadata": {
        "executionCancelledAt": null,
        "executionTime": null,
        "lastExecutedAt": null,
        "lastExecutedByKernel": null,
        "lastScheduledRunId": null,
        "lastSuccessfullyExecutedCode": null,
        "outputsMetadata": {
          "0": {
            "height": 162,
            "type": "dataFrame"
          }
        }
      },
      "id": "931ca093-2a7b-48ce-b167-8fce28bddc72",
      "cell_type": "code",
      "execution_count": 85,
      "outputs": []
    },
    {
      "source": "## Retrieving Series/DataFrame Information\n\n### Basic Information\n\n(rows, columns)",
      "metadata": {},
      "id": "ec9c852a-31b6-4a3a-8426-ad75ac29219e",
      "cell_type": "markdown"
    },
    {
      "source": "df.shape",
      "metadata": {
        "executionCancelledAt": null,
        "executionTime": 56,
        "lastExecutedAt": 1726137653728,
        "lastExecutedByKernel": "4bcfc7f9-b0b6-497e-a6bd-cad05494e7ea",
        "lastScheduledRunId": null,
        "lastSuccessfullyExecutedCode": "df.shape"
      },
      "id": "ea6bbfb9-be04-4abb-958f-5702abc2844c",
      "cell_type": "code",
      "execution_count": 86,
      "outputs": []
    },
    {
      "source": "Describe index",
      "metadata": {},
      "id": "ca3abb57-2fa6-4195-84bd-9a41d094cc46",
      "cell_type": "markdown"
    },
    {
      "source": "df.index",
      "metadata": {
        "executionCancelledAt": null,
        "executionTime": 52,
        "lastExecutedAt": 1726137653780,
        "lastExecutedByKernel": "4bcfc7f9-b0b6-497e-a6bd-cad05494e7ea",
        "lastScheduledRunId": null,
        "lastSuccessfullyExecutedCode": "df.index"
      },
      "id": "ca17c03e-4220-4f7c-be91-a808faa4ef0d",
      "cell_type": "code",
      "execution_count": 87,
      "outputs": []
    },
    {
      "source": "Describe DataFrame columns",
      "metadata": {},
      "id": "866dcfb5-b56b-46ad-bbe4-f45abf27191a",
      "cell_type": "markdown"
    },
    {
      "source": "df.columns",
      "metadata": {
        "executionCancelledAt": null,
        "executionTime": 56,
        "lastExecutedAt": 1726137653836,
        "lastExecutedByKernel": "4bcfc7f9-b0b6-497e-a6bd-cad05494e7ea",
        "lastScheduledRunId": null,
        "lastSuccessfullyExecutedCode": "df.columns"
      },
      "id": "87341283-a9d2-472f-af1d-ede898f11296",
      "cell_type": "code",
      "execution_count": 88,
      "outputs": []
    },
    {
      "source": "Info on DataFrame",
      "metadata": {},
      "id": "782a275e-c880-4310-8b4a-f567e0a93bc9",
      "cell_type": "markdown"
    },
    {
      "source": "df.info()",
      "metadata": {
        "executionCancelledAt": null,
        "executionTime": 59,
        "lastExecutedAt": 1726137653895,
        "lastExecutedByKernel": "4bcfc7f9-b0b6-497e-a6bd-cad05494e7ea",
        "lastScheduledRunId": null,
        "lastSuccessfullyExecutedCode": "df.info()",
        "outputsMetadata": {
          "0": {
            "height": 227,
            "type": "stream"
          }
        },
        "collapsed": false,
        "jupyter": {
          "outputs_hidden": false,
          "source_hidden": false
        }
      },
      "id": "c65716c9-818f-455d-bb47-c2458889c1e0",
      "cell_type": "code",
      "execution_count": 89,
      "outputs": []
    },
    {
      "source": "Number of non-NA values",
      "metadata": {},
      "id": "64e89e28-55d8-4fd3-bc4a-cdba728bd8c4",
      "cell_type": "markdown"
    },
    {
      "source": "df.count()",
      "metadata": {
        "executionCancelledAt": null,
        "executionTime": null,
        "lastExecutedAt": null,
        "lastExecutedByKernel": null,
        "lastScheduledRunId": null,
        "lastSuccessfullyExecutedCode": null,
        "outputsMetadata": {
          "0": {
            "height": 162,
            "type": "dataFrame"
          }
        }
      },
      "id": "0c1bfe5f-a9e1-410c-95cb-1af646eb51e7",
      "cell_type": "code",
      "execution_count": 90,
      "outputs": []
    },
    {
      "source": "### Summary\n\nSum of values",
      "metadata": {},
      "id": "5e7986f1-86dc-4b63-a849-5be7375e4d9d",
      "cell_type": "markdown"
    },
    {
      "source": "df.sum()",
      "metadata": {
        "executionCancelledAt": null,
        "executionTime": null,
        "lastExecutedAt": null,
        "lastExecutedByKernel": null,
        "lastScheduledRunId": null,
        "lastSuccessfullyExecutedCode": null,
        "outputsMetadata": {
          "0": {
            "height": 162,
            "type": "dataFrame"
          }
        }
      },
      "id": "8b12f630-573f-4422-b2ee-82e39019f6e9",
      "cell_type": "code",
      "execution_count": 91,
      "outputs": []
    },
    {
      "source": "Cumulative sum of values",
      "metadata": {},
      "id": "43046f89-dfc3-4b74-be28-6f96be110e1a",
      "cell_type": "markdown"
    },
    {
      "source": "df.cumsum()",
      "metadata": {
        "executionCancelledAt": null,
        "executionTime": null,
        "lastExecutedAt": null,
        "lastExecutedByKernel": null,
        "lastScheduledRunId": null,
        "lastSuccessfullyExecutedCode": null,
        "outputsMetadata": {
          "0": {
            "height": 162,
            "type": "dataFrame"
          }
        }
      },
      "id": "41f2127b-b958-4667-a10a-1b2ab53d4720",
      "cell_type": "code",
      "execution_count": 92,
      "outputs": []
    },
    {
      "source": "Minimum/maximum values",
      "metadata": {},
      "id": "f0151926-af4c-452c-8195-971332ff9295",
      "cell_type": "markdown"
    },
    {
      "source": "numeric_df = df.select_dtypes(include='number')\nnumeric_df.min()/numeric_df.max()",
      "metadata": {
        "executionCancelledAt": null,
        "executionTime": null,
        "lastExecutedAt": null,
        "lastExecutedByKernel": null,
        "lastScheduledRunId": null,
        "lastSuccessfullyExecutedCode": null,
        "collapsed": false,
        "jupyter": {
          "outputs_hidden": false,
          "source_hidden": false
        },
        "outputsMetadata": {
          "0": {
            "height": 106,
            "type": "dataFrame"
          }
        }
      },
      "id": "46d2fdd5-0a02-4924-bd40-0275f784f671",
      "cell_type": "code",
      "execution_count": 93,
      "outputs": []
    },
    {
      "source": "Minimum/Maximum index value",
      "metadata": {},
      "id": "eb94d612-514f-4af9-87bd-562eaaf0ebfb",
      "cell_type": "markdown"
    },
    {
      "source": "df.idxmin()/df.idxmax()",
      "metadata": {
        "executionCancelledAt": null,
        "executionTime": null,
        "lastExecutedAt": null,
        "lastExecutedByKernel": null,
        "lastScheduledRunId": null,
        "lastSuccessfullyExecutedCode": null,
        "outputsMetadata": {
          "0": {
            "height": 162,
            "type": "dataFrame"
          }
        }
      },
      "id": "f33cd6e8-bcad-4a02-92b0-da3bfcdcc4d5",
      "cell_type": "code",
      "execution_count": 94,
      "outputs": []
    },
    {
      "source": "Summary statistics",
      "metadata": {},
      "id": "6e9b1f2e-37ec-432e-ac7b-8356e9852b96",
      "cell_type": "markdown"
    },
    {
      "source": "df.describe()",
      "metadata": {
        "executionCancelledAt": null,
        "executionTime": null,
        "lastExecutedAt": null,
        "lastExecutedByKernel": null,
        "lastScheduledRunId": null,
        "lastSuccessfullyExecutedCode": null,
        "outputsMetadata": {
          "0": {
            "height": 302,
            "type": "dataFrame"
          }
        }
      },
      "id": "18525356-e3ca-4a15-87ed-2ce674e6f2fd",
      "cell_type": "code",
      "execution_count": 95,
      "outputs": []
    },
    {
      "source": "Mean of values",
      "metadata": {},
      "id": "182884d9-4170-4522-baf0-6a9e2255c45f",
      "cell_type": "markdown"
    },
    {
      "source": "numeric_df.mean()",
      "metadata": {
        "executionCancelledAt": null,
        "executionTime": null,
        "lastExecutedAt": null,
        "lastExecutedByKernel": null,
        "lastScheduledRunId": null,
        "lastSuccessfullyExecutedCode": null,
        "outputsMetadata": {
          "0": {
            "height": 106,
            "type": "dataFrame"
          }
        }
      },
      "id": "42017153-00c2-4dfa-bc41-e27d84fe6296",
      "cell_type": "code",
      "execution_count": 96,
      "outputs": []
    },
    {
      "source": "Median of values",
      "metadata": {},
      "id": "41ad7d51-700f-4bb5-a8a6-0da2ae648acd",
      "cell_type": "markdown"
    },
    {
      "source": "numeric_df.median()",
      "metadata": {
        "executionCancelledAt": null,
        "executionTime": null,
        "lastExecutedAt": null,
        "lastExecutedByKernel": null,
        "lastScheduledRunId": null,
        "lastSuccessfullyExecutedCode": null,
        "outputsMetadata": {
          "0": {
            "height": 106,
            "type": "dataFrame"
          }
        }
      },
      "id": "4b59c06f-eabd-421a-8b43-70ccc825c0f7",
      "cell_type": "code",
      "execution_count": 97,
      "outputs": []
    },
    {
      "source": "## Applying Functions",
      "metadata": {},
      "id": "8c4c3355-81bb-4ff1-b9de-05173df6a800",
      "cell_type": "markdown"
    },
    {
      "source": "f = lambda x: x*2",
      "metadata": {
        "executionCancelledAt": null,
        "executionTime": 48,
        "lastExecutedAt": 1726137654371,
        "lastExecutedByKernel": "4bcfc7f9-b0b6-497e-a6bd-cad05494e7ea",
        "lastScheduledRunId": null,
        "lastSuccessfullyExecutedCode": "f = lambda x: x*2"
      },
      "id": "278f78b7-9662-4f79-91e3-9a25debf6fc3",
      "cell_type": "code",
      "execution_count": 98,
      "outputs": []
    },
    {
      "source": "Apply function",
      "metadata": {},
      "id": "f42fb1cc-f1ba-488e-b7de-86355960582c",
      "cell_type": "markdown"
    },
    {
      "source": "df.apply(f)",
      "metadata": {
        "executionCancelledAt": null,
        "executionTime": null,
        "lastExecutedAt": null,
        "lastExecutedByKernel": null,
        "lastScheduledRunId": null,
        "lastSuccessfullyExecutedCode": null,
        "outputsMetadata": {
          "0": {
            "height": 162,
            "type": "dataFrame"
          }
        }
      },
      "id": "39b7d994-3c8d-48b8-b363-fc4fccd7f6ad",
      "cell_type": "code",
      "execution_count": 99,
      "outputs": []
    },
    {
      "source": "Apply function element-wise",
      "metadata": {},
      "id": "13d32fa6-903b-4898-8c8a-2d7b7eec5531",
      "cell_type": "markdown"
    },
    {
      "source": "df.applymap(f)",
      "metadata": {
        "executionCancelledAt": null,
        "executionTime": null,
        "lastExecutedAt": null,
        "lastExecutedByKernel": null,
        "lastScheduledRunId": null,
        "lastSuccessfullyExecutedCode": null,
        "outputsMetadata": {
          "0": {
            "height": 162,
            "type": "dataFrame"
          }
        }
      },
      "id": "5b958c26-2434-48cf-a81a-b7175e318ee4",
      "cell_type": "code",
      "execution_count": 100,
      "outputs": []
    },
    {
      "source": "### Internal Data Alignment\n\nNA values are introduced in the indices that don't overlap:",
      "metadata": {},
      "id": "e176dd2c-aa36-4f56-9fd8-fb2eb8103afd",
      "cell_type": "markdown"
    },
    {
      "source": "s3 = pd.Series([7, -2, 3],  index=['a',  'c',  'd'])\ns + s3",
      "metadata": {
        "executionCancelledAt": null,
        "executionTime": null,
        "lastExecutedAt": null,
        "lastExecutedByKernel": null,
        "lastScheduledRunId": null,
        "lastSuccessfullyExecutedCode": null,
        "outputsMetadata": {
          "0": {
            "height": 190,
            "type": "dataFrame"
          }
        }
      },
      "id": "17f94f9d-7d93-44dd-ab60-fd36de3317a4",
      "cell_type": "code",
      "execution_count": 101,
      "outputs": []
    },
    {
      "source": "### Arithmetic Operations with Fill Methods\n\nYou can also do the internal data alignment yourself with the help of the fill methods:",
      "metadata": {},
      "id": "92a6738a-05cf-46c1-9bd2-27c3905be7cc",
      "cell_type": "markdown"
    },
    {
      "source": "print(s.add(s3, fill_value=0))\n\ns.sub(s3, fill_value=2)\ns.div(s3, fill_value=4)\ns.mul(s3, fill_value=3)",
      "metadata": {
        "executionCancelledAt": null,
        "executionTime": 55,
        "lastExecutedAt": 1726137654591,
        "lastExecutedByKernel": "4bcfc7f9-b0b6-497e-a6bd-cad05494e7ea",
        "lastScheduledRunId": null,
        "lastSuccessfullyExecutedCode": "print(s.add(s3, fill_value=0))\n\ns.sub(s3, fill_value=2)\ns.div(s3, fill_value=4)\ns.mul(s3, fill_value=3)",
        "outputsMetadata": {
          "0": {
            "height": 122,
            "type": "stream"
          },
          "1": {
            "height": 190,
            "type": "dataFrame"
          }
        },
        "collapsed": false,
        "jupyter": {
          "outputs_hidden": false,
          "source_hidden": false
        }
      },
      "id": "c89d6f8d-048c-4f9c-96a0-cca9004708d1",
      "cell_type": "code",
      "execution_count": 102,
      "outputs": []
    },
    {
      "source": "## Learn more about pandas\n\n[Joining Data with pandas](https://www.datacamp.com/courses/joining-data-with-pandas)\n\n[Reshaping Data with pandas](https://www.datacamp.com/courses/reshaping-data-with-pandas)\n\n[Data Manipulation with pandas](https://www.datacamp.com/courses/data-manipulation-with-pandas)\n\n[Writing Efficient Code with pandas](https://www.datacamp.com/courses/writing-efficient-code-with-pandas)",
      "metadata": {},
      "id": "cc93925f-6852-45e8-9fe4-2b784373e19a",
      "cell_type": "markdown"
    }
  ],
  "metadata": {
    "language_info": {
      "name": "python",
      "version": "3.10.12",
      "mimetype": "text/x-python",
      "codemirror_mode": {
        "name": "ipython",
        "version": 3
      },
      "pygments_lexer": "ipython3",
      "nbconvert_exporter": "python",
      "file_extension": ".py"
    },
    "kernelspec": {
      "display_name": "Python 3 (ipykernel)",
      "language": "python",
      "name": "python3"
    },
    "editor": "DataLab"
  },
  "nbformat": 4,
  "nbformat_minor": 5
}
