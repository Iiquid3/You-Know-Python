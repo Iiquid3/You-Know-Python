{
 "cells": [
  {
   "cell_type": "markdown",
   "id": "a24a96b2-c87c-432c-9877-8cd3db366934",
   "metadata": {},
   "source": [
    "# Pandas Cheat Sheet for Data Science in Python\n",
    "\n",
    "A quick guide to the basics of the Python data analysis library Pandas, including code samples."
   ]
  },
  {
   "cell_type": "markdown",
   "id": "fcd0d2a6-ab15-4fed-a105-036625750076",
   "metadata": {},
   "source": [
    "The [Pandas](http://pandas.pydata.org) library is one of the most preferred tools for data scientists to do data manipulation and analysis, next to [matplotlib](http://matplotlib.org) for data visualization and [NumPy](http://www.numpy.org).\n",
    "\n",
    "The fast, flexible, and expressive Pandas data structures are designed to make real-world data analysis significantly easier, but this might not be immediately the case for those who are just getting started with it. Exactly because there is so much functionality built into this package that the options are overwhelming.\n",
    "\n",
    "That's where this Pandas cheat sheet might come in handy. \n",
    "\n",
    "It's a quick guide through the basics of Pandas that you will need to get started on wrangling your data with Python. \n",
    "\n",
    "As such, you can use it as a handy reference if you are just beginning their data science journey with Pandas or, for those of you who already haven't started yet, you can just use it as a guide to make it easier to learn about and use it. "
   ]
  },
  {
   "cell_type": "markdown",
   "id": "89e91122-9971-49af-944a-0f8d0444fb7b",
   "metadata": {},
   "source": [
    "The Pandas cheat sheet will guide you through the basics of the Pandas library, going from the data structuresto I/O, selection, dropping indices or columns, sorting and ranking, retrieving basic information of the data structures you're working with to applying functions and data alignment.\n",
    "\n"
   ]
  },
  {
   "cell_type": "markdown",
   "id": "6e2ef602-3ea6-45fb-8732-07a0a36385cb",
   "metadata": {},
   "source": [
    "## Python For Data Science Cheat Sheet: Pandas Basics\n",
    "\n",
    "Use the following import convention:"
   ]
  },
  {
   "cell_type": "code",
   "execution_count": 62,
   "id": "5eb4cbac-057c-4b58-a1a0-f0d755dac9ef",
   "metadata": {
    "executionCancelledAt": null,
    "executionTime": 49,
    "lastExecutedAt": 1726137652471,
    "lastExecutedByKernel": "4bcfc7f9-b0b6-497e-a6bd-cad05494e7ea",
    "lastScheduledRunId": null,
    "lastSuccessfullyExecutedCode": "import pandas as pd"
   },
   "outputs": [],
   "source": [
    "import pandas as pd"
   ]
  },
  {
   "cell_type": "markdown",
   "id": "86e4431b-2272-4213-86eb-e193033a00e6",
   "metadata": {},
   "source": [
    "### Pandas Data Structures\n",
    "\n",
    "\n",
    "### Series\n",
    "\n",
    "A one-dimensional labeled array capable of holding any data type"
   ]
  },
  {
   "cell_type": "code",
   "execution_count": 63,
   "id": "ddf3b80d-c766-4cd5-862e-07374cf77211",
   "metadata": {
    "collapsed": false,
    "executionCancelledAt": null,
    "executionTime": 52,
    "jupyter": {
     "outputs_hidden": false,
     "source_hidden": false
    },
    "lastExecutedAt": 1726137652524,
    "lastExecutedByKernel": "4bcfc7f9-b0b6-497e-a6bd-cad05494e7ea",
    "lastScheduledRunId": null,
    "lastSuccessfullyExecutedCode": "s = pd.Series([3, -5, 7, 4],  index=['a',  'b',  'c',  'd'])\ns",
    "outputsMetadata": {
     "0": {
      "height": 190,
      "type": "dataFrame"
     }
    }
   },
   "outputs": [],
   "source": [
    "s = pd.Series([3, -5, 7, 4],  index=['a',  'b',  'c',  'd'])\n",
    "s"
   ]
  },
  {
   "cell_type": "markdown",
   "id": "79ad3ac2-ca5d-4e9a-a58f-5bfc34ac0c2a",
   "metadata": {},
   "source": [
    "### DataFrame\n",
    "\n",
    "A two-dimensional labeled data structure with columns of potentially different types"
   ]
  },
  {
   "cell_type": "code",
   "execution_count": 64,
   "id": "3f69e972-adad-4566-800c-ea20c9845447",
   "metadata": {
    "collapsed": false,
    "executionCancelledAt": null,
    "executionTime": 47,
    "jupyter": {
     "outputs_hidden": false,
     "source_hidden": false
    },
    "lastExecutedAt": 1726137652571,
    "lastExecutedByKernel": "4bcfc7f9-b0b6-497e-a6bd-cad05494e7ea",
    "lastScheduledRunId": null,
    "lastSuccessfullyExecutedCode": "data = {'Country': ['Belgium',  'India',  'Brazil'],\n\n'Capital': ['Brussels',  'New Delhi',  'Brasilia'],\n\n'Population': [11190846, 1303171035, 207847528]} \n\ndf = pd.DataFrame(data,columns=['Country',  'Capital',  'Population'])\ndf",
    "outputsMetadata": {
     "0": {
      "height": 189,
      "type": "dataFrame"
     }
    }
   },
   "outputs": [],
   "source": [
    "data = {'Country': ['Belgium',  'India',  'Brazil'],\n",
    "\n",
    "'Capital': ['Brussels',  'New Delhi',  'Brasilia'],\n",
    "\n",
    "'Population': [11190846, 1303171035, 207847528]} \n",
    "\n",
    "df = pd.DataFrame(data,columns=['Country',  'Capital',  'Population'])\n",
    "df"
   ]
  },
  {
   "cell_type": "markdown",
   "id": "afdca66a-4da1-474e-8b23-ad22a3f2d53c",
   "metadata": {},
   "source": [
    "Please note that the first column **1**,**2**,**3** is the index and **Country**,**Capital**,**Population** are the Columns.\n",
    "\n",
    "### Asking For Help"
   ]
  },
  {
   "cell_type": "code",
   "execution_count": 65,
   "id": "cf89df56-9329-485d-8a49-e28282f05854",
   "metadata": {
    "collapsed": false,
    "executionCancelledAt": null,
    "executionTime": 49,
    "jupyter": {
     "outputs_hidden": false,
     "source_hidden": false
    },
    "lastExecutedAt": 1726137652620,
    "lastExecutedByKernel": "4bcfc7f9-b0b6-497e-a6bd-cad05494e7ea",
    "lastScheduledRunId": null,
    "lastSuccessfullyExecutedCode": "help(pd.Series.loc)",
    "outputsMetadata": {
     "0": {
      "height": 616,
      "type": "stream"
     }
    }
   },
   "outputs": [],
   "source": [
    "help(pd.Series.loc)"
   ]
  },
  {
   "cell_type": "markdown",
   "id": "ba8e1343-06fe-4342-9057-2cafb6c421ef",
   "metadata": {},
   "source": [
    "## I/O\n",
    "\n",
    "### Read and Write to CSV"
   ]
  },
  {
   "cell_type": "code",
   "execution_count": 66,
   "id": "60be1ca0-8726-431f-9da4-717ce65a1a98",
   "metadata": {
    "executionCancelledAt": null,
    "executionTime": 47,
    "lastExecutedAt": 1726137652667,
    "lastExecutedByKernel": "4bcfc7f9-b0b6-497e-a6bd-cad05494e7ea",
    "lastScheduledRunId": null,
    "lastSuccessfullyExecutedCode": "def read_csv():\n    pd.read_csv('file.csv', header=None, nrows=5)\n    df.to_csv('myDataFrame.csv')"
   },
   "outputs": [],
   "source": [
    "def read_csv():\n",
    "    pd.read_csv('file.csv', header=None, nrows=5)\n",
    "    df.to_csv('myDataFrame.csv')"
   ]
  },
  {
   "cell_type": "markdown",
   "id": "2df0fdfb-0bce-4704-b05a-2bec0eda1176",
   "metadata": {},
   "source": [
    "### Read multiple sheets from the same file"
   ]
  },
  {
   "cell_type": "code",
   "execution_count": 67,
   "id": "2b138118-46f0-41b8-9a82-f3afb5ce90c9",
   "metadata": {
    "executionCancelledAt": null,
    "executionTime": 48,
    "lastExecutedAt": 1726137652715,
    "lastExecutedByKernel": "4bcfc7f9-b0b6-497e-a6bd-cad05494e7ea",
    "lastScheduledRunId": null,
    "lastSuccessfullyExecutedCode": "def read_sheets():\n    xlsx = pd.ExcelFile('file.xls')\n    df = pd.read_excel(xlsx, 'Sheet1')"
   },
   "outputs": [],
   "source": [
    "def read_sheets():\n",
    "    xlsx = pd.ExcelFile('file.xls')\n",
    "    df = pd.read_excel(xlsx, 'Sheet1')"
   ]
  },
  {
   "cell_type": "markdown",
   "id": "616e24c3-75b0-47de-a33d-41a184e96e8b",
   "metadata": {},
   "source": [
    "### Read and Write to Excel"
   ]
  },
  {
   "cell_type": "code",
   "execution_count": 68,
   "id": "ad5fe3c7-2958-4f9c-988e-ed89cadd70b1",
   "metadata": {
    "executionCancelledAt": null,
    "executionTime": 48,
    "lastExecutedAt": 1726137652763,
    "lastExecutedByKernel": "4bcfc7f9-b0b6-497e-a6bd-cad05494e7ea",
    "lastScheduledRunId": null,
    "lastSuccessfullyExecutedCode": "def read_write_sheets():\n    pd.read_excel('file.xlsx')\n    df.to_excel('dir/myDataFrame.xlsx', sheet_name='Sheet1')"
   },
   "outputs": [],
   "source": [
    "def read_write_sheets():\n",
    "    pd.read_excel('file.xlsx')\n",
    "    df.to_excel('dir/myDataFrame.xlsx', sheet_name='Sheet1')"
   ]
  },
  {
   "cell_type": "markdown",
   "id": "f58edb7e-7b5b-40ea-a30b-1c119c57d70f",
   "metadata": {},
   "source": [
    "### Read and Write to SQL Query or Database Table\n",
    "\n",
    "(read_sql()is a convenience wrapper around read_sql_table() and read_sql_query())"
   ]
  },
  {
   "cell_type": "code",
   "execution_count": 69,
   "id": "2f216369-3cce-4ee9-a5e3-76caa3f064c1",
   "metadata": {
    "collapsed": false,
    "executionCancelledAt": null,
    "executionTime": 47,
    "jupyter": {
     "outputs_hidden": false,
     "source_hidden": false
    },
    "lastExecutedAt": 1726137652811,
    "lastExecutedByKernel": "4bcfc7f9-b0b6-497e-a6bd-cad05494e7ea",
    "lastScheduledRunId": null,
    "lastSuccessfullyExecutedCode": "from sqlalchemy import create_engine\n\ndef query_sqlite():\n    engine = create_engine('sqlite:///:memory:')\n    pd.read_sql('SELECT * FROM my_table;', engine)\n    pd.read_sql_table('my_table', engine)\n    pd.read_sql_query('SELECT * FROM my_table;', engine)\n    df.to_sql('myDf', engine)"
   },
   "outputs": [],
   "source": [
    "from sqlalchemy import create_engine\n",
    "\n",
    "def query_sqlite():\n",
    "    engine = create_engine('sqlite:///:memory:')\n",
    "    pd.read_sql('SELECT * FROM my_table;', engine)\n",
    "    pd.read_sql_table('my_table', engine)\n",
    "    pd.read_sql_query('SELECT * FROM my_table;', engine)\n",
    "    df.to_sql('myDf', engine)"
   ]
  },
  {
   "cell_type": "markdown",
   "id": "664132f4-eebe-4647-8f94-3bcc31bab94a",
   "metadata": {},
   "source": [
    "## Selection\n",
    "\n",
    "### Getting\n",
    "\n",
    "Get one element"
   ]
  },
  {
   "cell_type": "code",
   "execution_count": 70,
   "id": "1390ef7c-e573-4cf9-afa7-f8f4dc2c1efc",
   "metadata": {
    "executionCancelledAt": null,
    "executionTime": 48,
    "lastExecutedAt": 1726137652859,
    "lastExecutedByKernel": "4bcfc7f9-b0b6-497e-a6bd-cad05494e7ea",
    "lastScheduledRunId": null,
    "lastSuccessfullyExecutedCode": "s['b']\n-5"
   },
   "outputs": [],
   "source": [
    "s['b']\n",
    "-5"
   ]
  },
  {
   "cell_type": "markdown",
   "id": "a3c60e95-2e01-49ac-86a4-7973131c0302",
   "metadata": {},
   "source": [
    "Get subset of a DataFrame"
   ]
  },
  {
   "cell_type": "code",
   "execution_count": 71,
   "id": "c6c14292-1658-44a3-8627-ec1e7f2f8ffe",
   "metadata": {
    "executionCancelledAt": null,
    "executionTime": null,
    "lastExecutedAt": null,
    "lastExecutedByKernel": null,
    "lastScheduledRunId": null,
    "lastSuccessfullyExecutedCode": null,
    "outputsMetadata": {
     "0": {
      "height": 134,
      "type": "dataFrame"
     }
    }
   },
   "outputs": [],
   "source": [
    "df[1:]"
   ]
  },
  {
   "cell_type": "markdown",
   "id": "9ba20371-8e7e-47b1-8268-b76424f54618",
   "metadata": {},
   "source": [
    "### Selecting, Boolean Indexing and Setting\n",
    "\n",
    "### By Position\n",
    "\n",
    "Select single value by row and and column"
   ]
  },
  {
   "cell_type": "code",
   "execution_count": 72,
   "id": "bba5070a-fa7f-45fc-9028-2dcf396c4480",
   "metadata": {
    "executionCancelledAt": null,
    "executionTime": 48,
    "lastExecutedAt": 1726137652963,
    "lastExecutedByKernel": "4bcfc7f9-b0b6-497e-a6bd-cad05494e7ea",
    "lastScheduledRunId": null,
    "lastSuccessfullyExecutedCode": "df.iloc[0, 0]\ndf.iat[0, 0]"
   },
   "outputs": [],
   "source": [
    "df.iloc[0, 0]\n",
    "df.iat[0, 0]"
   ]
  },
  {
   "cell_type": "markdown",
   "id": "47b56276-786a-4798-a9f8-e8e411245f0e",
   "metadata": {},
   "source": [
    "### By Label\n",
    "\n",
    "Select single value by row and column labels"
   ]
  },
  {
   "cell_type": "code",
   "execution_count": 73,
   "id": "e7f71980-0b42-4184-b9ab-76277d68402f",
   "metadata": {
    "executionCancelledAt": null,
    "executionTime": 48,
    "lastExecutedAt": 1726137653011,
    "lastExecutedByKernel": "4bcfc7f9-b0b6-497e-a6bd-cad05494e7ea",
    "lastScheduledRunId": null,
    "lastSuccessfullyExecutedCode": "df.loc[0, 'Country']\ndf.at[0, 'Country']"
   },
   "outputs": [],
   "source": [
    "df.loc[0, 'Country']\n",
    "df.at[0, 'Country']"
   ]
  },
  {
   "cell_type": "markdown",
   "id": "4578d56c-24dc-40f9-9dad-7dff94a78215",
   "metadata": {},
   "source": [
    "### By Label/Position\n",
    "\n",
    "Select single row of subset of rows"
   ]
  },
  {
   "cell_type": "code",
   "execution_count": 74,
   "id": "9b96c325-ce27-481c-8a16-70dd227a7b01",
   "metadata": {
    "executionCancelledAt": null,
    "executionTime": null,
    "lastExecutedAt": null,
    "lastExecutedByKernel": null,
    "lastScheduledRunId": null,
    "lastSuccessfullyExecutedCode": null,
    "outputsMetadata": {
     "0": {
      "height": 162,
      "type": "dataFrame"
     }
    }
   },
   "outputs": [],
   "source": [
    "df.iloc[2]"
   ]
  },
  {
   "cell_type": "markdown",
   "id": "7ff65e83-165d-4c15-9fcb-fe972b6de090",
   "metadata": {},
   "source": [
    "Select a single column of subset of columns"
   ]
  },
  {
   "cell_type": "code",
   "execution_count": 75,
   "id": "68bd4c4b-9958-4f4e-8003-7eb5ce5f7b94",
   "metadata": {
    "executionCancelledAt": null,
    "executionTime": null,
    "lastExecutedAt": null,
    "lastExecutedByKernel": null,
    "lastScheduledRunId": null,
    "lastSuccessfullyExecutedCode": null,
    "outputsMetadata": {
     "0": {
      "height": 162,
      "type": "dataFrame"
     }
    }
   },
   "outputs": [],
   "source": [
    "df.loc[:, 'Capital']"
   ]
  },
  {
   "cell_type": "markdown",
   "id": "3e784065-5fc8-400c-9f31-d3d69ef725cb",
   "metadata": {},
   "source": [
    "Select rows and columns"
   ]
  },
  {
   "cell_type": "code",
   "execution_count": 76,
   "id": "a041206b-85ae-4252-b607-d58e4ce9d650",
   "metadata": {
    "executionCancelledAt": null,
    "executionTime": 57,
    "lastExecutedAt": 1726137653180,
    "lastExecutedByKernel": "4bcfc7f9-b0b6-497e-a6bd-cad05494e7ea",
    "lastScheduledRunId": null,
    "lastSuccessfullyExecutedCode": "df.loc[1, 'Capital']"
   },
   "outputs": [],
   "source": [
    "df.loc[1, 'Capital']"
   ]
  },
  {
   "cell_type": "markdown",
   "id": "5f3b894e-64bf-420f-8a19-d7995b3707ab",
   "metadata": {},
   "source": [
    "### Boolean Indexing\n",
    "\n",
    "Series s where value is not >1"
   ]
  },
  {
   "cell_type": "code",
   "execution_count": 77,
   "id": "26293335-092d-450b-a71d-62d621b92bdd",
   "metadata": {
    "executionCancelledAt": null,
    "executionTime": 56,
    "lastExecutedAt": 1726137653236,
    "lastExecutedByKernel": "4bcfc7f9-b0b6-497e-a6bd-cad05494e7ea",
    "lastScheduledRunId": null,
    "lastSuccessfullyExecutedCode": "s[~(s > 1)]",
    "outputsMetadata": {
     "0": {
      "height": 106,
      "type": "dataFrame"
     }
    }
   },
   "outputs": [],
   "source": [
    "s[~(s > 1)]"
   ]
  },
  {
   "cell_type": "markdown",
   "id": "a65b6e19-b3ea-47bf-a669-db0f7d8dabe9",
   "metadata": {},
   "source": [
    "s where value is <-1 or >2"
   ]
  },
  {
   "cell_type": "code",
   "execution_count": 78,
   "id": "636bfbf4-501f-40cb-8ad3-f686eb971a94",
   "metadata": {
    "executionCancelledAt": null,
    "executionTime": null,
    "lastExecutedAt": null,
    "lastExecutedByKernel": null,
    "lastScheduledRunId": null,
    "lastSuccessfullyExecutedCode": null,
    "outputsMetadata": {
     "0": {
      "height": 190,
      "type": "dataFrame"
     }
    }
   },
   "outputs": [],
   "source": [
    "s[(s < -1) | (s > 2)]"
   ]
  },
  {
   "cell_type": "markdown",
   "id": "053ffcfc-f542-472c-8ca6-ffb0fd3fdb2d",
   "metadata": {},
   "source": [
    "Use filter to adjust DataFrame"
   ]
  },
  {
   "cell_type": "code",
   "execution_count": 79,
   "id": "014e5eab-37d5-458a-bc08-30c6a8f4d4b9",
   "metadata": {
    "executionCancelledAt": null,
    "executionTime": null,
    "lastExecutedAt": null,
    "lastExecutedByKernel": null,
    "lastScheduledRunId": null,
    "lastSuccessfullyExecutedCode": null,
    "outputsMetadata": {
     "0": {
      "height": 106,
      "type": "dataFrame"
     }
    }
   },
   "outputs": [],
   "source": [
    "df[df['Population']>1200000000]"
   ]
  },
  {
   "cell_type": "markdown",
   "id": "7120b362-4d72-499b-8da0-5fa64b5894e4",
   "metadata": {},
   "source": [
    "### Setting\n",
    "\n",
    "Set index a of Series s to 6"
   ]
  },
  {
   "cell_type": "code",
   "execution_count": 80,
   "id": "6e971342-1f6c-469b-9b63-820c8ecafc49",
   "metadata": {
    "executionCancelledAt": null,
    "executionTime": 52,
    "lastExecutedAt": 1726137653399,
    "lastExecutedByKernel": "4bcfc7f9-b0b6-497e-a6bd-cad05494e7ea",
    "lastScheduledRunId": null,
    "lastSuccessfullyExecutedCode": "s['a'] = 6"
   },
   "outputs": [],
   "source": [
    "s['a'] = 6"
   ]
  },
  {
   "cell_type": "markdown",
   "id": "0f63de45-cb75-479f-87ce-4721527619bd",
   "metadata": {},
   "source": [
    "## Dropping\n",
    "\n",
    "Drop values from rows (axis=0)"
   ]
  },
  {
   "cell_type": "code",
   "execution_count": 81,
   "id": "a8c07983-d394-4d0a-b877-faeb36b4f492",
   "metadata": {
    "executionCancelledAt": null,
    "executionTime": null,
    "lastExecutedAt": null,
    "lastExecutedByKernel": null,
    "lastScheduledRunId": null,
    "lastSuccessfullyExecutedCode": null,
    "outputsMetadata": {
     "0": {
      "height": 134,
      "type": "dataFrame"
     }
    }
   },
   "outputs": [],
   "source": [
    "s.drop(['a',  'c'])"
   ]
  },
  {
   "cell_type": "markdown",
   "id": "a3d7ec86-8e37-4174-b1ba-3da0a58ffb33",
   "metadata": {},
   "source": [
    "Drop values from columns(axis=1)"
   ]
  },
  {
   "cell_type": "code",
   "execution_count": 82,
   "id": "249b826a-ea5b-4c37-a63b-a9c3d758c8b4",
   "metadata": {
    "executionCancelledAt": null,
    "executionTime": null,
    "lastExecutedAt": null,
    "lastExecutedByKernel": null,
    "lastScheduledRunId": null,
    "lastSuccessfullyExecutedCode": null,
    "outputsMetadata": {
     "0": {
      "height": 162,
      "type": "dataFrame"
     }
    }
   },
   "outputs": [],
   "source": [
    "df.drop('Country', axis=1)"
   ]
  },
  {
   "cell_type": "markdown",
   "id": "ca828155-dad5-4cc8-a5bf-a84a37373b3b",
   "metadata": {},
   "source": [
    "### Sort and Rank\n",
    "\n",
    "Sort by labels along an axis"
   ]
  },
  {
   "cell_type": "code",
   "execution_count": 83,
   "id": "b6f1b07c-c3a9-42cb-8db9-c8bf9e3344c1",
   "metadata": {
    "executionCancelledAt": null,
    "executionTime": null,
    "lastExecutedAt": null,
    "lastExecutedByKernel": null,
    "lastScheduledRunId": null,
    "lastSuccessfullyExecutedCode": null,
    "outputsMetadata": {
     "0": {
      "height": 162,
      "type": "dataFrame"
     }
    }
   },
   "outputs": [],
   "source": [
    "df.sort_index()"
   ]
  },
  {
   "cell_type": "markdown",
   "id": "029f1f36-d054-4912-9599-b7247179d890",
   "metadata": {},
   "source": [
    "Sort by the values along an axis"
   ]
  },
  {
   "cell_type": "code",
   "execution_count": 84,
   "id": "eeede90b-a63d-4af1-ab07-e13924a38912",
   "metadata": {
    "executionCancelledAt": null,
    "executionTime": null,
    "lastExecutedAt": null,
    "lastExecutedByKernel": null,
    "lastScheduledRunId": null,
    "lastSuccessfullyExecutedCode": null,
    "outputsMetadata": {
     "0": {
      "height": 162,
      "type": "dataFrame"
     }
    }
   },
   "outputs": [],
   "source": [
    "df.sort_values(by='Country')"
   ]
  },
  {
   "cell_type": "markdown",
   "id": "a682a56d-f47a-42c1-87df-00266ed1de6d",
   "metadata": {},
   "source": [
    "Assign ranks to entries"
   ]
  },
  {
   "cell_type": "code",
   "execution_count": 85,
   "id": "931ca093-2a7b-48ce-b167-8fce28bddc72",
   "metadata": {
    "executionCancelledAt": null,
    "executionTime": null,
    "lastExecutedAt": null,
    "lastExecutedByKernel": null,
    "lastScheduledRunId": null,
    "lastSuccessfullyExecutedCode": null,
    "outputsMetadata": {
     "0": {
      "height": 162,
      "type": "dataFrame"
     }
    }
   },
   "outputs": [],
   "source": [
    "df.rank()"
   ]
  },
  {
   "cell_type": "markdown",
   "id": "ec9c852a-31b6-4a3a-8426-ad75ac29219e",
   "metadata": {},
   "source": [
    "## Retrieving Series/DataFrame Information\n",
    "\n",
    "### Basic Information\n",
    "\n",
    "(rows, columns)"
   ]
  },
  {
   "cell_type": "code",
   "execution_count": 86,
   "id": "ea6bbfb9-be04-4abb-958f-5702abc2844c",
   "metadata": {
    "executionCancelledAt": null,
    "executionTime": 56,
    "lastExecutedAt": 1726137653728,
    "lastExecutedByKernel": "4bcfc7f9-b0b6-497e-a6bd-cad05494e7ea",
    "lastScheduledRunId": null,
    "lastSuccessfullyExecutedCode": "df.shape"
   },
   "outputs": [],
   "source": [
    "df.shape"
   ]
  },
  {
   "cell_type": "markdown",
   "id": "ca3abb57-2fa6-4195-84bd-9a41d094cc46",
   "metadata": {},
   "source": [
    "Describe index"
   ]
  },
  {
   "cell_type": "code",
   "execution_count": 87,
   "id": "ca17c03e-4220-4f7c-be91-a808faa4ef0d",
   "metadata": {
    "executionCancelledAt": null,
    "executionTime": 52,
    "lastExecutedAt": 1726137653780,
    "lastExecutedByKernel": "4bcfc7f9-b0b6-497e-a6bd-cad05494e7ea",
    "lastScheduledRunId": null,
    "lastSuccessfullyExecutedCode": "df.index"
   },
   "outputs": [],
   "source": [
    "df.index"
   ]
  },
  {
   "cell_type": "markdown",
   "id": "866dcfb5-b56b-46ad-bbe4-f45abf27191a",
   "metadata": {},
   "source": [
    "Describe DataFrame columns"
   ]
  },
  {
   "cell_type": "code",
   "execution_count": 88,
   "id": "87341283-a9d2-472f-af1d-ede898f11296",
   "metadata": {
    "executionCancelledAt": null,
    "executionTime": 56,
    "lastExecutedAt": 1726137653836,
    "lastExecutedByKernel": "4bcfc7f9-b0b6-497e-a6bd-cad05494e7ea",
    "lastScheduledRunId": null,
    "lastSuccessfullyExecutedCode": "df.columns"
   },
   "outputs": [],
   "source": [
    "df.columns"
   ]
  },
  {
   "cell_type": "markdown",
   "id": "782a275e-c880-4310-8b4a-f567e0a93bc9",
   "metadata": {},
   "source": [
    "Info on DataFrame"
   ]
  },
  {
   "cell_type": "code",
   "execution_count": 89,
   "id": "c65716c9-818f-455d-bb47-c2458889c1e0",
   "metadata": {
    "collapsed": false,
    "executionCancelledAt": null,
    "executionTime": 59,
    "jupyter": {
     "outputs_hidden": false,
     "source_hidden": false
    },
    "lastExecutedAt": 1726137653895,
    "lastExecutedByKernel": "4bcfc7f9-b0b6-497e-a6bd-cad05494e7ea",
    "lastScheduledRunId": null,
    "lastSuccessfullyExecutedCode": "df.info()",
    "outputsMetadata": {
     "0": {
      "height": 227,
      "type": "stream"
     }
    }
   },
   "outputs": [],
   "source": [
    "df.info()"
   ]
  },
  {
   "cell_type": "markdown",
   "id": "64e89e28-55d8-4fd3-bc4a-cdba728bd8c4",
   "metadata": {},
   "source": [
    "Number of non-NA values"
   ]
  },
  {
   "cell_type": "code",
   "execution_count": 90,
   "id": "0c1bfe5f-a9e1-410c-95cb-1af646eb51e7",
   "metadata": {
    "executionCancelledAt": null,
    "executionTime": null,
    "lastExecutedAt": null,
    "lastExecutedByKernel": null,
    "lastScheduledRunId": null,
    "lastSuccessfullyExecutedCode": null,
    "outputsMetadata": {
     "0": {
      "height": 162,
      "type": "dataFrame"
     }
    }
   },
   "outputs": [],
   "source": [
    "df.count()"
   ]
  },
  {
   "cell_type": "markdown",
   "id": "5e7986f1-86dc-4b63-a849-5be7375e4d9d",
   "metadata": {},
   "source": [
    "### Summary\n",
    "\n",
    "Sum of values"
   ]
  },
  {
   "cell_type": "code",
   "execution_count": 91,
   "id": "8b12f630-573f-4422-b2ee-82e39019f6e9",
   "metadata": {
    "executionCancelledAt": null,
    "executionTime": null,
    "lastExecutedAt": null,
    "lastExecutedByKernel": null,
    "lastScheduledRunId": null,
    "lastSuccessfullyExecutedCode": null,
    "outputsMetadata": {
     "0": {
      "height": 162,
      "type": "dataFrame"
     }
    }
   },
   "outputs": [],
   "source": [
    "df.sum()"
   ]
  },
  {
   "cell_type": "markdown",
   "id": "43046f89-dfc3-4b74-be28-6f96be110e1a",
   "metadata": {},
   "source": [
    "Cumulative sum of values"
   ]
  },
  {
   "cell_type": "code",
   "execution_count": 92,
   "id": "41f2127b-b958-4667-a10a-1b2ab53d4720",
   "metadata": {
    "executionCancelledAt": null,
    "executionTime": null,
    "lastExecutedAt": null,
    "lastExecutedByKernel": null,
    "lastScheduledRunId": null,
    "lastSuccessfullyExecutedCode": null,
    "outputsMetadata": {
     "0": {
      "height": 162,
      "type": "dataFrame"
     }
    }
   },
   "outputs": [],
   "source": [
    "df.cumsum()"
   ]
  },
  {
   "cell_type": "markdown",
   "id": "f0151926-af4c-452c-8195-971332ff9295",
   "metadata": {},
   "source": [
    "Minimum/maximum values"
   ]
  },
  {
   "cell_type": "code",
   "execution_count": 93,
   "id": "46d2fdd5-0a02-4924-bd40-0275f784f671",
   "metadata": {
    "collapsed": false,
    "executionCancelledAt": null,
    "executionTime": null,
    "jupyter": {
     "outputs_hidden": false,
     "source_hidden": false
    },
    "lastExecutedAt": null,
    "lastExecutedByKernel": null,
    "lastScheduledRunId": null,
    "lastSuccessfullyExecutedCode": null,
    "outputsMetadata": {
     "0": {
      "height": 106,
      "type": "dataFrame"
     }
    }
   },
   "outputs": [],
   "source": [
    "numeric_df = df.select_dtypes(include='number')\n",
    "numeric_df.min()/numeric_df.max()"
   ]
  },
  {
   "cell_type": "markdown",
   "id": "eb94d612-514f-4af9-87bd-562eaaf0ebfb",
   "metadata": {},
   "source": [
    "Minimum/Maximum index value"
   ]
  },
  {
   "cell_type": "code",
   "execution_count": 94,
   "id": "f33cd6e8-bcad-4a02-92b0-da3bfcdcc4d5",
   "metadata": {
    "executionCancelledAt": null,
    "executionTime": null,
    "lastExecutedAt": null,
    "lastExecutedByKernel": null,
    "lastScheduledRunId": null,
    "lastSuccessfullyExecutedCode": null,
    "outputsMetadata": {
     "0": {
      "height": 162,
      "type": "dataFrame"
     }
    }
   },
   "outputs": [],
   "source": [
    "df.idxmin()/df.idxmax()"
   ]
  },
  {
   "cell_type": "markdown",
   "id": "6e9b1f2e-37ec-432e-ac7b-8356e9852b96",
   "metadata": {},
   "source": [
    "Summary statistics"
   ]
  },
  {
   "cell_type": "code",
   "execution_count": 95,
   "id": "18525356-e3ca-4a15-87ed-2ce674e6f2fd",
   "metadata": {
    "executionCancelledAt": null,
    "executionTime": null,
    "lastExecutedAt": null,
    "lastExecutedByKernel": null,
    "lastScheduledRunId": null,
    "lastSuccessfullyExecutedCode": null,
    "outputsMetadata": {
     "0": {
      "height": 302,
      "type": "dataFrame"
     }
    }
   },
   "outputs": [],
   "source": [
    "df.describe()"
   ]
  },
  {
   "cell_type": "markdown",
   "id": "182884d9-4170-4522-baf0-6a9e2255c45f",
   "metadata": {},
   "source": [
    "Mean of values"
   ]
  },
  {
   "cell_type": "code",
   "execution_count": 96,
   "id": "42017153-00c2-4dfa-bc41-e27d84fe6296",
   "metadata": {
    "executionCancelledAt": null,
    "executionTime": null,
    "lastExecutedAt": null,
    "lastExecutedByKernel": null,
    "lastScheduledRunId": null,
    "lastSuccessfullyExecutedCode": null,
    "outputsMetadata": {
     "0": {
      "height": 106,
      "type": "dataFrame"
     }
    }
   },
   "outputs": [],
   "source": [
    "numeric_df.mean()"
   ]
  },
  {
   "cell_type": "markdown",
   "id": "41ad7d51-700f-4bb5-a8a6-0da2ae648acd",
   "metadata": {},
   "source": [
    "Median of values"
   ]
  },
  {
   "cell_type": "code",
   "execution_count": 97,
   "id": "4b59c06f-eabd-421a-8b43-70ccc825c0f7",
   "metadata": {
    "executionCancelledAt": null,
    "executionTime": null,
    "lastExecutedAt": null,
    "lastExecutedByKernel": null,
    "lastScheduledRunId": null,
    "lastSuccessfullyExecutedCode": null,
    "outputsMetadata": {
     "0": {
      "height": 106,
      "type": "dataFrame"
     }
    }
   },
   "outputs": [],
   "source": [
    "numeric_df.median()"
   ]
  },
  {
   "cell_type": "markdown",
   "id": "8c4c3355-81bb-4ff1-b9de-05173df6a800",
   "metadata": {},
   "source": [
    "## Applying Functions"
   ]
  },
  {
   "cell_type": "code",
   "execution_count": 98,
   "id": "278f78b7-9662-4f79-91e3-9a25debf6fc3",
   "metadata": {
    "executionCancelledAt": null,
    "executionTime": 48,
    "lastExecutedAt": 1726137654371,
    "lastExecutedByKernel": "4bcfc7f9-b0b6-497e-a6bd-cad05494e7ea",
    "lastScheduledRunId": null,
    "lastSuccessfullyExecutedCode": "f = lambda x: x*2"
   },
   "outputs": [],
   "source": [
    "f = lambda x: x*2"
   ]
  },
  {
   "cell_type": "markdown",
   "id": "f42fb1cc-f1ba-488e-b7de-86355960582c",
   "metadata": {},
   "source": [
    "Apply function"
   ]
  },
  {
   "cell_type": "code",
   "execution_count": 99,
   "id": "39b7d994-3c8d-48b8-b363-fc4fccd7f6ad",
   "metadata": {
    "executionCancelledAt": null,
    "executionTime": null,
    "lastExecutedAt": null,
    "lastExecutedByKernel": null,
    "lastScheduledRunId": null,
    "lastSuccessfullyExecutedCode": null,
    "outputsMetadata": {
     "0": {
      "height": 162,
      "type": "dataFrame"
     }
    }
   },
   "outputs": [],
   "source": [
    "df.apply(f)"
   ]
  },
  {
   "cell_type": "markdown",
   "id": "13d32fa6-903b-4898-8c8a-2d7b7eec5531",
   "metadata": {},
   "source": [
    "Apply function element-wise"
   ]
  },
  {
   "cell_type": "code",
   "execution_count": 100,
   "id": "5b958c26-2434-48cf-a81a-b7175e318ee4",
   "metadata": {
    "executionCancelledAt": null,
    "executionTime": null,
    "lastExecutedAt": null,
    "lastExecutedByKernel": null,
    "lastScheduledRunId": null,
    "lastSuccessfullyExecutedCode": null,
    "outputsMetadata": {
     "0": {
      "height": 162,
      "type": "dataFrame"
     }
    }
   },
   "outputs": [],
   "source": [
    "df.applymap(f)"
   ]
  },
  {
   "cell_type": "markdown",
   "id": "e176dd2c-aa36-4f56-9fd8-fb2eb8103afd",
   "metadata": {},
   "source": [
    "### Internal Data Alignment\n",
    "\n",
    "NA values are introduced in the indices that don't overlap:"
   ]
  },
  {
   "cell_type": "code",
   "execution_count": 101,
   "id": "17f94f9d-7d93-44dd-ab60-fd36de3317a4",
   "metadata": {
    "executionCancelledAt": null,
    "executionTime": null,
    "lastExecutedAt": null,
    "lastExecutedByKernel": null,
    "lastScheduledRunId": null,
    "lastSuccessfullyExecutedCode": null,
    "outputsMetadata": {
     "0": {
      "height": 190,
      "type": "dataFrame"
     }
    }
   },
   "outputs": [],
   "source": [
    "s3 = pd.Series([7, -2, 3],  index=['a',  'c',  'd'])\n",
    "s + s3"
   ]
  },
  {
   "cell_type": "markdown",
   "id": "92a6738a-05cf-46c1-9bd2-27c3905be7cc",
   "metadata": {},
   "source": [
    "### Arithmetic Operations with Fill Methods\n",
    "\n",
    "You can also do the internal data alignment yourself with the help of the fill methods:"
   ]
  },
  {
   "cell_type": "code",
   "execution_count": 102,
   "id": "c89d6f8d-048c-4f9c-96a0-cca9004708d1",
   "metadata": {
    "collapsed": false,
    "executionCancelledAt": null,
    "executionTime": 55,
    "jupyter": {
     "outputs_hidden": false,
     "source_hidden": false
    },
    "lastExecutedAt": 1726137654591,
    "lastExecutedByKernel": "4bcfc7f9-b0b6-497e-a6bd-cad05494e7ea",
    "lastScheduledRunId": null,
    "lastSuccessfullyExecutedCode": "print(s.add(s3, fill_value=0))\n\ns.sub(s3, fill_value=2)\ns.div(s3, fill_value=4)\ns.mul(s3, fill_value=3)",
    "outputsMetadata": {
     "0": {
      "height": 122,
      "type": "stream"
     },
     "1": {
      "height": 190,
      "type": "dataFrame"
     }
    }
   },
   "outputs": [],
   "source": [
    "print(s.add(s3, fill_value=0))\n",
    "\n",
    "s.sub(s3, fill_value=2)\n",
    "s.div(s3, fill_value=4)\n",
    "s.mul(s3, fill_value=3)"
   ]
  }
 ],
 "metadata": {
  "editor": "DataLab",
  "kernelspec": {
   "display_name": "Python 3 (ipykernel)",
   "language": "python",
   "name": "python3"
  },
  "language_info": {
   "codemirror_mode": {
    "name": "ipython",
    "version": 3
   },
   "file_extension": ".py",
   "mimetype": "text/x-python",
   "name": "python",
   "nbconvert_exporter": "python",
   "pygments_lexer": "ipython3",
   "version": "3.10.12"
  }
 },
 "nbformat": 4,
 "nbformat_minor": 5
}
