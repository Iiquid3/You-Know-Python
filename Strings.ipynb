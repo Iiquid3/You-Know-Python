{
 "cells": [
  {
   "cell_type": "markdown",
   "metadata": {},
   "source": [
    "# Strings"
   ]
  },
  {
   "cell_type": "markdown",
   "metadata": {},
   "source": [
    "## 1. Basic String Manipulation\n",
    "### 1.1 Reverse a Given String"
   ]
  },
  {
   "cell_type": "code",
   "execution_count": null,
   "metadata": {},
   "outputs": [],
   "source": [
    "def reverse_string(s):\n",
    "    return s[::-1]\n",
    "\n",
    "# Example usage\n",
    "print(reverse_string(\"hello\"))  # Output: \"olleh\""
   ]
  },
  {
   "cell_type": "markdown",
   "metadata": {},
   "source": [
    "### 1.2 Check if a String is a Palindrome\n",
    "\n"
   ]
  },
  {
   "cell_type": "code",
   "execution_count": null,
   "metadata": {},
   "outputs": [],
   "source": [
    "import string\n",
    "\n",
    "def is_palindrome(s):\n",
    "    cleaned = ''.join(char for char in s if char.isalnum()).lower()\n",
    "    return cleaned == cleaned[::-1]\n",
    "\n",
    "# Example usage\n",
    "print(is_palindrome(\"A man, a plan, a canal: Panama\"))  # Output: True\n"
   ]
  },
  {
   "cell_type": "markdown",
   "metadata": {},
   "source": [
    "### 1.3 Find and Replace Substring"
   ]
  },
  {
   "cell_type": "code",
   "execution_count": null,
   "metadata": {},
   "outputs": [],
   "source": [
    "def find_and_replace(s, old, new):\n",
    "    return s.replace(old, new)\n",
    "\n",
    "# Example usage\n",
    "print(find_and_replace(\"Hello World\", \"World\", \"Python\"))  # Output: \"Hello Python\"\n"
   ]
  },
  {
   "cell_type": "markdown",
   "metadata": {},
   "source": [
    "### 1.4 Count Vowels and Consonants"
   ]
  },
  {
   "cell_type": "code",
   "execution_count": null,
   "metadata": {},
   "outputs": [],
   "source": [
    "def count_vowels_and_consonants(s):\n",
    "    vowels = \"aeiouAEIOU\"\n",
    "    count_vowels = sum(1 for char in s if char in vowels)\n",
    "    count_consonants = sum(1 for char in s if char.isalpha() and char not in vowels)\n",
    "    return count_vowels, count_consonants\n",
    "\n",
    "# Example usage\n",
    "print(count_vowels_and_consonants(\"Hello World\"))  # Output: (3, 7)\n"
   ]
  },
  {
   "cell_type": "markdown",
   "metadata": {},
   "source": [
    "## 2. Character and Word Frequency"
   ]
  },
  {
   "cell_type": "markdown",
   "metadata": {},
   "source": [
    "### 2.1 Count Frequency of Each Letter"
   ]
  },
  {
   "cell_type": "code",
   "execution_count": null,
   "metadata": {},
   "outputs": [],
   "source": [
    "from collections import Counter\n",
    "\n",
    "def letter_frequency(s):\n",
    "    return Counter(char for char in s if char.isalpha())\n",
    "\n",
    "# Example usage\n",
    "print(letter_frequency(\"Hello World\"))  # Output: Counter({'l': 3, 'o': 2, 'H': 1, 'e': 1, 'W': 1, 'r': 1, 'd': 1})\n"
   ]
  },
  {
   "cell_type": "markdown",
   "metadata": {},
   "source": [
    "### 2.2 Count Occurrences of a Word\n"
   ]
  },
  {
   "cell_type": "code",
   "execution_count": null,
   "metadata": {},
   "outputs": [],
   "source": [
    "def count_word_occurrences(s, word):\n",
    "    return s.lower().split().count(word.lower())\n",
    "\n",
    "# Example usage\n",
    "print(count_word_occurrences(\"Hello world hello\", \"hello\"))  # Output: 2\n"
   ]
  },
  {
   "cell_type": "markdown",
   "metadata": {},
   "source": [
    "### 2.3 Find Most Frequent Character"
   ]
  },
  {
   "cell_type": "code",
   "execution_count": null,
   "metadata": {},
   "outputs": [],
   "source": [
    "def most_frequent_char(s):\n",
    "    frequency = Counter(char for char in s if char.isalpha())\n",
    "    return frequency.most_common(1)[0] if frequency else None\n",
    "\n",
    "# Example usage\n",
    "print(most_frequent_char(\"Hello World\"))  # Output: ('l', 3)\n"
   ]
  },
  {
   "cell_type": "markdown",
   "metadata": {},
   "source": [
    "### 2.4 Check if Two Strings are Anagrams"
   ]
  },
  {
   "cell_type": "code",
   "execution_count": null,
   "metadata": {},
   "outputs": [],
   "source": [
    "def are_anagrams(s1, s2):\n",
    "    return sorted(s1.replace(\" \", \"\").lower()) == sorted(s2.replace(\" \", \"\").lower())\n",
    "\n",
    "# Example usage\n",
    "print(are_anagrams(\"listen\", \"silent\"))  # Output: True\n"
   ]
  },
  {
   "cell_type": "markdown",
   "metadata": {},
   "source": [
    "## 3. String Formatting and Manipulation"
   ]
  },
  {
   "cell_type": "markdown",
   "metadata": {},
   "source": [
    "### 3.1 Capitalize First Letter of Each Word"
   ]
  },
  {
   "cell_type": "code",
   "execution_count": null,
   "metadata": {},
   "outputs": [],
   "source": [
    "\n",
    "def capitalize_first_letter(s):\n",
    "    return ' '.join(word.capitalize() for word in s.split())\n",
    "\n",
    "# Example usage\n",
    "print(capitalize_first_letter(\"hello world\"))  # Output: \"Hello World\"\n"
   ]
  },
  {
   "cell_type": "markdown",
   "metadata": {},
   "source": [
    "### 3.2 Remove Duplicate Characters"
   ]
  },
  {
   "cell_type": "code",
   "execution_count": null,
   "metadata": {},
   "outputs": [],
   "source": [
    "def remove_duplicates(s):\n",
    "    return ''.join(sorted(set(s), key=s.index))\n",
    "\n",
    "# Example usage\n",
    "print(remove_duplicates(\"hello world\"))  # Output: \"helo wrd\"\n"
   ]
  },
  {
   "cell_type": "markdown",
   "metadata": {},
   "source": [
    "### 3.3 Remove All Vowels from a String"
   ]
  },
  {
   "cell_type": "code",
   "execution_count": null,
   "metadata": {},
   "outputs": [],
   "source": [
    "def remove_vowels(s):\n",
    "    vowels = 'aeiouAEIOU'\n",
    "    return ''.join(char for char in s if char not in vowels)\n",
    "\n",
    "# Example usage\n",
    "print(remove_vowels(\"Hello World\"))  # Output: \"Hll Wrld\"\n"
   ]
  },
  {
   "cell_type": "markdown",
   "metadata": {},
   "source": [
    "### 3.4 Check String Character Types"
   ]
  },
  {
   "cell_type": "code",
   "execution_count": null,
   "metadata": {},
   "outputs": [],
   "source": [
    "def check_string_type(s):\n",
    "    if s.isalpha():\n",
    "        return \"Only alphabets\"\n",
    "    elif s.isdigit():\n",
    "        return \"Only digits\"\n",
    "    else:\n",
    "        return \"Mix of both\"\n",
    "\n",
    "# Example usage\n",
    "print(check_string_type(\"Hello123\"))  # Output: \"Mix of both\"\n"
   ]
  },
  {
   "cell_type": "markdown",
   "metadata": {},
   "source": [
    "## 4 String Formation"
   ]
  },
  {
   "cell_type": "markdown",
   "metadata": {},
   "source": [
    "### 4.1 Convert String to Mirror Image"
   ]
  },
  {
   "cell_type": "code",
   "execution_count": null,
   "metadata": {},
   "outputs": [],
   "source": [
    "def mirror_image(s):\n",
    "    return s[::-1]\n",
    "\n",
    "# Example usage\n",
    "print(mirror_image(\"abcd\"))  # Output: \"dcba\"\n"
   ]
  },
  {
   "cell_type": "markdown",
   "metadata": {},
   "source": [
    "### 4.2 Caesar Cipher Shift"
   ]
  },
  {
   "cell_type": "code",
   "execution_count": null,
   "metadata": {},
   "outputs": [],
   "source": [
    "def caesar_cipher(s, shift):\n",
    "    result = ''\n",
    "    for char in s:\n",
    "        if char.isalpha():\n",
    "            shift_base = 65 if char.isupper() else 97\n",
    "            result += chr((ord(char) - shift_base + shift) % 26 + shift_base)\n",
    "        else:\n",
    "            result += char\n",
    "    return result\n",
    "\n",
    "# Example usage\n",
    "print(caesar_cipher(\"abc XYZ\", 3))  # Output: \"def ABC\"\n"
   ]
  },
  {
   "cell_type": "markdown",
   "metadata": {},
   "source": [
    "### 4.3 Alternating Uppercase and Lowercase\n"
   ]
  },
  {
   "cell_type": "code",
   "execution_count": null,
   "metadata": {},
   "outputs": [],
   "source": [
    "def alternating_case(s):\n",
    "    return ''.join(char.upper() if i % 2 == 0 else char.lower() for i, char in enumerate(s))\n",
    "\n",
    "# Example usage\n",
    "print(alternating_case(\"hello\"))  # Output: \"HeLlO\"\n"
   ]
  },
  {
   "cell_type": "markdown",
   "metadata": {},
   "source": [
    "### 4.4 Compress String with Count\n",
    "\n"
   ]
  },
  {
   "cell_type": "code",
   "execution_count": null,
   "metadata": {},
   "outputs": [],
   "source": [
    "def compress_string(s):\n",
    "    compressed = []\n",
    "    count = 1\n",
    "    for i in range(1, len(s)):\n",
    "        if s[i] == s[i - 1]:\n",
    "            count += 1\n",
    "        else:\n",
    "            compressed.append(s[i - 1] + str(count))\n",
    "            count = 1\n",
    "    compressed.append(s[-1] + str(count))  # Append the last group\n",
    "    return ''.join(compressed)\n",
    "\n",
    "# Example usage\n",
    "print(compress_string(\"aabcccccaaa\"))  # Output: \"a2b1c5a3\"\n"
   ]
  },
  {
   "cell_type": "markdown",
   "metadata": {},
   "source": [
    "## 5. Substring and Pattern Matching\n"
   ]
  },
  {
   "cell_type": "markdown",
   "metadata": {},
   "source": [
    "### 5.1 Find All Substrings\n",
    "\n"
   ]
  },
  {
   "cell_type": "code",
   "execution_count": null,
   "metadata": {},
   "outputs": [],
   "source": [
    "def find_all_substrings(s):\n",
    "    substrings = []\n",
    "    for i in range(len(s)):\n",
    "        for j in range(i + 1, len(s) + 1):\n",
    "            substrings.append(s[i:j])\n",
    "    return substrings\n",
    "\n",
    "# Example usage\n",
    "print(find_all_substrings(\"abc\"))  # Output: ['a', 'ab', 'abc', 'b', 'bc', 'c']\n"
   ]
  },
  {
   "cell_type": "markdown",
   "metadata": {},
   "source": [
    "### 5.2 Longest Common Prefix\n",
    "\n"
   ]
  },
  {
   "cell_type": "code",
   "execution_count": null,
   "metadata": {},
   "outputs": [],
   "source": [
    "def longest_common_prefix(strs):\n",
    "    if not strs:\n",
    "        return \"\"\n",
    "    prefix = strs[0]\n",
    "    for string in strs[1:]:\n",
    "        while string[:len(prefix)] != prefix and prefix:\n",
    "            prefix = prefix[:-1]\n",
    "    return prefix\n",
    "\n",
    "# Example usage\n",
    "print(longest_common_prefix([\"flower\", \"flow\", \"flight\"]))  # Output: \"fl\"\n"
   ]
  },
  {
   "cell_type": "markdown",
   "metadata": {},
   "source": [
    "### 5.3 Check Rearrangement for Palindrome\n",
    "\n",
    "\n",
    "\n"
   ]
  },
  {
   "cell_type": "code",
   "execution_count": null,
   "metadata": {},
   "outputs": [],
   "source": [
    "def can_form_palindrome(s):\n",
    "    count = Counter(char for char in s if char.isalnum())\n",
    "    odd_count = sum(1 for cnt in count.values() if cnt % 2 != 0)\n",
    "    return odd_count <= 1\n",
    "\n",
    "# Example usage\n",
    "print(can_form_palindrome(\"civic\"))  # Output: True\n"
   ]
  },
  {
   "cell_type": "markdown",
   "metadata": {},
   "source": [
    "### 5.4 Longest Palindromic Substring\n",
    "\n"
   ]
  },
  {
   "cell_type": "code",
   "execution_count": null,
   "metadata": {},
   "outputs": [],
   "source": [
    "def longest_palindromic_substring(s):\n",
    "    def is_palindrome(sub):\n",
    "        return sub == sub[::-1]\n",
    "\n",
    "    longest = ''\n",
    "    for i in range(len(s)):\n",
    "        for j in range(i + 1, len(s) + 1):\n",
    "            substring = s[i:j]\n",
    "            if is_palindrome(substring) and len(substring) > len(longest):\n",
    "                longest = substring\n",
    "    return longest\n",
    "\n",
    "# Example usage\n",
    "print(longest_palindromic_substring(\"babad\"))  # Output: \"bab\" or \"aba\"\n"
   ]
  },
  {
   "cell_type": "markdown",
   "metadata": {},
   "source": [
    "## 6. String Parsing and Slicing\n"
   ]
  },
  {
   "cell_type": "markdown",
   "metadata": {},
   "source": [
    "### 6.1 Extract Domain Name from Email\n",
    "\n"
   ]
  },
  {
   "cell_type": "code",
   "execution_count": null,
   "metadata": {},
   "outputs": [],
   "source": [
    "def extract_domain(email):\n",
    "    return email.split('@')[-1] if '@' in email else None\n",
    "\n",
    "# Example usage\n",
    "print(extract_domain(\"user@example.com\"))  # Output: \"example.com\"\n"
   ]
  },
  {
   "cell_type": "markdown",
   "metadata": {},
   "source": [
    "### 6.2 Split Name and Age\n",
    "\n"
   ]
  },
  {
   "cell_type": "code",
   "execution_count": null,
   "metadata": {},
   "outputs": [],
   "source": [
    "def split_name_age(s):\n",
    "    name, age = s.split(':')\n",
    "    return name.strip(), age.strip()\n",
    "\n",
    "# Example usage\n",
    "print(split_name_age(\"Alice: 30\"))  # Output: (\"Alice\", \"30\")\n"
   ]
  },
  {
   "cell_type": "markdown",
   "metadata": {},
   "source": [
    "### 6.3 Extract Every Second Character\n",
    "\n",
    "\n"
   ]
  },
  {
   "cell_type": "code",
   "execution_count": null,
   "metadata": {},
   "outputs": [],
   "source": [
    "def extract_every_second(s):\n",
    "    return s[::2]\n",
    "\n",
    "# Example usage\n",
    "print(extract_every_second(\"hello\"))  # Output: \"hlo\"\n"
   ]
  },
  {
   "cell_type": "markdown",
   "metadata": {},
   "source": [
    "### 6.4 Reverse Words in a Sentence\n",
    "\n",
    "\n",
    "\n",
    "\n"
   ]
  },
  {
   "cell_type": "code",
   "execution_count": null,
   "metadata": {},
   "outputs": [],
   "source": [
    "def reverse_words(s):\n",
    "    words = s.split()\n",
    "    return ' '.join(reversed(words))\n",
    "\n",
    "# Example usage\n",
    "print(reverse_words(\"hello world\"))  # Output: \"world hello\"\n"
   ]
  },
  {
   "cell_type": "markdown",
   "metadata": {},
   "source": [
    "## 7. Advanced String Problems\n",
    "\n",
    "\n",
    "\n"
   ]
  },
  {
   "cell_type": "markdown",
   "metadata": {},
   "source": [
    "### 7.1 Check Valid Identifier\n",
    "\n"
   ]
  },
  {
   "cell_type": "code",
   "execution_count": null,
   "metadata": {},
   "outputs": [],
   "source": [
    "import re\n",
    "\n",
    "def is_valid_identifier(s):\n",
    "    # Regex pattern to check valid identifier\n",
    "    pattern = r'^[a-zA-Z_][a-zA-Z0-9_]*$'\n",
    "    \n",
    "    # Check if the string matches the pattern\n",
    "    if re.match(pattern, s):\n",
    "        return True\n",
    "    return False\n",
    "\n",
    "# Example usage\n",
    "test_identifiers = [\n",
    "    \"valid_identifier\",\n",
    "    \"valid123\",\n",
    "    \"_validIdentifier\",\n",
    "    \"1invalid\",        # Invalid: starts with a digit\n",
    "    \"invalid-id\",      # Invalid: contains a hyphen\n",
    "    \"invalid identifier\", # Invalid: contains a space\n",
    "    \"class\",           # Valid but it's a keyword, should be handled separately\n",
    "]\n",
    "\n",
    "for identifier in test_identifiers:\n",
    "    print(f\"{identifier}: {is_valid_identifier(identifier)}\")\n"
   ]
  },
  {
   "cell_type": "markdown",
   "metadata": {},
   "source": [
    "### 7.2 Remove the k-th Occurrence of a Specific Character in a String\n",
    "\n",
    "\n"
   ]
  },
  {
   "cell_type": "code",
   "execution_count": null,
   "metadata": {},
   "outputs": [],
   "source": [
    "def remove_kth_occurrence(s, char, k):\n",
    "    occurrence = 0\n",
    "    result = []\n",
    "\n",
    "    for c in s:\n",
    "        if c == char:\n",
    "            occurrence += 1\n",
    "            if occurrence == k:\n",
    "                continue  # Skip this occurrence\n",
    "        result.append(c)\n",
    "\n",
    "    return ''.join(result)\n",
    "\n",
    "# Example usage\n",
    "input_string = \"hello world, hello universe\"\n",
    "character_to_remove = 'o'\n",
    "k = 2\n",
    "result = remove_kth_occurrence(input_string, character_to_remove, k)\n",
    "print(f\"Result after removing {k}-th occurrence of '{character_to_remove}': {result}\")\n"
   ]
  },
  {
   "cell_type": "markdown",
   "metadata": {},
   "source": [
    "### 7.3 Generate All Possible Permutations of a Given String"
   ]
  },
  {
   "cell_type": "code",
   "execution_count": null,
   "metadata": {},
   "outputs": [],
   "source": [
    "from itertools import permutations\n",
    "\n",
    "def generate_permutations(s):\n",
    "    return [''.join(p) for p in permutations(s)]\n",
    "\n",
    "# Example usage\n",
    "input_string = \"abc\"\n",
    "result = generate_permutations(input_string)\n",
    "print(f\"Permutations of '{input_string}': {result}\")\n"
   ]
  },
  {
   "cell_type": "markdown",
   "metadata": {},
   "source": [
    "### 7.4 Count the Number of Words in a camelCase String"
   ]
  },
  {
   "cell_type": "code",
   "execution_count": null,
   "metadata": {},
   "outputs": [],
   "source": [
    "def count_camel_case_words(s):\n",
    "    return sum(1 for c in s if c.isupper()) + 1\n",
    "\n",
    "# Example usage\n",
    "camel_case_string = \"camelCaseStringExample\"\n",
    "result = count_camel_case_words(camel_case_string)\n",
    "print(f\"Number of words in '{camel_case_string}': {result}\")\n"
   ]
  },
  {
   "cell_type": "markdown",
   "metadata": {},
   "source": [
    "## 8. String and Number Conversions:"
   ]
  },
  {
   "cell_type": "markdown",
   "metadata": {},
   "source": [
    "### 8.1 Convert a Binary String to Its Decimal Representation"
   ]
  },
  {
   "cell_type": "code",
   "execution_count": null,
   "metadata": {},
   "outputs": [],
   "source": [
    "def binary_to_decimal(binary_str):\n",
    "    return int(binary_str, 2)\n",
    "\n",
    "# Example usage\n",
    "binary_string = \"1101\"  # Binary for 13\n",
    "result = binary_to_decimal(binary_string)\n",
    "print(f\"Decimal representation of binary '{binary_string}': {result}\")\n"
   ]
  },
  {
   "cell_type": "markdown",
   "metadata": {},
   "source": [
    "### 8.2 Check if a String is a Valid Number"
   ]
  },
  {
   "cell_type": "code",
   "execution_count": null,
   "metadata": {},
   "outputs": [],
   "source": [
    "def is_valid_number(s):\n",
    "    try:\n",
    "        float(s)  # Will succeed if it's a valid number\n",
    "        return True\n",
    "    except ValueError:\n",
    "        return False\n",
    "\n",
    "# Example usage\n",
    "test_strings = [\"123\", \"45.67\", \"12.34e5\", \"abc\", \"-5.67\"]\n",
    "for test in test_strings:\n",
    "    print(f\"Is '{test}' a valid number? {is_valid_number(test)}\")\n"
   ]
  },
  {
   "cell_type": "markdown",
   "metadata": {},
   "source": [
    "### 8.3 Convert a Given Roman Numeral String into Its Equivalent Integer"
   ]
  },
  {
   "cell_type": "code",
   "execution_count": null,
   "metadata": {},
   "outputs": [],
   "source": [
    "def roman_to_integer(s):\n",
    "    roman_values = {'I': 1, 'V': 5, 'X': 10, 'L': 50, 'C': 100, 'D': 500, 'M': 1000}\n",
    "    total = 0\n",
    "    prev_value = 0\n",
    "\n",
    "    for char in reversed(s):\n",
    "        value = roman_values[char]\n",
    "        if value < prev_value:\n",
    "            total -= value\n",
    "        else:\n",
    "            total += value\n",
    "        prev_value = value\n",
    "\n",
    "    return total\n",
    "\n",
    "# Example usage\n",
    "roman_string = \"MCMXCIV\"  # 1994\n",
    "result = roman_to_integer(roman_string)\n",
    "print(f\"Integer representation of Roman numeral '{roman_string}': {result}\")\n"
   ]
  },
  {
   "cell_type": "markdown",
   "metadata": {},
   "source": [
    "### 8.4 Check if a Given String Represents a Valid Date"
   ]
  },
  {
   "cell_type": "code",
   "execution_count": null,
   "metadata": {},
   "outputs": [],
   "source": [
    "import re\n",
    "\n",
    "def is_valid_date(date_string):\n",
    "    # Check for formats DD-MM-YYYY or YYYY/MM/DD\n",
    "    dd_mm_yyyy_pattern = r'^(0[1-9]|[12][0-9]|3[01])-(0[1-9]|1[0-2])-(\\d{4})$'\n",
    "    yyyy_mm_dd_pattern = r'^\\d{4}/(0[1-9]|1[0-2])/(0[1-9]|[12][0-9]|3[01])$'\n",
    "\n",
    "    return re.match(dd_mm_yyyy_pattern, date_string) is not None or \\\n",
    "           re.match(yyyy_mm_dd_pattern, date_string) is not None\n",
    "\n",
    "# Example usage\n",
    "date_strings = [\"31-12-2023\", \"2023/12/31\", \"31-02-2023\", \"2023-12-31\"]\n",
    "for date in date_strings:\n",
    "    print(f\"Is '{date}' a valid date? {is_valid_date(date)}\")\n"
   ]
  }
 ],
 "metadata": {
  "language_info": {
   "name": "python"
  }
 },
 "nbformat": 4,
 "nbformat_minor": 2
}
