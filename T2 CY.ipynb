{
 "cells": [
  {
   "cell_type": "markdown",
   "metadata": {},
   "source": [
    "1. Write a program that compares two words and does the following:\n",
    "\n",
    "- Prints the letters common to both words in alphabetical order.\n",
    "- Prints the letters unique to each word in alphabetical order.\n",
    "- Checks if the letters in the first word are a superset of the letters in the second word."
   ]
  },
  {
   "cell_type": "code",
   "execution_count": null,
   "metadata": {},
   "outputs": [],
   "source": [
    "def compare_words(w1, w2):\n",
    "    w1_set = set(w1.lower().strip())\n",
    "    w2_set = set(w2.lower().strip())\n",
    "    \n",
    "    common = sorted(w1_set & w2_set)\n",
    "    unique_w1 = sorted(w1_set - w2_set)\n",
    "    unique_w2 = sorted(w2_set - w1_set)\n",
    "    \n",
    "    is_superset = w1_set >= w2_set\n",
    "    no_common = len(common) == 0\n",
    "    \n",
    "    print(\"Common letters:\", ''.join(common))\n",
    "    print(\"Unique to w1:\", ''.join(unique_w1))\n",
    "    print(\"Unique to w2:\", ''.join(unique_w2))\n",
    "    print(\"Is w1 a superset of w2?\", is_superset)\n",
    "    print(\"No common letters?\", no_common)\n",
    "\n",
    "# Example Usage\n",
    "compare_words(\"Hello\", \"World\")"
   ]
  },
  {
   "cell_type": "markdown",
   "metadata": {},
   "source": [
    "2. Write a program that determines the overall happiness level based on two sets of integers and a list of integers."
   ]
  },
  {
   "cell_type": "code",
   "execution_count": null,
   "metadata": {},
   "outputs": [],
   "source": [
    "def happiness_level(ns, h, s):\n",
    "    level = 0\n",
    "    for number in ns:\n",
    "        if number in h:\n",
    "            level += 1\n",
    "        elif number in s:\n",
    "            level -= 1\n",
    "    return level\n",
    "\n",
    "# Example Usage\n",
    "h = {1, 2, 3}\n",
    "s = {4, 5}\n",
    "ns = [1, 2, 3, 4, 1, 5]\n",
    "print(\"Happiness Level:\", happiness_level(ns, h, s))"
   ]
  },
  {
   "cell_type": "markdown",
   "metadata": {},
   "source": [
    "3. Help find the Captain's room number from a list where each room number appears K times except for the Captain's."
   ]
  },
  {
   "cell_type": "code",
   "execution_count": null,
   "metadata": {},
   "outputs": [],
   "source": [
    "def find_captain_room(rooms, K):\n",
    "    room_count = {}\n",
    "    for room in rooms:\n",
    "        room_count[room] = room_count.get(room, 0) + 1\n",
    "    \n",
    "    for room, count in room_count.items():\n",
    "        if count != K:\n",
    "            return room\n",
    "\n",
    "# Example Usage\n",
    "rooms = [101, 102, 103, 101, 102, 101]\n",
    "K = 3\n",
    "print(\"Captain's Room Number:\", find_captain_room(rooms, K))"
   ]
  },
  {
   "cell_type": "markdown",
   "metadata": {},
   "source": [
    "4. Write a program to compare item prices in two dictionaries and calculate the absolute difference for common items."
   ]
  },
  {
   "cell_type": "code",
   "execution_count": null,
   "metadata": {},
   "outputs": [],
   "source": [
    "def compare_prices(dict1, dict2):\n",
    "    result = {}\n",
    "    for item in dict1.keys() & dict2.keys():\n",
    "        result[item] = abs(dict1[item] - dict2[item])\n",
    "    \n",
    "    result.update({k: dict1[k] for k in dict1 if k not in dict2})\n",
    "    result.update({k: dict2[k] for k in dict2 if k not in dict1})\n",
    "    \n",
    "    return result\n",
    "\n",
    "# Example Usage\n",
    "dict1 = {'apple': 10, 'banana': 20}\n",
    "dict2 = {'banana': 25, 'orange': 15}\n",
    "print(\"Price Differences:\", compare_prices(dict1, dict2))"
   ]
  },
  {
   "cell_type": "markdown",
   "metadata": {},
   "source": [
    "5. Help merge two inventories represented as dictionaries, multiplying quantities for common items."
   ]
  },
  {
   "cell_type": "code",
   "execution_count": null,
   "metadata": {},
   "outputs": [],
   "source": [
    "def merge_inventories(inv1, inv2):\n",
    "    merged = {}\n",
    "    for item in set(inv1.keys()).union(set(inv2.keys())):\n",
    "        merged[item] = inv1.get(item, 0) * inv2.get(item, 0)\n",
    "        if item in inv1 and item not in inv2:\n",
    "            merged[item] = inv1[item]\n",
    "        elif item not in inv1 and item in inv2:\n",
    "            merged[item] = inv2[item]\n",
    "    return merged\n",
    "\n",
    "# Example Usage\n",
    "inv1 = {'item1': 2, 'item2': 3}\n",
    "inv2 = {'item1': 5, 'item3': 7}\n",
    "print(\"Merged Inventory:\", merge_inventories(inv1, inv2))"
   ]
  },
  {
   "cell_type": "markdown",
   "metadata": {},
   "source": [
    "6. Create a dictionary of unique pairs of integers from a list with their absolute differences."
   ]
  },
  {
   "cell_type": "code",
   "execution_count": null,
   "metadata": {},
   "outputs": [],
   "source": [
    "def analyze_differences(numbers):\n",
    "    differences = {}\n",
    "    for i in range(len(numbers)):\n",
    "        for j in range(i + 1, len(numbers)):\n",
    "            pair = (numbers[i], numbers[j])\n",
    "            differences[pair] = abs(numbers[i] - numbers[j])\n",
    "    return differences\n",
    "\n",
    "# Example Usage\n",
    "numbers = [1, 2, 3]\n",
    "print(\"Pair Differences:\", analyze_differences(numbers))"
   ]
  },
  {
   "cell_type": "markdown",
   "metadata": {},
   "source": [
    "7. Write a program to find roots of the quadratic equation ax² + bx + c = 0."
   ]
  },
  {
   "cell_type": "code",
   "execution_count": null,
   "metadata": {},
   "outputs": [],
   "source": [
    "import cmath\n",
    "\n",
    "def quadratic_solver(a, b, c):\n",
    "    d = b**2 - 4*a*c  # Discriminant\n",
    "    root1 = (-b + cmath.sqrt(d)) / (2*a)\n",
    "    root2 = (-b - cmath.sqrt(d)) / (2*a)\n",
    "    return root1, root2\n",
    "\n",
    "# Example Usage\n",
    "print(\"Roots:\", quadratic_solver(1, -3, 2))"
   ]
  },
  {
   "cell_type": "markdown",
   "metadata": {},
   "source": [
    "8. Compute the cumulative XOR of a tuple of integers."
   ]
  },
  {
   "cell_type": "code",
   "execution_count": null,
   "metadata": {},
   "outputs": [],
   "source": [
    "def cumulative_xor(nums):\n",
    "    result = []\n",
    "    current_xor = 0\n",
    "    for num in nums:\n",
    "        current_xor ^= num\n",
    "        result.append(current_xor)\n",
    "    return tuple(result)\n",
    "\n",
    "# Example Usage\n",
    "print(\"Cumulative XOR:\", cumulative_xor((1, 2, 3)))"
   ]
  },
  {
   "cell_type": "markdown",
   "metadata": {},
   "source": [
    "9. Identify IDs that are common in two lists, appearing an odd number of times."
   ]
  },
  {
   "cell_type": "code",
   "execution_count": null,
   "metadata": {},
   "outputs": [],
   "source": [
    "def common_odd_occurrences(list1, list2):\n",
    "    combined = list1 + list2\n",
    "    counts = {}\n",
    "    \n",
    "    for id in combined:\n",
    "        counts[id] = counts.get(id, 0) + 1\n",
    "    \n",
    "    return sorted([id for id, count in counts.items() if count % 2 != 0 and (id in list1 and id in list2)])\n",
    "\n",
    "# Example Usage\n",
    "list1 = [1, 2, 3, 3]\n",
    "list2 = [3, 4, 3]\n",
    "print(\"Common Odd Occurrences:\", common_odd_occurrences(list1, list2))"
   ]
  },
  {
   "cell_type": "markdown",
   "metadata": {},
   "source": [
    "10. Find the length of the longest sequence of consecutive years from a list."
   ]
  },
  {
   "cell_type": "code",
   "execution_count": null,
   "metadata": {},
   "outputs": [],
   "source": [
    "def longest_consecutive_years(years):\n",
    "    years = sorted(set(years))\n",
    "    longest_streak = 1\n",
    "    current_streak = 1\n",
    "    \n",
    "    for i in range(1, len(years)):\n",
    "        if years[i] == years[i - 1] + 1:\n",
    "            current_streak += 1\n",
    "        else:\n",
    "            longest_streak = max(longest_streak, current_streak)\n",
    "            current_streak = 1\n",
    "            \n",
    "    return max(longest_streak, current_streak)\n",
    "\n",
    "# Example Usage\n",
    "years = [2001, 2003, 2002, 2005, 2004]\n",
    "print(\"Longest Consecutive Years:\", longest_consecutive_years(years))\n"
   ]
  },
  {
   "cell_type": "markdown",
   "metadata": {},
   "source": [
    "11. Find all unique triplets from a list where the sum is zero."
   ]
  },
  {
   "cell_type": "code",
   "execution_count": null,
   "metadata": {},
   "outputs": [],
   "source": [
    "def find_triplets(nums):\n",
    "    nums = sorted(nums)\n",
    "    triplets = []\n",
    "    \n",
    "    for i in range(len(nums) - 2):\n",
    "        if i > 0 and nums[i] == nums[i - 1]:\n",
    "            continue  # Skip duplicates\n",
    "        left, right = i + 1, len(nums) - 1\n",
    "        while left < right:\n",
    "            total = nums[i] + nums[left] + nums[right]\n",
    "            if total < 0:\n",
    "                left += 1\n",
    "            elif total > 0:\n",
    "                right -= 1\n",
    "            else:\n",
    "                triplets.append((nums[i], nums[left], nums[right]))\n",
    "                while left < right and nums[left] == nums[left + 1]:\n",
    "                    left += 1  # Skip duplicates\n",
    "                while left < right and nums[right] == nums[right - 1]:\n",
    "                    right -= 1  # Skip duplicates\n",
    "                left += 1\n",
    "                right -= 1\n",
    "                \n",
    "    return triplets\n",
    "\n",
    "# Example Usage\n",
    "print(\"Magical Triplets:\", find_triplets([-1, 0, 1, 2, -1, -4]))\n"
   ]
  },
  {
   "cell_type": "markdown",
   "metadata": {},
   "source": [
    "12. Rearrange a list of tickets by prioritizing those above a threshold."
   ]
  },
  {
   "cell_type": "code",
   "execution_count": null,
   "metadata": {},
   "outputs": [],
   "source": [
    "def prioritize_tickets(tickets, threshold):\n",
    "    prioritized = []\n",
    "    others = []\n",
    "    \n",
    "    for ticket in tickets:\n",
    "        if ticket > threshold:\n",
    "            prioritized.append(ticket)\n",
    "        else:\n",
    "            others.append(ticket)\n",
    "    \n",
    "    return prioritized + others\n",
    "\n",
    "# Example Usage\n",
    "tickets = [30, 15, 20, 40]\n",
    "threshold = 25\n",
    "print(\"Rearranged Tickets:\", prioritize_tickets)"
   ]
  },
  {
   "cell_type": "markdown",
   "metadata": {},
   "source": [
    "13. Write a program to count distinct elements in two lists and return the count of elements that are present in both lists."
   ]
  },
  {
   "cell_type": "code",
   "execution_count": null,
   "metadata": {},
   "outputs": [],
   "source": [
    "def count_common_elements(list1, list2):\n",
    "    return len(set(list1) & set(list2))\n",
    "\n",
    "# Example Usage\n",
    "list1 = [1, 2, 3, 4]\n",
    "list2 = [3, 4, 5, 6]\n",
    "print(\"Common Count:\", count_common_elements(list1, list2))  # Output: 2\n"
   ]
  },
  {
   "cell_type": "markdown",
   "metadata": {},
   "source": [
    "14. Given a list of words, group them into anagrams."
   ]
  },
  {
   "cell_type": "code",
   "execution_count": null,
   "metadata": {},
   "outputs": [],
   "source": [
    "from collections import defaultdict\n",
    "\n",
    "def group_anagrams(words):\n",
    "    anagrams = defaultdict(list)\n",
    "    for word in words:\n",
    "        sorted_word = ''.join(sorted(word))\n",
    "        anagrams[sorted_word].append(word)\n",
    "    return list(anagrams.values())\n",
    "\n",
    "# Example Usage\n",
    "words = [\"eat\", \"tea\", \"tan\", \"ate\", \"nat\", \"bat\"]\n",
    "print(\"Grouped Anagrams:\", group_anagrams(words))\n"
   ]
  },
  {
   "cell_type": "markdown",
   "metadata": {},
   "source": [
    "15. Given a list containing numbers from 1 to n, find the one missing number."
   ]
  },
  {
   "cell_type": "code",
   "execution_count": null,
   "metadata": {},
   "outputs": [],
   "source": [
    "def find_missing_number(nums, n):\n",
    "    expected_sum = n * (n + 1) // 2\n",
    "    actual_sum = sum(nums)\n",
    "    return expected_sum - actual_sum\n",
    "\n",
    "# Example Usage\n",
    "nums = [1, 2, 4, 5]\n",
    "n = 5\n",
    "print(\"Missing Number:\", find_missing_number(nums, n))  # Output: 3\n"
   ]
  },
  {
   "cell_type": "markdown",
   "metadata": {},
   "source": [
    "16. Given a string, count all substrings that have all unique characters."
   ]
  },
  {
   "cell_type": "code",
   "execution_count": null,
   "metadata": {},
   "outputs": [],
   "source": [
    "def count_unique_substrings(s):\n",
    "    n = len(s)\n",
    "    count = 0\n",
    "    for i in range(n):\n",
    "        seen = set()\n",
    "        for j in range(i, n):\n",
    "            if s[j] in seen:\n",
    "                break\n",
    "            seen.add(s[j])\n",
    "            count += 1\n",
    "    return count\n",
    "\n",
    "# Example Usage\n",
    "s = \"abcde\"\n",
    "print(\"Unique Substring Count:\", count_unique_substrings(s))  # Output: 15\n"
   ]
  },
  {
   "cell_type": "markdown",
   "metadata": {},
   "source": [
    "17. Write a program to rotate a list left by k positions."
   ]
  },
  {
   "cell_type": "code",
   "execution_count": null,
   "metadata": {},
   "outputs": [],
   "source": [
    "def rotate_left(lst, k):\n",
    "    k %= len(lst)  # In case k is larger than list length\n",
    "    return lst[k:] + lst[:k]\n",
    "\n",
    "# Example Usage\n",
    "lst = [1, 2, 3, 4, 5]\n",
    "k = 2\n",
    "print(\"Rotated List:\", rotate_left(lst, k))  # Output: [3, 4, 5, 1, 2]\n"
   ]
  },
  {
   "cell_type": "markdown",
   "metadata": {},
   "source": [
    "18. Write a program to calculate the nth Fibonacci number using memoization."
   ]
  },
  {
   "cell_type": "code",
   "execution_count": null,
   "metadata": {},
   "outputs": [],
   "source": [
    "def fibonacci(n, memo={}):\n",
    "    if n in memo:\n",
    "        return memo[n]\n",
    "    if n <= 1:\n",
    "        return n\n",
    "    memo[n] = fibonacci(n - 1, memo) + fibonacci(n - 2, memo)\n",
    "    return memo[n]\n",
    "\n",
    "# Example Usage\n",
    "n = 10\n",
    "print(\"Fibonacci Number:\", fibonacci(n))  # Output: 55\n"
   ]
  },
  {
   "cell_type": "markdown",
   "metadata": {},
   "source": [
    "19. Write a program to find the sum of unique elements in a list."
   ]
  },
  {
   "cell_type": "code",
   "execution_count": null,
   "metadata": {},
   "outputs": [],
   "source": [
    "def sum_of_unique(lst):\n",
    "    counts = {}\n",
    "    for num in lst:\n",
    "        counts[num] = counts.get(num, 0) + 1\n",
    "    return sum(num for num, count in counts.items() if count == 1)\n",
    "\n",
    "# Example Usage\n",
    "lst = [1, 2, 3, 2, 4, 5]\n",
    "print(\"Sum of Unique Elements:\", sum_of_unique(lst))  # Output: 9\n"
   ]
  },
  {
   "cell_type": "markdown",
   "metadata": {},
   "source": [
    "20. Write a program to check if one list is a subset of another."
   ]
  },
  {
   "cell_type": "code",
   "execution_count": null,
   "metadata": {},
   "outputs": [],
   "source": [
    "def is_subset(list1, list2):\n",
    "    return set(list1).issubset(set(list2))\n",
    "\n",
    "# Example Usage\n",
    "list1 = [1, 2, 3]\n",
    "list2 = [1, 2, 3, 4, 5]\n",
    "print(\"Is Subset:\", is_subset(list1, list2))  # Output: True"
   ]
  },
  {
   "cell_type": "markdown",
   "metadata": {},
   "source": [
    "21. Write a program to find the intersection of two lists."
   ]
  },
  {
   "cell_type": "code",
   "execution_count": null,
   "metadata": {},
   "outputs": [],
   "source": [
    "def intersect_lists(list1, list2):\n",
    "    return list(set(list1) & set(list2))\n",
    "\n",
    "# Example Usage\n",
    "list1 = [1, 2, 3, 4]\n",
    "list2 = [3, 4, 5, 6]\n",
    "print(\"Intersection:\", intersect_lists(list1, list2))  # Output: [3, 4]\n"
   ]
  },
  {
   "cell_type": "markdown",
   "metadata": {},
   "source": [
    "22. Given a list of integers, find the length of the longest increasing subsequence."
   ]
  },
  {
   "cell_type": "code",
   "execution_count": null,
   "metadata": {},
   "outputs": [],
   "source": [
    "def longest_increasing_subsequence(nums):\n",
    "    if not nums:\n",
    "        return 0\n",
    "    dp = [1] * len(nums)\n",
    "    for i in range(1, len(nums)):\n",
    "        for j in range(i):\n",
    "            if nums[i] > nums[j]:\n",
    "                dp[i] = max(dp[i], dp[j] + 1)\n",
    "    return max(dp)\n",
    "\n",
    "# Example Usage\n",
    "nums = [10, 9, 2, 5, 3, 7, 101, 18]\n",
    "print(\"Length of Longest Increasing Subsequence:\", longest_increasing_subsequence(nums))  # Output: 4\n"
   ]
  },
  {
   "cell_type": "markdown",
   "metadata": {},
   "source": [
    "23. Write a program to find all unique pairs of numbers in a list that add up to a given target sum.\n"
   ]
  },
  {
   "cell_type": "code",
   "execution_count": null,
   "metadata": {},
   "outputs": [],
   "source": [
    "def find_pairs_with_sum(nums, target):\n",
    "    seen = set()\n",
    "    pairs = set()\n",
    "    for num in nums:\n",
    "        complement = target - num\n",
    "        if complement in seen:\n",
    "            pairs.add((min(num, complement), max(num, complement)))\n",
    "        seen.add(num)\n",
    "    return list(pairs)\n",
    "\n",
    "# Example Usage\n",
    "nums = [1, 2, 3, 4, 5]\n",
    "target = 5\n",
    "print(\"Pairs with Sum:\", find_pairs_with_sum(nums, target))  # Output: [(1, 4), (2, 3)]\n"
   ]
  },
  {
   "cell_type": "markdown",
   "metadata": {},
   "source": [
    "24. Write a program to flatten a nested list into a single list.\n"
   ]
  },
  {
   "cell_type": "code",
   "execution_count": null,
   "metadata": {},
   "outputs": [],
   "source": [
    "def flatten_list(nested_list):\n",
    "    flat_list = []\n",
    "    for item in nested_list:\n",
    "        if isinstance(item, list):\n",
    "            flat_list.extend(flatten_list(item))\n",
    "        else:\n",
    "            flat_list.append(item)\n",
    "    return flat_list\n",
    "\n",
    "# Example Usage\n",
    "nested_list = [1, [2, [3, 4], 5], 6]\n",
    "print(\"Flattened List:\", flatten_list(nested_list))  # Output: [1, 2, 3, 4, 5, 6]\n"
   ]
  },
  {
   "cell_type": "markdown",
   "metadata": {},
   "source": [
    "25. Write a program to find the first non-repeating character in a string.\n"
   ]
  },
  {
   "cell_type": "code",
   "execution_count": null,
   "metadata": {},
   "outputs": [],
   "source": [
    "def first_non_repeating_character(s):\n",
    "    counts = {}\n",
    "    for char in s:\n",
    "        counts[char] = counts.get(char, 0) + 1\n",
    "    for char in s:\n",
    "        if counts[char] == 1:\n",
    "            return char\n",
    "    return None\n",
    "\n",
    "# Example Usage\n",
    "s = \"swiss\"\n",
    "print(\"First Non-Repeating Character:\", first_non_repeating_character(s))  # Output: 'w'\n"
   ]
  },
  {
   "cell_type": "markdown",
   "metadata": {},
   "source": [
    "26. Write a program to find the longest palindromic substring in a given string.\n"
   ]
  },
  {
   "cell_type": "code",
   "execution_count": null,
   "metadata": {},
   "outputs": [],
   "source": [
    "def longest_palindrome(s):\n",
    "    longest = \"\"\n",
    "    for i in range(len(s)):\n",
    "        # Odd length palindromes\n",
    "        odd = expand_around_center(s, i, i)\n",
    "        if len(odd) > len(longest):\n",
    "            longest = odd\n",
    "        \n",
    "        # Even length palindromes\n",
    "        even = expand_around_center(s, i, i + 1)\n",
    "        if len(even) > len(longest):\n",
    "            longest = even\n",
    "        \n",
    "    return longest\n",
    "\n",
    "def expand_around_center(s, left, right):\n",
    "    while left >= 0 and right < len(s) and s[left] == s[right]:\n",
    "        left -= 1\n",
    "        right += 1\n",
    "    return s[left + 1:right]\n",
    "\n",
    "# Example Usage\n",
    "s = \"babad\"\n",
    "print(\"Longest Palindromic Substring:\", longest_palindrome(s))  # Output: 'bab' or 'aba'\n"
   ]
  },
  {
   "cell_type": "markdown",
   "metadata": {},
   "source": [
    "27. Write a program to find all permutations of a given string.\n"
   ]
  },
  {
   "cell_type": "code",
   "execution_count": null,
   "metadata": {},
   "outputs": [],
   "source": [
    "from itertools import permutations\n",
    "\n",
    "def string_permutations(s):\n",
    "    return [''.join(p) for p in permutations(s)]\n",
    "\n",
    "# Example Usage\n",
    "s = \"abc\"\n",
    "print(\"Permutations:\", string_permutations(s))  # Output: ['abc', 'acb', 'bac', 'bca', 'cab', 'cba']\n"
   ]
  },
  {
   "cell_type": "markdown",
   "metadata": {},
   "source": [
    "28. Write a program to find the Kth largest element in an unsorted list.\n"
   ]
  },
  {
   "cell_type": "code",
   "execution_count": null,
   "metadata": {},
   "outputs": [],
   "source": [
    "def kth_largest(nums, k):\n",
    "    nums.sort(reverse=True)\n",
    "    return nums[k - 1]\n",
    "\n",
    "# Example Usage\n",
    "nums = [3, 2, 1, 5, 6, 4]\n",
    "k = 2\n",
    "print(\"Kth Largest Element:\", kth_largest(nums, k))  # Output: 5\n"
   ]
  },
  {
   "cell_type": "markdown",
   "metadata": {},
   "source": [
    "29. Write a program to find common elements in three lists.\n"
   ]
  },
  {
   "cell_type": "code",
   "execution_count": null,
   "metadata": {},
   "outputs": [],
   "source": [
    "def common_elements(list1, list2, list3):\n",
    "    return list(set(list1) & set(list2) & set(list3))\n",
    "\n",
    "# Example Usage\n",
    "list1 = [1, 2, 3]\n",
    "list2 = [2, 3, 4]\n",
    "list3 = [3, 5]\n",
    "print(\"Common Elements:\", common_elements(list1, list2, list3))  # Output: [3]\n"
   ]
  },
  {
   "cell_type": "markdown",
   "metadata": {},
   "source": [
    "30. Write a program to check if a string of parentheses is balanced.\n"
   ]
  },
  {
   "cell_type": "code",
   "execution_count": null,
   "metadata": {},
   "outputs": [],
   "source": [
    "def is_balanced(s):\n",
    "    stack = []\n",
    "    mapping = {')': '(', '}': '{', ']': '['}\n",
    "    for char in s:\n",
    "        if char in mapping.values():\n",
    "            stack.append(char)\n",
    "        elif char in mapping.keys():\n",
    "            if stack == [] or mapping[char] != stack.pop():\n",
    "                return False\n",
    "    return stack == []\n",
    "\n",
    "# Example Usage\n",
    "s = \"{[()]}\"\n",
    "print(\"Is Balanced:\", is_balanced(s))  # Output: True\n"
   ]
  },
  {
   "cell_type": "markdown",
   "metadata": {},
   "source": [
    "31. Write a program to count the number of vowels and consonants in a string."
   ]
  },
  {
   "cell_type": "code",
   "execution_count": null,
   "metadata": {},
   "outputs": [],
   "source": [
    "def count_vowels_consonants(s):\n",
    "    vowels = \"aeiouAEIOU\"\n",
    "    count_vowels = sum(1 for char in s if char in vowels)\n",
    "    count_consonants = sum(1 for char in s if char.isalpha() and char not in vowels)\n",
    "    return count_vowels, count_consonants\n",
    "\n",
    "# Example Usage\n",
    "s = \"Hello World!\"\n",
    "print(\"Vowels and Consonants Count:\", count_vowels_consonants(s))  # Output: (3, 7)\n"
   ]
  },
  {
   "cell_type": "markdown",
   "metadata": {},
   "source": [
    "32. Given a list of numbers from 1 to n, find all the missing numbers in that range.\n"
   ]
  },
  {
   "cell_type": "code",
   "execution_count": null,
   "metadata": {},
   "outputs": [],
   "source": [
    "def find_missing_numbers(nums, n):\n",
    "    return list(set(range(1, n + 1)) - set(nums))\n",
    "\n",
    "# Example Usage\n",
    "nums = [1, 2, 4, 6]\n",
    "n = 6\n",
    "print(\"Missing Numbers:\", find_missing_numbers(nums, n))  # Output: [3, 5]\n"
   ]
  },
  {
   "cell_type": "markdown",
   "metadata": {},
   "source": [
    "33. Write a program to group anagrams from a list of strings."
   ]
  },
  {
   "cell_type": "code",
   "execution_count": null,
   "metadata": {},
   "outputs": [],
   "source": [
    "from collections import defaultdict\n",
    "\n",
    "def group_anagrams(strs):\n",
    "    anagrams = defaultdict(list)\n",
    "    for s in strs:\n",
    "        key = ''.join(sorted(s))\n",
    "        anagrams[key].append(s)\n",
    "    return list(anagrams.values())\n",
    "\n",
    "# Example Usage\n",
    "strs = [\"eat\", \"tea\", \"tan\", \"ate\", \"nat\", \"bat\"]\n",
    "print(\"Grouped Anagrams:\", group_anagrams(strs))\n"
   ]
  },
  {
   "cell_type": "markdown",
   "metadata": {},
   "source": [
    "34. Write a program to merge overlapping intervals from a list of intervals.\n"
   ]
  },
  {
   "cell_type": "code",
   "execution_count": null,
   "metadata": {},
   "outputs": [],
   "source": [
    "def merge_intervals(intervals):\n",
    "    if not intervals:\n",
    "        return []\n",
    "    intervals.sort(key=lambda x: x[0])\n",
    "    merged = [intervals[0]]\n",
    "    \n",
    "    for current in intervals[1:]:\n",
    "        last_merged = merged[-1]\n",
    "        if current[0] <= last_merged[1]:  # Overlapping intervals\n",
    "            last_merged[1] = max(last_merged[1], current[1])\n",
    "        else:\n",
    "            merged.append(current)\n",
    "    \n",
    "    return merged\n",
    "\n",
    "# Example Usage\n",
    "intervals = [[1, 3], [2, 6], [8, 10], [15, 18]]\n",
    "print(\"Merged Intervals:\", merge_intervals(intervals))\n"
   ]
  },
  {
   "cell_type": "markdown",
   "metadata": {},
   "source": [
    "35. Write a program to find the intersection of two arrays."
   ]
  },
  {
   "cell_type": "code",
   "execution_count": null,
   "metadata": {},
   "outputs": [],
   "source": [
    "def intersect(nums1, nums2):\n",
    "    return list(set(nums1) & set(nums2))\n",
    "\n",
    "# Example Usage\n",
    "nums1 = [1, 2, 2, 1]\n",
    "nums2 = [2, 2]\n",
    "print(\"Intersection:\", intersect(nums1, nums2))  # Output: [2]\n"
   ]
  },
  {
   "cell_type": "markdown",
   "metadata": {},
   "source": [
    "36. Write a program to remove duplicates from a sorted list and return the new length."
   ]
  },
  {
   "cell_type": "code",
   "execution_count": null,
   "metadata": {},
   "outputs": [],
   "source": [
    "def remove_duplicates(nums):\n",
    "    if not nums:\n",
    "        return 0\n",
    "    unique_index = 1\n",
    "    for i in range(1, len(nums)):\n",
    "        if nums[i] != nums[i - 1]:\n",
    "            nums[unique_index] = nums[i]\n",
    "            unique_index += 1\n",
    "    return unique_index\n",
    "\n",
    "# Example Usage\n",
    "nums = [1, 1, 2]\n",
    "length = remove_duplicates(nums)\n",
    "print(\"New Length:\", length)  # Output: 2\n",
    "print(\"Updated List:\", nums[:length])  # Output: [1, 2]\n"
   ]
  },
  {
   "cell_type": "markdown",
   "metadata": {},
   "source": [
    "37. Write a program to rotate an array to the right by k steps."
   ]
  },
  {
   "cell_type": "code",
   "execution_count": null,
   "metadata": {},
   "outputs": [],
   "source": [
    "def rotate(nums, k):\n",
    "    k %= len(nums)\n",
    "    nums[:] = nums[-k:] + nums[:-k]\n",
    "\n",
    "# Example Usage\n",
    "nums = [1, 2, 3, 4, 5, 6, 7]\n",
    "k = 3\n",
    "rotate(nums, k)\n",
    "print(\"Rotated Array:\", nums)  # Output: [5, 6, 7, 1, 2, 3, 4]\n"
   ]
  },
  {
   "cell_type": "markdown",
   "metadata": {},
   "source": [
    "38. Write a program to find the maximum product of three numbers in a list."
   ]
  },
  {
   "cell_type": "code",
   "execution_count": null,
   "metadata": {},
   "outputs": [],
   "source": [
    "def maximum_product(nums):\n",
    "    nums.sort()\n",
    "    return max(nums[-1] * nums[-2] * nums[-3], nums[0] * nums[1] * nums[-1])\n",
    "\n",
    "# Example Usage\n",
    "nums = [-10, -10, 5, 2]\n",
    "print(\"Maximum Product:\", maximum_product(nums))  # Output: 500\n"
   ]
  },
  {
   "cell_type": "markdown",
   "metadata": {},
   "source": [
    "39. Write a program to check if a string is a subsequence of another string."
   ]
  },
  {
   "cell_type": "code",
   "execution_count": null,
   "metadata": {},
   "outputs": [],
   "source": [
    "def is_subsequence(s, t):\n",
    "    s_index, t_index = 0, 0\n",
    "    while s_index < len(s) and t_index < len(t):\n",
    "        if s[s_index] == t[t_index]:\n",
    "            s_index += 1\n",
    "        t_index += 1\n",
    "    return s_index == len(s)\n",
    "\n",
    "# Example Usage\n",
    "s = \"abc\"\n",
    "t = \"ahbgdc\"\n",
    "print(\"Is Subsequence:\", is_subsequence(s, t))  # Output: True\n"
   ]
  },
  {
   "cell_type": "markdown",
   "metadata": {},
   "source": [
    "40. Write a program to find the length of the shortest subarray with a sum at least K."
   ]
  },
  {
   "cell_type": "code",
   "execution_count": null,
   "metadata": {},
   "outputs": [],
   "source": [
    "from collections import deque\n",
    "\n",
    "def shortest_subarray(nums, k):\n",
    "    n = len(nums)\n",
    "    prefix_sums = [0] * (n + 1)\n",
    "    for i in range(n):\n",
    "        prefix_sums[i + 1] = prefix_sums[i] + nums[i]\n",
    "\n",
    "    result = float('inf')\n",
    "    q = deque()\n",
    "\n",
    "    for i in range(n + 1):\n",
    "        while q and prefix_sums[i] - prefix_sums[q[0]] >= k:\n",
    "            result = min(result, i - q.popleft())\n",
    "        while q and prefix_sums[i] <= prefix_sums[q[-1]]:\n",
    "            q.pop()\n",
    "        q.append(i)\n",
    "\n",
    "    return result if result != float('inf') else -1\n",
    "\n",
    "# Example Usage\n",
    "nums = [2, -1, 2, 1, 4]\n",
    "k = 3\n",
    "print(\"Length of Shortest Subarray:\", shortest_subarray(nums, k))  # Output: 2\n"
   ]
  }
 ],
 "metadata": {
  "language_info": {
   "name": "python"
  }
 },
 "nbformat": 4,
 "nbformat_minor": 2
}
