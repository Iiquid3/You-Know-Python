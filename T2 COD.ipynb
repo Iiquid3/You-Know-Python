{
 "cells": [
  {
   "cell_type": "markdown",
   "metadata": {},
   "source": [
    "## Easy Questions\n",
    "\n",
    "1. Rohan is cleaning up a list of strings that contain usernames from a recent signup form. He needs to convert each username to lowercase and then display the updated list. Write a program that converts each string in a given list to lowercase and prints the updated list."
   ]
  },
  {
   "cell_type": "code",
   "execution_count": null,
   "metadata": {},
   "outputs": [],
   "source": [
    "usernames = [\"UserOne\", \"USERtwo\", \"UserThree\"]\n",
    "usernames = [user.lower() for user in usernames]\n",
    "print(usernames)"
   ]
  },
  {
   "cell_type": "markdown",
   "metadata": {},
   "source": [
    "2. Tina has a list of numbers, and she wants to calculate the sum of all even numbers in the list. Write a program to help Tina achieve this."
   ]
  },
  {
   "cell_type": "code",
   "execution_count": null,
   "metadata": {},
   "outputs": [],
   "source": [
    "numbers = [1, 2, 3, 4, 5, 6]\n",
    "even_sum = sum([num for num in numbers if num % 2 == 0])\n",
    "print(even_sum)"
   ]
  },
  {
   "cell_type": "markdown",
   "metadata": {},
   "source": [
    "3. Evan is categorizing a list of names based on their lengths. Write a program that categorizes each name as \"short\" (length < 5), \"medium\" (length 5-7), or \"long\" (length > 7) and prints the categorized names."
   ]
  },
  {
   "cell_type": "code",
   "execution_count": null,
   "metadata": {},
   "outputs": [],
   "source": [
    "names = [\"Alex\", \"Benjamin\", \"Mia\", \"Christopher\"]\n",
    "categorized_names = {\"short\": [], \"medium\": [], \"long\": []}\n",
    "for name in names:\n",
    "    if len(name) < 5:\n",
    "        categorized_names[\"short\"].append(name)\n",
    "    elif len(name) <= 7:\n",
    "        categorized_names[\"medium\"].append(name)\n",
    "    else:\n",
    "        categorized_names[\"long\"].append(name)\n",
    "print(categorized_names)\n"
   ]
  },
  {
   "cell_type": "markdown",
   "metadata": {},
   "source": [
    "4. Dev is filtering out negative numbers from a list of integers. Write a program that removes all negative numbers and displays only the non-negative numbers in the original order."
   ]
  },
  {
   "cell_type": "code",
   "execution_count": null,
   "metadata": {},
   "outputs": [],
   "source": [
    "numbers = [-5, 3, -1, 7, -2, 0, 4]\n",
    "non_negative_numbers = [num for num in numbers if num >= 0]\n",
    "print(non_negative_numbers)"
   ]
  },
  {
   "cell_type": "markdown",
   "metadata": {},
   "source": [
    "5. Samuel is organizing a list of student names in alphabetical order. Write a program to sort a given list of names and print the sorted list using the sort() method."
   ]
  },
  {
   "cell_type": "code",
   "execution_count": null,
   "metadata": {},
   "outputs": [],
   "source": [
    "# Input list of names\n",
    "names = [\"John\", \"Alice\", \"Bob\", \"Daisy\"]\n",
    "\n",
    "# Sort the list using the sort() method\n",
    "names.sort()\n",
    "\n",
    "# Print the sorted list\n",
    "print(\"Sorted names:\", names)"
   ]
  },
  {
   "cell_type": "markdown",
   "metadata": {},
   "source": [
    "6. Hannah has a list of numbers and needs to calculate the product of all elements in the list. Write a program that iterates through the list and finds the product of its elements."
   ]
  },
  {
   "cell_type": "code",
   "execution_count": null,
   "metadata": {},
   "outputs": [],
   "source": [
    "# Input list of numbers\n",
    "numbers = [2, 3, 4, 5]\n",
    "\n",
    "# Initialize the product variable\n",
    "product = 1\n",
    "\n",
    "# Iterate through the list to calculate the product\n",
    "for number in numbers:\n",
    "    product *= number\n",
    "\n",
    "# Print the product\n",
    "print(\"Product of all elements:\", product)"
   ]
  },
  {
   "cell_type": "markdown",
   "metadata": {},
   "source": [
    "7. Olivia has a list of exam scores. She needs to identify and print the number of passing scores, defined as scores greater than or equal to 40. Write a program that uses the count() method to achieve this."
   ]
  },
  {
   "cell_type": "code",
   "execution_count": null,
   "metadata": {},
   "outputs": [],
   "source": [
    "# Input list of exam scores\n",
    "scores = [55, 38, 75, 42, 18, 64]\n",
    "\n",
    "# Define the passing mark\n",
    "passing_mark = 40\n",
    "\n",
    "# Count passing scores using list comprehension\n",
    "passing_scores = len([score for score in scores if score >= passing_mark])\n",
    "\n",
    "# Print the number of passing scores\n",
    "print(\"Number of passing scores:\", passing_scores)"
   ]
  },
  {
   "cell_type": "markdown",
   "metadata": {},
   "source": [
    "8. Liam wants to know the total number of unique colors in a list of colors. Implement a program that converts the list into a set to remove duplicates and then prints the number of unique colors."
   ]
  },
  {
   "cell_type": "code",
   "execution_count": null,
   "metadata": {},
   "outputs": [],
   "source": [
    "# Input list of colors\n",
    "colors = [\"red\", \"blue\", \"green\", \"blue\", \"yellow\", \"red\"]\n",
    "\n",
    "# Convert the list to a set to remove duplicates\n",
    "unique_colors = set(colors)\n",
    "\n",
    "# Print the number of unique colors\n",
    "print(\"Number of unique colors:\", len(unique_colors))"
   ]
  },
  {
   "cell_type": "markdown",
   "metadata": {},
   "source": [
    "9. Eva wants to identify and remove empty strings from a list of usernames. Write a program that filters out empty strings and prints the cleaned list using list comprehension."
   ]
  },
  {
   "cell_type": "code",
   "execution_count": null,
   "metadata": {},
   "outputs": [],
   "source": [
    "# Input list of usernames\n",
    "usernames = [\"John\", \"\", \"Alice\", \"\", \"Bob\"]\n",
    "\n",
    "# Remove empty strings using list comprehension\n",
    "cleaned_list = [user for user in usernames if user]\n",
    "\n",
    "# Print the cleaned list\n",
    "print(\"Cleaned list:\", cleaned_list)"
   ]
  },
  {
   "cell_type": "markdown",
   "metadata": {},
   "source": [
    "10. Jacob wants to merge two dictionaries of employee salaries. Write a program that merges two dictionaries into a single dictionary and prints the result."
   ]
  },
  {
   "cell_type": "code",
   "execution_count": null,
   "metadata": {},
   "outputs": [],
   "source": [
    "# Input dictionaries\n",
    "dict1 = {\"John\": 5000, \"Alice\": 6000}\n",
    "dict2 = {\"Bob\": 4500, \"Daisy\": 7000}\n",
    "\n",
    "# Merge dictionaries\n",
    "merged_dict = {**dict1, **dict2}\n",
    "\n",
    "# Print the merged dictionary\n",
    "print(\"Merged dictionary:\", merged_dict)\n"
   ]
  },
  {
   "cell_type": "markdown",
   "metadata": {},
   "source": [
    "11. Ella has a list of mixed data types (integers and strings) and wants to separate the integers into a new list. Write a program that filters out the integers and prints the new list."
   ]
  },
  {
   "cell_type": "code",
   "execution_count": null,
   "metadata": {},
   "outputs": [],
   "source": [
    "# Input list with mixed data types\n",
    "mixed_data = [12, \"Alice\", 15, \"Bob\", 23, \"Daisy\", 8]\n",
    "\n",
    "# Filter integers using list comprehension\n",
    "integers_list = [item for item in mixed_data if isinstance(item, int)]\n",
    "\n",
    "# Print the list of integers\n",
    "print(\"List of integers:\", integers_list)"
   ]
  },
  {
   "cell_type": "markdown",
   "metadata": {},
   "source": [
    "12. Ben wants to determine whether a list of numbers is sorted in ascending order. Write a program that checks if the list is sorted and prints True if sorted, otherwise False."
   ]
  },
  {
   "cell_type": "code",
   "execution_count": null,
   "metadata": {},
   "outputs": [],
   "source": [
    "# Input list of integers\n",
    "numbers = [10, 20, 30, 40, 50]\n",
    "\n",
    "# Check if the list is sorted in ascending order\n",
    "is_sorted = numbers == sorted(numbers)\n",
    "\n",
    "# Print the result\n",
    "print(\"Is the list sorted in ascending order?\", is_sorted)\n"
   ]
  },
  {
   "cell_type": "markdown",
   "metadata": {},
   "source": [
    "## Medium Questions\n",
    "\n",
    "1. Lia is preparing a list of scores for a school competition. She needs to identify how many unique scores are above a certain passing mark. Implement a program to help Lia sort the scores, remove duplicates, and count how many unique scores are greater than the passing mark. Note: Use the sort(), append(), and count() list methods."
   ]
  },
  {
   "cell_type": "code",
   "execution_count": null,
   "metadata": {},
   "outputs": [],
   "source": [
    "scores = [60, 70, 70, 80, 90, 100]\n",
    "passing_mark = 75\n",
    "unique_scores = sorted(set(scores))\n",
    "above_passing = [score for score in unique_scores if score > passing_mark]\n",
    "count = len(above_passing)\n",
    "print(\"Count of unique scores above passing mark:\", count)"
   ]
  },
  {
   "cell_type": "markdown",
   "metadata": {},
   "source": [
    "2. Jamie is organizing a math competition for students in his school. To evaluate their performance, Jamie needs to calculate several statistics from the scores of the students. Given a list of scores, Jamie needs to find the average score, the highest and lowest scores, and count how many students scored above the average."
   ]
  },
  {
   "cell_type": "code",
   "execution_count": null,
   "metadata": {},
   "outputs": [],
   "source": [
    "scores = [60, 75, 80, 90, 100]\n",
    "average_score = sum(scores) / len(scores)\n",
    "highest_score = max(scores)\n",
    "lowest_score = min(scores)\n",
    "above_average_count = sum(1 for score in scores if score > average_score)\n",
    "\n",
    "print(\"Average score:\", average_score)\n",
    "print(\"Highest score:\", highest_score)\n",
    "print(\"Lowest score:\", lowest_score)\n",
    "print(\"Number of students above average:\", above_average_count)"
   ]
  },
  {
   "cell_type": "markdown",
   "metadata": {},
   "source": [
    "3. Steve is analyzing sensor data recorded by multiple devices, each providing integer values. Given a list of these values and a threshold, Steve needs to identify unique positive prime numbers that exceed this threshold, excluding any negative values. The results should display these primes in ascending order."
   ]
  },
  {
   "cell_type": "code",
   "execution_count": null,
   "metadata": {},
   "outputs": [],
   "source": [
    "def is_prime(n):\n",
    "    if n < 2:\n",
    "        return False\n",
    "    for i in range(2, int(n**0.5) + 1):\n",
    "        if n % i == 0:\n",
    "            return False\n",
    "    return True\n",
    "\n",
    "values = [2, 3, 4, 5, -1, 7, 11, 13]\n",
    "threshold = 5\n",
    "primes = sorted({num for num in values if is_prime(num) and num > threshold})\n",
    "\n",
    "if primes:\n",
    "    print(\"Unique primes exceeding threshold:\", primes)\n",
    "else:\n",
    "    print(\"No valid primes found\")"
   ]
  },
  {
   "cell_type": "markdown",
   "metadata": {},
   "source": [
    "4. Kyara is analyzing a series of measurements taken over time. She needs to identify all the \"peaks\" in this list of integers. A peak is defined as an element that is greater than its immediate neighbors."
   ]
  },
  {
   "cell_type": "code",
   "execution_count": null,
   "metadata": {},
   "outputs": [],
   "source": [
    "numbers = [1, 3, 2, 5, 4, 6, 5]\n",
    "peaks = [numbers[i] for i in range(len(numbers)) if \n",
    "         (i == 0 and numbers[i] > numbers[i + 1]) or\n",
    "         (i == len(numbers) - 1 and numbers[i] > numbers[i - 1]) or\n",
    "         (0 < i < len(numbers) - 1 and numbers[i] > numbers[i - 1] and numbers[i] > numbers[i + 1])]\n",
    "\n",
    "print(\"Peaks in the list:\", peaks)\n"
   ]
  },
  {
   "cell_type": "markdown",
   "metadata": {},
   "source": [
    "5. Charles is a researcher analyzing data from a series of experiments. He needs to process a list of experiment results by removing the first and last results and then applying a transformation based on the values."
   ]
  },
  {
   "cell_type": "code",
   "execution_count": null,
   "metadata": {},
   "outputs": [],
   "source": [
    "results = [2, 5, 8, 9, 4]\n",
    "transformed_results = []\n",
    "\n",
    "for result in results[1:-1]:  # Remove first and last\n",
    "    if result % 2 == 0:\n",
    "        transformed_results.append(result - 3)\n",
    "    else:\n",
    "        transformed_results.append(result * 2)\n",
    "\n",
    "print(\"Transformed results:\", transformed_results)"
   ]
  },
  {
   "cell_type": "markdown",
   "metadata": {},
   "source": [
    "6. Henry is analyzing a dataset of employee ages to filter out employees older than a certain age threshold. Given a list of ages and an age threshold, Henry needs a way to remove all ages from the list that do not exceed the threshold."
   ]
  },
  {
   "cell_type": "code",
   "execution_count": null,
   "metadata": {},
   "outputs": [],
   "source": [
    "ages = [25, 30, 45, 50, 60]\n",
    "threshold = 40\n",
    "filtered_ages = [age for age in ages if age > threshold]\n",
    "filtered_ages.sort()  # Sort ages in ascending order\n",
    "print(\"Filtered ages above threshold:\", filtered_ages)"
   ]
  },
  {
   "cell_type": "markdown",
   "metadata": {},
   "source": [
    "7. George is hosting a grand event and needs to create a unique seating arrangement by interleaving two lists of guests: VIPs and regular attendees."
   ]
  },
  {
   "cell_type": "code",
   "execution_count": null,
   "metadata": {},
   "outputs": [],
   "source": [
    "vips = ['Alice', 'Bob', 'Charlie']\n",
    "regulars = ['David', 'Eva', 'Frank', 'Grace']\n",
    "interleaved = []\n",
    "\n",
    "for v, r in zip(vips, regulars):\n",
    "    interleaved.append(v)\n",
    "    interleaved.append(r)\n",
    "\n",
    "# Append remaining guests if one list is longer\n",
    "interleaved.extend(vips[len(regulars):])\n",
    "interleaved.extend(regulars[len(vips):])\n",
    "\n",
    "print(\"Final interleaved list:\", interleaved)"
   ]
  },
  {
   "cell_type": "markdown",
   "metadata": {},
   "source": [
    "8. Robert is organizing a treasure hunt event and needs to arrange clues in a specific pattern. The clues are represented by integers."
   ]
  },
  {
   "cell_type": "code",
   "execution_count": null,
   "metadata": {},
   "outputs": [],
   "source": [
    "clues = [5, 3, 8, 6, 2, 4]\n",
    "clues.sort()\n",
    "arranged_clues = []\n",
    "\n",
    "while clues:\n",
    "    arranged_clues.append(clues.pop(0))  # Smallest\n",
    "    if clues: arranged_clues.append(clues.pop())  # Largest\n",
    "\n",
    "print(\"Arranged clues:\", arranged_clues)"
   ]
  },
  {
   "cell_type": "markdown",
   "metadata": {},
   "source": [
    "9. Austin is organizing a scavenger hunt and has received a sorted list of clue numbers. To ensure all potential clues are accounted for, he needs to identify the missing numbers between these clues."
   ]
  },
  {
   "cell_type": "code",
   "execution_count": null,
   "metadata": {},
   "outputs": [],
   "source": [
    "sorted_clues = [1, 3, 7]\n",
    "all_clues = set(range(min(sorted_clues), max(sorted_clues) + 1))\n",
    "missing_clues = sorted(all_clues - set(sorted_clues))\n",
    "\n",
    "print(\"Missing clues:\", missing_clues)"
   ]
  },
  {
   "cell_type": "markdown",
   "metadata": {},
   "source": [
    "10. Gowshik is working on a task that involves taking two lists of integers as input, finding the element-wise sum of the corresponding elements, and then creating a tuple containing the sum values."
   ]
  },
  {
   "cell_type": "code",
   "execution_count": null,
   "metadata": {},
   "outputs": [],
   "source": [
    "list1 = [1, 2, 3]\n",
    "list2 = [4, 5, 6]\n",
    "element_wise_sum = tuple(a + b for a, b in zip(list1, list2))\n",
    "\n",
    "print(\"Element-wise sum tuple:\", element_wise_sum)"
   ]
  },
  {
   "cell_type": "markdown",
   "metadata": {},
   "source": [
    "## Hard Questions\n",
    "\n",
    "1. Oliver is a mathematician exploring sequences. He wants to analyze a sequence of integers by calculating the product of every pair of consecutive elements in a tuple."
   ]
  },
  {
   "cell_type": "code",
   "execution_count": 1,
   "metadata": {},
   "outputs": [
    {
     "name": "stdout",
     "output_type": "stream",
     "text": [
      "Product of consecutive pairs: (2, 6, 12)\n"
     ]
    }
   ],
   "source": [
    "numbers = (1, 2, 3, 4)\n",
    "products = tuple(numbers[i] * numbers[i + 1] for i in range(len(numbers) - 1))\n",
    "\n",
    "print(\"Product of consecutive pairs:\", products)"
   ]
  },
  {
   "cell_type": "markdown",
   "metadata": {},
   "source": [
    "2. George is revisiting the scores of his recent basketball games and decides to update the score of the second game after reviewing the footage. Given the size of a tuple and the scores of the games in the tuple, as well as a new score for the second game."
   ]
  },
  {
   "cell_type": "code",
   "execution_count": null,
   "metadata": {},
   "outputs": [],
   "source": [
    "scores = (20, 30, 40)\n",
    "new_score = 35\n",
    "updated_scores = scores[:1] + (new_score,) + scores[2:]\n",
    "\n",
    "print(\"Updated scores:\", updated_scores)"
   ]
  },
  {
   "cell_type": "markdown",
   "metadata": {},
   "source": [
    "3. Mia is working on a project that involves string manipulations. Given a string and an integer n, she needs to rotate the string n times to the right."
   ]
  },
  {
   "cell_type": "code",
   "execution_count": null,
   "metadata": {},
   "outputs": [],
   "source": [
    "def rotate_string(s, n):\n",
    "    n %= len(s)\n",
    "    return s[-n:] + s[:-n]\n",
    "\n",
    "original_string = \"hello\"\n",
    "n = 2\n",
    "rotated_string = rotate_string(original_string, n)\n",
    "\n",
    "print(\"Rotated string:\", rotated_string)"
   ]
  },
  {
   "cell_type": "markdown",
   "metadata": {},
   "source": [
    "4. Sarah is managing inventory data and needs to check if a list of items in stock is a subset of a master list of all items available in the store."
   ]
  },
  {
   "cell_type": "code",
   "execution_count": null,
   "metadata": {},
   "outputs": [],
   "source": [
    "master_list = ['apple', 'banana', 'orange', 'grape']\n",
    "stock_list = ['banana', 'grape']\n",
    "\n",
    "is_subset = set(stock_list).issubset(master_list)\n",
    "\n",
    "print(\"Is stock list a subset of master list?\", is_subset)"
   ]
  },
  {
   "cell_type": "markdown",
   "metadata": {},
   "source": [
    "5. Jack is analyzing the frequency of characters in a given string to understand its composition better. He needs to count how often each character appears in the string."
   ]
  },
  {
   "cell_type": "code",
   "execution_count": null,
   "metadata": {},
   "outputs": [],
   "source": [
    "from collections import Counter\n",
    "\n",
    "input_string = \"hello world\"\n",
    "char_frequency = Counter(input_string.replace(\" \", \"\"))  # Ignore spaces\n",
    "print(\"Character frequency:\", char_frequency)"
   ]
  },
  {
   "cell_type": "markdown",
   "metadata": {},
   "source": [
    "6. Lucas is managing a database of employee names and their corresponding IDs. He wants to create a dictionary where the keys are employee IDs and the values are their names."
   ]
  },
  {
   "cell_type": "code",
   "execution_count": null,
   "metadata": {},
   "outputs": [],
   "source": [
    "names = ['Alice', 'Bob', 'Charlie']\n",
    "ids = [101, 102, 103]\n",
    "employee_dict = {ids[i]: names[i] for i in range(len(ids))}\n",
    "\n",
    "print(\"Employee dictionary:\", employee_dict)"
   ]
  },
  {
   "cell_type": "markdown",
   "metadata": {},
   "source": [
    "7. Nina is working on a text processing feature and wants to identify the longest substring without repeating characters in a given string."
   ]
  },
  {
   "cell_type": "code",
   "execution_count": null,
   "metadata": {},
   "outputs": [],
   "source": [
    "def longest_unique_substring(s):\n",
    "    start, max_length, char_index = 0, 0, {}\n",
    "    for i, char in enumerate(s):\n",
    "        if char in char_index and char_index[char] >= start:\n",
    "            start = char_index[char] + 1\n",
    "        char_index[char] = i\n",
    "        max_length = max(max_length, i - start + 1)\n",
    "    return max_length\n",
    "\n",
    "input_string = \"abcabcbb\"\n",
    "length = longest_unique_substring(input_string)\n",
    "\n",
    "print(\"Length of the longest substring without repeating characters:\", length)"
   ]
  }
 ],
 "metadata": {
  "kernelspec": {
   "display_name": "Python 3",
   "language": "python",
   "name": "python3"
  },
  "language_info": {
   "codemirror_mode": {
    "name": "ipython",
    "version": 3
   },
   "file_extension": ".py",
   "mimetype": "text/x-python",
   "name": "python",
   "nbconvert_exporter": "python",
   "pygments_lexer": "ipython3",
   "version": "3.12.7"
  }
 },
 "nbformat": 4,
 "nbformat_minor": 2
}
