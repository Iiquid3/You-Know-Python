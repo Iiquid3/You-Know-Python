{
 "cells": [
  {
   "cell_type": "markdown",
   "metadata": {},
   "source": [
    "## Easy Questions\n",
    "\n",
    "1. Rohan is cleaning up a list of strings that contain usernames from a recent signup form. He needs to convert each username to lowercase and then display the updated list. Write a program that converts each string in a given list to lowercase and prints the updated list."
   ]
  },
  {
   "cell_type": "code",
   "execution_count": null,
   "metadata": {},
   "outputs": [],
   "source": [
    "usernames = [\"UserOne\", \"USERtwo\", \"UserThree\"]\n",
    "usernames = [user.lower() for user in usernames]\n",
    "print(usernames)"
   ]
  },
  {
   "cell_type": "markdown",
   "metadata": {},
   "source": [
    "2. Tina has a list of numbers, and she wants to calculate the sum of all even numbers in the list. Write a program to help Tina achieve this."
   ]
  },
  {
   "cell_type": "code",
   "execution_count": null,
   "metadata": {},
   "outputs": [],
   "source": [
    "numbers = [1, 2, 3, 4, 5, 6]\n",
    "even_sum = sum([num for num in numbers if num % 2 == 0])\n",
    "print(even_sum)"
   ]
  },
  {
   "cell_type": "markdown",
   "metadata": {},
   "source": [
    "3. Evan is categorizing a list of names based on their lengths. Write a program that categorizes each name as \"short\" (length < 5), \"medium\" (length 5-7), or \"long\" (length > 7) and prints the categorized names."
   ]
  },
  {
   "cell_type": "code",
   "execution_count": null,
   "metadata": {},
   "outputs": [],
   "source": [
    "names = [\"Alex\", \"Benjamin\", \"Mia\", \"Christopher\"]\n",
    "categorized_names = {\"short\": [], \"medium\": [], \"long\": []}\n",
    "for name in names:\n",
    "    if len(name) < 5:\n",
    "        categorized_names[\"short\"].append(name)\n",
    "    elif len(name) <= 7:\n",
    "        categorized_names[\"medium\"].append(name)\n",
    "    else:\n",
    "        categorized_names[\"long\"].append(name)\n",
    "print(categorized_names)\n"
   ]
  },
  {
   "cell_type": "markdown",
   "metadata": {},
   "source": [
    "4. Dev is filtering out negative numbers from a list of integers. Write a program that removes all negative numbers and displays only the non-negative numbers in the original order."
   ]
  },
  {
   "cell_type": "code",
   "execution_count": null,
   "metadata": {},
   "outputs": [],
   "source": [
    "numbers = [-5, 3, -1, 7, -2, 0, 4]\n",
    "non_negative_numbers = [num for num in numbers if num >= 0]\n",
    "print(non_negative_numbers)"
   ]
  },
  {
   "cell_type": "markdown",
   "metadata": {},
   "source": [
    "5. Samuel is organizing a list of student names in alphabetical order. Write a program to sort a given list of names and print the sorted list using the sort() method."
   ]
  },
  {
   "cell_type": "code",
   "execution_count": null,
   "metadata": {},
   "outputs": [],
   "source": [
    "# Input list of names\n",
    "names = [\"John\", \"Alice\", \"Bob\", \"Daisy\"]\n",
    "\n",
    "# Sort the list using the sort() method\n",
    "names.sort()\n",
    "\n",
    "# Print the sorted list\n",
    "print(\"Sorted names:\", names)"
   ]
  },
  {
   "cell_type": "markdown",
   "metadata": {},
   "source": [
    "6. Hannah has a list of numbers and needs to calculate the product of all elements in the list. Write a program that iterates through the list and finds the product of its elements."
   ]
  },
  {
   "cell_type": "code",
   "execution_count": null,
   "metadata": {},
   "outputs": [],
   "source": [
    "# Input list of numbers\n",
    "numbers = [2, 3, 4, 5]\n",
    "\n",
    "# Initialize the product variable\n",
    "product = 1\n",
    "\n",
    "# Iterate through the list to calculate the product\n",
    "for number in numbers:\n",
    "    product *= number\n",
    "\n",
    "# Print the product\n",
    "print(\"Product of all elements:\", product)"
   ]
  },
  {
   "cell_type": "markdown",
   "metadata": {},
   "source": [
    "7. Olivia has a list of exam scores. She needs to identify and print the number of passing scores, defined as scores greater than or equal to 40. Write a program that uses the count() method to achieve this."
   ]
  },
  {
   "cell_type": "code",
   "execution_count": null,
   "metadata": {},
   "outputs": [],
   "source": [
    "# Input list of exam scores\n",
    "scores = [55, 38, 75, 42, 18, 64]\n",
    "\n",
    "# Define the passing mark\n",
    "passing_mark = 40\n",
    "\n",
    "# Count passing scores using list comprehension\n",
    "passing_scores = len([score for score in scores if score >= passing_mark])\n",
    "\n",
    "# Print the number of passing scores\n",
    "print(\"Number of passing scores:\", passing_scores)"
   ]
  },
  {
   "cell_type": "markdown",
   "metadata": {},
   "source": [
    "8. Liam wants to know the total number of unique colors in a list of colors. Implement a program that converts the list into a set to remove duplicates and then prints the number of unique colors."
   ]
  },
  {
   "cell_type": "code",
   "execution_count": null,
   "metadata": {},
   "outputs": [],
   "source": [
    "# Input list of colors\n",
    "colors = [\"red\", \"blue\", \"green\", \"blue\", \"yellow\", \"red\"]\n",
    "\n",
    "# Convert the list to a set to remove duplicates\n",
    "unique_colors = set(colors)\n",
    "\n",
    "# Print the number of unique colors\n",
    "print(\"Number of unique colors:\", len(unique_colors))"
   ]
  },
  {
   "cell_type": "markdown",
   "metadata": {},
   "source": [
    "9. Eva wants to identify and remove empty strings from a list of usernames. Write a program that filters out empty strings and prints the cleaned list using list comprehension."
   ]
  },
  {
   "cell_type": "code",
   "execution_count": null,
   "metadata": {},
   "outputs": [],
   "source": [
    "# Input list of usernames\n",
    "usernames = [\"John\", \"\", \"Alice\", \"\", \"Bob\"]\n",
    "\n",
    "# Remove empty strings using list comprehension\n",
    "cleaned_list = [user for user in usernames if user]\n",
    "\n",
    "# Print the cleaned list\n",
    "print(\"Cleaned list:\", cleaned_list)"
   ]
  },
  {
   "cell_type": "markdown",
   "metadata": {},
   "source": [
    "10. Jacob wants to merge two dictionaries of employee salaries. Write a program that merges two dictionaries into a single dictionary and prints the result."
   ]
  },
  {
   "cell_type": "code",
   "execution_count": null,
   "metadata": {},
   "outputs": [],
   "source": [
    "# Input dictionaries\n",
    "dict1 = {\"John\": 5000, \"Alice\": 6000}\n",
    "dict2 = {\"Bob\": 4500, \"Daisy\": 7000}\n",
    "\n",
    "# Merge dictionaries\n",
    "merged_dict = {**dict1, **dict2}\n",
    "\n",
    "# Print the merged dictionary\n",
    "print(\"Merged dictionary:\", merged_dict)\n"
   ]
  },
  {
   "cell_type": "markdown",
   "metadata": {},
   "source": [
    "11. Ella has a list of mixed data types (integers and strings) and wants to separate the integers into a new list. Write a program that filters out the integers and prints the new list."
   ]
  },
  {
   "cell_type": "code",
   "execution_count": null,
   "metadata": {},
   "outputs": [],
   "source": [
    "# Input list with mixed data types\n",
    "mixed_data = [12, \"Alice\", 15, \"Bob\", 23, \"Daisy\", 8]\n",
    "\n",
    "# Filter integers using list comprehension\n",
    "integers_list = [item for item in mixed_data if isinstance(item, int)]\n",
    "\n",
    "# Print the list of integers\n",
    "print(\"List of integers:\", integers_list)"
   ]
  },
  {
   "cell_type": "markdown",
   "metadata": {},
   "source": [
    "12. Ben wants to determine whether a list of numbers is sorted in ascending order. Write a program that checks if the list is sorted and prints True if sorted, otherwise False."
   ]
  },
  {
   "cell_type": "code",
   "execution_count": null,
   "metadata": {},
   "outputs": [],
   "source": [
    "# Input list of integers\n",
    "numbers = [10, 20, 30, 40, 50]\n",
    "\n",
    "# Check if the list is sorted in ascending order\n",
    "is_sorted = numbers == sorted(numbers)\n",
    "\n",
    "# Print the result\n",
    "print(\"Is the list sorted in ascending order?\", is_sorted)\n"
   ]
  },
  {
   "cell_type": "markdown",
   "metadata": {},
   "source": [
    "## Medium Questions\n",
    "\n",
    "1. Lia is preparing a list of scores for a school competition. She needs to identify how many unique scores are above a certain passing mark. Implement a program to help Lia sort the scores, remove duplicates, and count how many unique scores are greater than the passing mark. Note: Use the sort(), append(), and count() list methods."
   ]
  },
  {
   "cell_type": "code",
   "execution_count": null,
   "metadata": {},
   "outputs": [],
   "source": [
    "scores = [60, 70, 70, 80, 90, 100]\n",
    "passing_mark = 75\n",
    "unique_scores = sorted(set(scores))\n",
    "above_passing = [score for score in unique_scores if score > passing_mark]\n",
    "count = len(above_passing)\n",
    "print(\"Count of unique scores above passing mark:\", count)"
   ]
  },
  {
   "cell_type": "markdown",
   "metadata": {},
   "source": [
    "2. Jamie is organizing a math competition for students in his school. To evaluate their performance, Jamie needs to calculate several statistics from the scores of the students. Given a list of scores, Jamie needs to find the average score, the highest and lowest scores, and count how many students scored above the average."
   ]
  },
  {
   "cell_type": "code",
   "execution_count": null,
   "metadata": {},
   "outputs": [],
   "source": [
    "scores = [60, 75, 80, 90, 100]\n",
    "average_score = sum(scores) / len(scores)\n",
    "highest_score = max(scores)\n",
    "lowest_score = min(scores)\n",
    "above_average_count = sum(1 for score in scores if score > average_score)\n",
    "\n",
    "print(\"Average score:\", average_score)\n",
    "print(\"Highest score:\", highest_score)\n",
    "print(\"Lowest score:\", lowest_score)\n",
    "print(\"Number of students above average:\", above_average_count)"
   ]
  },
  {
   "cell_type": "markdown",
   "metadata": {},
   "source": [
    "3. Steve is analyzing sensor data recorded by multiple devices, each providing integer values. Given a list of these values and a threshold, Steve needs to identify unique positive prime numbers that exceed this threshold, excluding any negative values. The results should display these primes in ascending order."
   ]
  },
  {
   "cell_type": "code",
   "execution_count": null,
   "metadata": {},
   "outputs": [],
   "source": [
    "def is_prime(n):\n",
    "    if n < 2:\n",
    "        return False\n",
    "    for i in range(2, int(n**0.5) + 1):\n",
    "        if n % i == 0:\n",
    "            return False\n",
    "    return True\n",
    "\n",
    "values = [2, 3, 4, 5, -1, 7, 11, 13]\n",
    "threshold = 5\n",
    "primes = sorted({num for num in values if is_prime(num) and num > threshold})\n",
    "\n",
    "if primes:\n",
    "    print(\"Unique primes exceeding threshold:\", primes)\n",
    "else:\n",
    "    print(\"No valid primes found\")"
   ]
  },
  {
   "cell_type": "markdown",
   "metadata": {},
   "source": [
    "4. Kyara is analyzing a series of measurements taken over time. She needs to identify all the \"peaks\" in this list of integers. A peak is defined as an element that is greater than its immediate neighbors."
   ]
  },
  {
   "cell_type": "code",
   "execution_count": null,
   "metadata": {},
   "outputs": [],
   "source": [
    "numbers = [1, 3, 2, 5, 4, 6, 5]\n",
    "peaks = [numbers[i] for i in range(len(numbers)) if \n",
    "         (i == 0 and numbers[i] > numbers[i + 1]) or\n",
    "         (i == len(numbers) - 1 and numbers[i] > numbers[i - 1]) or\n",
    "         (0 < i < len(numbers) - 1 and numbers[i] > numbers[i - 1] and numbers[i] > numbers[i + 1])]\n",
    "\n",
    "print(\"Peaks in the list:\", peaks)\n"
   ]
  },
  {
   "cell_type": "markdown",
   "metadata": {},
   "source": [
    "5. Charles is a researcher analyzing data from a series of experiments. He needs to process a list of experiment results by removing the first and last results and then applying a transformation based on the values."
   ]
  },
  {
   "cell_type": "code",
   "execution_count": null,
   "metadata": {},
   "outputs": [],
   "source": [
    "results = [2, 5, 8, 9, 4]\n",
    "transformed_results = []\n",
    "\n",
    "for result in results[1:-1]:  # Remove first and last\n",
    "    if result % 2 == 0:\n",
    "        transformed_results.append(result - 3)\n",
    "    else:\n",
    "        transformed_results.append(result * 2)\n",
    "\n",
    "print(\"Transformed results:\", transformed_results)"
   ]
  },
  {
   "cell_type": "markdown",
   "metadata": {},
   "source": [
    "6. Henry is analyzing a dataset of employee ages to filter out employees older than a certain age threshold. Given a list of ages and an age threshold, Henry needs a way to remove all ages from the list that do not exceed the threshold."
   ]
  },
  {
   "cell_type": "code",
   "execution_count": null,
   "metadata": {},
   "outputs": [],
   "source": [
    "ages = [25, 30, 45, 50, 60]\n",
    "threshold = 40\n",
    "filtered_ages = [age for age in ages if age > threshold]\n",
    "filtered_ages.sort()  # Sort ages in ascending order\n",
    "print(\"Filtered ages above threshold:\", filtered_ages)"
   ]
  },
  {
   "cell_type": "markdown",
   "metadata": {},
   "source": [
    "7. George is hosting a grand event and needs to create a unique seating arrangement by interleaving two lists of guests: VIPs and regular attendees."
   ]
  },
  {
   "cell_type": "code",
   "execution_count": null,
   "metadata": {},
   "outputs": [],
   "source": [
    "vips = ['Alice', 'Bob', 'Charlie']\n",
    "regulars = ['David', 'Eva', 'Frank', 'Grace']\n",
    "interleaved = []\n",
    "\n",
    "for v, r in zip(vips, regulars):\n",
    "    interleaved.append(v)\n",
    "    interleaved.append(r)\n",
    "\n",
    "# Append remaining guests if one list is longer\n",
    "interleaved.extend(vips[len(regulars):])\n",
    "interleaved.extend(regulars[len(vips):])\n",
    "\n",
    "print(\"Final interleaved list:\", interleaved)"
   ]
  },
  {
   "cell_type": "markdown",
   "metadata": {},
   "source": [
    "8. Robert is organizing a treasure hunt event and needs to arrange clues in a specific pattern. The clues are represented by integers."
   ]
  },
  {
   "cell_type": "code",
   "execution_count": null,
   "metadata": {},
   "outputs": [],
   "source": [
    "clues = [5, 3, 8, 6, 2, 4]\n",
    "clues.sort()\n",
    "arranged_clues = []\n",
    "\n",
    "while clues:\n",
    "    arranged_clues.append(clues.pop(0))  # Smallest\n",
    "    if clues: arranged_clues.append(clues.pop())  # Largest\n",
    "\n",
    "print(\"Arranged clues:\", arranged_clues)"
   ]
  },
  {
   "cell_type": "markdown",
   "metadata": {},
   "source": [
    "9. Austin is organizing a scavenger hunt and has received a sorted list of clue numbers. To ensure all potential clues are accounted for, he needs to identify the missing numbers between these clues."
   ]
  },
  {
   "cell_type": "code",
   "execution_count": null,
   "metadata": {},
   "outputs": [],
   "source": [
    "sorted_clues = [1, 3, 7]\n",
    "all_clues = set(range(min(sorted_clues), max(sorted_clues) + 1))\n",
    "missing_clues = sorted(all_clues - set(sorted_clues))\n",
    "\n",
    "print(\"Missing clues:\", missing_clues)"
   ]
  },
  {
   "cell_type": "markdown",
   "metadata": {},
   "source": [
    "10. Gowshik is working on a task that involves taking two lists of integers as input, finding the element-wise sum of the corresponding elements, and then creating a tuple containing the sum values."
   ]
  },
  {
   "cell_type": "code",
   "execution_count": null,
   "metadata": {},
   "outputs": [],
   "source": [
    "list1 = [1, 2, 3]\n",
    "list2 = [4, 5, 6]\n",
    "element_wise_sum = tuple(a + b for a, b in zip(list1, list2))\n",
    "\n",
    "print(\"Element-wise sum tuple:\", element_wise_sum)"
   ]
  },
  {
   "cell_type": "markdown",
   "metadata": {},
   "source": [
    "## Hard Questions\n",
    "\n",
    "1. Oliver is a mathematician exploring sequences. He wants to analyze a sequence of integers by calculating the product of every pair of consecutive elements in a tuple."
   ]
  },
  {
   "cell_type": "code",
   "execution_count": 1,
   "metadata": {},
   "outputs": [
    {
     "name": "stdout",
     "output_type": "stream",
     "text": [
      "Product of consecutive pairs: (2, 6, 12)\n"
     ]
    }
   ],
   "source": [
    "numbers = (1, 2, 3, 4)\n",
    "products = tuple(numbers[i] * numbers[i + 1] for i in range(len(numbers) - 1))\n",
    "\n",
    "print(\"Product of consecutive pairs:\", products)"
   ]
  },
  {
   "cell_type": "markdown",
   "metadata": {},
   "source": [
    "2. George is revisiting the scores of his recent basketball games and decides to update the score of the second game after reviewing the footage. Given the size of a tuple and the scores of the games in the tuple, as well as a new score for the second game."
   ]
  },
  {
   "cell_type": "code",
   "execution_count": null,
   "metadata": {},
   "outputs": [],
   "source": [
    "scores = (20, 30, 40)\n",
    "new_score = 35\n",
    "updated_scores = scores[:1] + (new_score,) + scores[2:]\n",
    "\n",
    "print(\"Updated scores:\", updated_scores)"
   ]
  },
  {
   "cell_type": "markdown",
   "metadata": {},
   "source": [
    "3. Mia is working on a project that involves string manipulations. Given a string and an integer n, she needs to rotate the string n times to the right."
   ]
  },
  {
   "cell_type": "code",
   "execution_count": null,
   "metadata": {},
   "outputs": [],
   "source": [
    "def rotate_string(s, n):\n",
    "    n %= len(s)\n",
    "    return s[-n:] + s[:-n]\n",
    "\n",
    "original_string = \"hello\"\n",
    "n = 2\n",
    "rotated_string = rotate_string(original_string, n)\n",
    "\n",
    "print(\"Rotated string:\", rotated_string)"
   ]
  },
  {
   "cell_type": "markdown",
   "metadata": {},
   "source": [
    "4. Sarah is managing inventory data and needs to check if a list of items in stock is a subset of a master list of all items available in the store."
   ]
  },
  {
   "cell_type": "code",
   "execution_count": null,
   "metadata": {},
   "outputs": [],
   "source": [
    "master_list = ['apple', 'banana', 'orange', 'grape']\n",
    "stock_list = ['banana', 'grape']\n",
    "\n",
    "is_subset = set(stock_list).issubset(master_list)\n",
    "\n",
    "print(\"Is stock list a subset of master list?\", is_subset)"
   ]
  },
  {
   "cell_type": "markdown",
   "metadata": {},
   "source": [
    "5. Jack is analyzing the frequency of characters in a given string to understand its composition better. He needs to count how often each character appears in the string."
   ]
  },
  {
   "cell_type": "code",
   "execution_count": null,
   "metadata": {},
   "outputs": [],
   "source": [
    "from collections import Counter\n",
    "\n",
    "input_string = \"hello world\"\n",
    "char_frequency = Counter(input_string.replace(\" \", \"\"))  # Ignore spaces\n",
    "print(\"Character frequency:\", char_frequency)"
   ]
  },
  {
   "cell_type": "markdown",
   "metadata": {},
   "source": [
    "6. Lucas is managing a database of employee names and their corresponding IDs. He wants to create a dictionary where the keys are employee IDs and the values are their names."
   ]
  },
  {
   "cell_type": "code",
   "execution_count": null,
   "metadata": {},
   "outputs": [],
   "source": [
    "names = ['Alice', 'Bob', 'Charlie']\n",
    "ids = [101, 102, 103]\n",
    "employee_dict = {ids[i]: names[i] for i in range(len(ids))}\n",
    "\n",
    "print(\"Employee dictionary:\", employee_dict)"
   ]
  },
  {
   "cell_type": "markdown",
   "metadata": {},
   "source": [
    "7. Nina is working on a text processing feature and wants to identify the longest substring without repeating characters in a given string."
   ]
  },
  {
   "cell_type": "code",
   "execution_count": null,
   "metadata": {},
   "outputs": [],
   "source": [
    "def longest_unique_substring(s):\n",
    "    start, max_length, char_index = 0, 0, {}\n",
    "    for i, char in enumerate(s):\n",
    "        if char in char_index and char_index[char] >= start:\n",
    "            start = char_index[char] + 1\n",
    "        char_index[char] = i\n",
    "        max_length = max(max_length, i - start + 1)\n",
    "    return max_length\n",
    "\n",
    "input_string = \"abcabcbb\"\n",
    "length = longest_unique_substring(input_string)\n",
    "\n",
    "print(\"Length of the longest substring without repeating characters:\", length)"
   ]
  },
  {
   "cell_type": "markdown",
   "metadata": {},
   "source": [
    "8. Oliver is consolidating data from two different sources into a single dictionary. If there are conflicting keys, he wants to keep the values from the second dictionary."
   ]
  },
  {
   "cell_type": "code",
   "execution_count": null,
   "metadata": {},
   "outputs": [],
   "source": [
    "dict1 = {'a': 1, 'b': 2}\n",
    "dict2 = {'b': 3, 'c': 4}\n",
    "merged_dict = {**dict1, **dict2}\n",
    "\n",
    "print(\"Merged dictionary:\", merged_dict)"
   ]
  },
  {
   "cell_type": "markdown",
   "metadata": {},
   "source": [
    "9. Ella is analyzing two groups of people to find out which individuals are present in both groups. She needs to determine the intersection of two sets of names."
   ]
  },
  {
   "cell_type": "code",
   "execution_count": null,
   "metadata": {},
   "outputs": [],
   "source": [
    "group1 = {'Alice', 'Bob', 'Charlie'}\n",
    "group2 = {'Bob', 'David', 'Ella'}\n",
    "intersection = group1.intersection(group2)\n",
    "\n",
    "print(\"Intersection of groups:\", intersection)"
   ]
  },
  {
   "cell_type": "markdown",
   "metadata": {},
   "source": [
    "10. Liam is processing a list of user IDs and wants to remove duplicates while preserving the order of first appearances."
   ]
  },
  {
   "cell_type": "code",
   "execution_count": null,
   "metadata": {},
   "outputs": [],
   "source": [
    "def remove_duplicates(lst):\n",
    "    seen = set()\n",
    "    return [x for x in lst if not (x in seen or seen.add(x))]\n",
    "\n",
    "user_ids = [1, 2, 2, 3, 4, 1, 5]\n",
    "unique_ids = remove_duplicates(user_ids)\n",
    "\n",
    "print(\"User IDs after removing duplicates:\", unique_ids)"
   ]
  },
  {
   "cell_type": "markdown",
   "metadata": {},
   "source": [
    "11. Sophia has a list of positive and negative numbers and needs to sort the list in such a way that all negative numbers appear before positive numbers, while maintaining their original order."
   ]
  },
  {
   "cell_type": "code",
   "execution_count": null,
   "metadata": {},
   "outputs": [],
   "source": [
    "def sort_negatives_first(numbers):\n",
    "    negatives = [num for num in numbers if num < 0]\n",
    "    positives = [num for num in numbers if num >= 0]\n",
    "    return negatives + positives\n",
    "\n",
    "# Example usage\n",
    "numbers = [3, -1, 2, -7, 5, -2, 4]\n",
    "sorted_list = sort_negatives_first(numbers)\n",
    "print(\"Sorted list with negatives first:\", sorted_list)"
   ]
  },
  {
   "cell_type": "markdown",
   "metadata": {},
   "source": [
    "12. Ethan has a dictionary where the keys are product names and the values are lists of prices. He needs to find the average price for each product."
   ]
  },
  {
   "cell_type": "code",
   "execution_count": null,
   "metadata": {},
   "outputs": [],
   "source": [
    "def average_prices(prices_dict):\n",
    "    average_dict = {}\n",
    "    for product, prices in prices_dict.items():\n",
    "        average_dict[product] = sum(prices) / len(prices) if prices else 0\n",
    "    return average_dict\n",
    "\n",
    "# Example usage\n",
    "prices_dict = {\n",
    "    'Product A': [100, 200, 300],\n",
    "    'Product B': [150, 250],\n",
    "    'Product C': []\n",
    "}\n",
    "avg_prices = average_prices(prices_dict)\n",
    "print(\"Average prices:\", avg_prices)"
   ]
  },
  {
   "cell_type": "markdown",
   "metadata": {},
   "source": [
    "13. Olivia wants to create all possible permutations of a given list."
   ]
  },
  {
   "cell_type": "code",
   "execution_count": null,
   "metadata": {},
   "outputs": [],
   "source": [
    "def permutations(lst):\n",
    "    if len(lst) == 0:\n",
    "        return [[]]\n",
    "    result = []\n",
    "    for i in range(len(lst)):\n",
    "        rest = lst[:i] + lst[i+1:]\n",
    "        for p in permutations(rest):\n",
    "            result.append([lst[i]] + p)\n",
    "    return result\n",
    "\n",
    "# Example usage\n",
    "input_list = [1, 2, 3]\n",
    "all_permutations = permutations(input_list)\n",
    "print(\"All permutations:\", all_permutations)"
   ]
  },
  {
   "cell_type": "markdown",
   "metadata": {},
   "source": [
    "14. Noah wants to find the second highest salary without using the max() function more than once."
   ]
  },
  {
   "cell_type": "code",
   "execution_count": null,
   "metadata": {},
   "outputs": [],
   "source": [
    "def second_highest_salary(salaries):\n",
    "    highest = float('-inf')\n",
    "    second_highest = float('-inf')\n",
    "    \n",
    "    for salary in salaries:\n",
    "        if salary > highest:\n",
    "            second_highest = highest\n",
    "            highest = salary\n",
    "        elif highest > salary > second_highest:\n",
    "            second_highest = salary\n",
    "            \n",
    "    return second_highest\n",
    "\n",
    "# Example usage\n",
    "salaries = [30000, 45000, 50000, 60000, 40000]\n",
    "second_highest = second_highest_salary(salaries)\n",
    "print(\"Second highest salary:\", second_highest)"
   ]
  },
  {
   "cell_type": "markdown",
   "metadata": {},
   "source": [
    "15. Emma needs to find the longest subsequence where all elements are in strictly increasing order."
   ]
  },
  {
   "cell_type": "code",
   "execution_count": null,
   "metadata": {},
   "outputs": [],
   "source": [
    "def longest_increasing_subsequence(arr):\n",
    "    if not arr:\n",
    "        return []\n",
    "\n",
    "    n = len(arr)\n",
    "    dp = [1] * n\n",
    "    prev_index = [-1] * n\n",
    "\n",
    "    for i in range(1, n):\n",
    "        for j in range(i):\n",
    "            if arr[i] > arr[j] and dp[i] < dp[j] + 1:\n",
    "                dp[i] = dp[j] + 1\n",
    "                prev_index[i] = j\n",
    "\n",
    "    max_length = max(dp)\n",
    "    max_index = dp.index(max_length)\n",
    "\n",
    "    lis = []\n",
    "    while max_index != -1:\n",
    "        lis.append(arr[max_index])\n",
    "        max_index = prev_index[max_index]\n",
    "\n",
    "    return lis[::-1]\n",
    "\n",
    "# Example usage\n",
    "numbers = [10, 22, 9, 33, 21, 50, 41, 60, 80]\n",
    "longest_seq = longest_increasing_subsequence(numbers)\n",
    "print(\"Longest increasing subsequence:\", longest_seq)"
   ]
  },
  {
   "cell_type": "markdown",
   "metadata": {},
   "source": [
    "16. Sophia wants to find all unique pairs of numbers that add up to the target value."
   ]
  },
  {
   "cell_type": "code",
   "execution_count": null,
   "metadata": {},
   "outputs": [],
   "source": [
    "def find_pairs(numbers, target):\n",
    "    seen = set()\n",
    "    pairs = set()\n",
    "    \n",
    "    for number in numbers:\n",
    "        complement = target - number\n",
    "        if complement in seen:\n",
    "            pairs.add((min(number, complement), max(number, complement)))\n",
    "        seen.add(number)\n",
    "    \n",
    "    return list(pairs)\n",
    "\n",
    "# Example usage\n",
    "numbers = [1, 2, 3, 4, 5, 6]\n",
    "target = 7\n",
    "unique_pairs = find_pairs(numbers, target)\n",
    "print(\"Unique pairs that sum to target:\", unique_pairs)"
   ]
  },
  {
   "cell_type": "markdown",
   "metadata": {},
   "source": [
    "17. David wants to group people into age categories."
   ]
  },
  {
   "cell_type": "code",
   "execution_count": null,
   "metadata": {},
   "outputs": [],
   "source": [
    "def group_by_age(people):\n",
    "    age_categories = {\n",
    "        \"Child\": [],\n",
    "        \"Teen\": [],\n",
    "        \"Adult\": []\n",
    "    }\n",
    "\n",
    "    for person, age in people.items():\n",
    "        if age < 13:\n",
    "            age_categories[\"Child\"].append(person)\n",
    "        elif 13 <= age < 20:\n",
    "            age_categories[\"Teen\"].append(person)\n",
    "        else:\n",
    "            age_categories[\"Adult\"].append(person)\n",
    "\n",
    "    return age_categories\n",
    "\n",
    "# Example usage\n",
    "people = {\n",
    "    \"Alice\": 10,\n",
    "    \"Bob\": 15,\n",
    "    \"Charlie\": 25,\n",
    "    \"David\": 30\n",
    "}\n",
    "age_groups = group_by_age(people)\n",
    "print(\"Grouped by age:\", age_groups)"
   ]
  },
  {
   "cell_type": "markdown",
   "metadata": {},
   "source": [
    "18. Mason needs to transpose a nested list (matrix)."
   ]
  },
  {
   "cell_type": "code",
   "execution_count": null,
   "metadata": {},
   "outputs": [],
   "source": [
    "def transpose_matrix(matrix):\n",
    "    return [list(row) for row in zip(*matrix)]\n",
    "\n",
    "# Example usage\n",
    "matrix = [\n",
    "    [1, 2, 3],\n",
    "    [4, 5, 6],\n",
    "    [7, 8, 9]\n",
    "]\n",
    "transposed_matrix = transpose_matrix(matrix)\n",
    "print(\"Transposed matrix:\", transposed_matrix)"
   ]
  },
  {
   "cell_type": "markdown",
   "metadata": {},
   "source": [
    "19. Sophia wants to identify the best day to buy and the best day to sell to maximize profit."
   ]
  },
  {
   "cell_type": "code",
   "execution_count": null,
   "metadata": {},
   "outputs": [],
   "source": [
    "def best_buy_sell_days(prices):\n",
    "    min_price = float('inf')\n",
    "    max_profit = 0\n",
    "    buy_day = sell_day = -1\n",
    "\n",
    "    for day, price in enumerate(prices):\n",
    "        if price < min_price:\n",
    "            min_price = price\n",
    "            buy_day = day\n",
    "        elif price - min_price > max_profit:\n",
    "            max_profit = price - min_price\n",
    "            sell_day = day\n",
    "\n",
    "    return buy_day, sell_day\n",
    "\n",
    "# Example usage\n",
    "stock_prices = [7, 1, 5, 3, 6, 4]\n",
    "buy, sell = best_buy_sell_days(stock_prices)\n",
    "print(f\"Best day to buy: Day {buy}, Best day to sell: Day {sell}\")"
   ]
  },
  {
   "cell_type": "markdown",
   "metadata": {},
   "source": [
    "20. Ethan wants to merge two dictionaries such that common keys have their values summed up."
   ]
  },
  {
   "cell_type": "code",
   "execution_count": null,
   "metadata": {},
   "outputs": [],
   "source": [
    "def merge_dictionaries(dict1, dict2):\n",
    "    merged = dict1.copy()\n",
    "    \n",
    "    for key, value in dict2.items():\n",
    "        if key in merged:\n",
    "            merged[key] += value\n",
    "        else:\n",
    "            merged[key] = value\n",
    "    \n",
    "    return merged\n",
    "\n",
    "# Example usage\n",
    "dict1 = {'a': 1, 'b': 2}\n",
    "dict2 = {'b': 3, 'c': 4}\n",
    "merged_dict = merge_dictionaries(dict1, dict2)\n",
    "print(\"Merged dictionary:\", merged_dict)"
   ]
  },
  {
   "cell_type": "markdown",
   "metadata": {},
   "source": [
    "21. Olivia wants to find the highest score for each name from a list of tuples."
   ]
  },
  {
   "cell_type": "code",
   "execution_count": null,
   "metadata": {},
   "outputs": [],
   "source": [
    "def highest_scores(tuples_list):\n",
    "    score_dict = {}\n",
    "    \n",
    "    for name, scores in tuples_list:\n",
    "        highest_score = max(scores) if scores else 0\n",
    "        score_dict[name] = highest_score\n",
    "    \n",
    "    return score_dict.items()\n",
    "\n",
    "# Example usage\n",
    "data = [('Alice', [85, 92, 78]), ('Bob', [70, 75]), ('Charlie', [90])]\n",
    "highest_score_list = list(highest_scores(data))\n",
    "print(\"Highest scores:\", highest_score_list)"
   ]
  },
  {
   "cell_type": "markdown",
   "metadata": {},
   "source": [
    "22. Lucas needs to flatten a nested dictionary."
   ]
  },
  {
   "cell_type": "code",
   "execution_count": null,
   "metadata": {},
   "outputs": [],
   "source": [
    "def flatten_dict(nested_dict, parent_key='', sep='.'):\n",
    "    items = []\n",
    "    for key, value in nested_dict.items():\n",
    "        new_key = f\"{parent_key}{sep}{key}\" if parent_key else key\n",
    "        if isinstance(value, dict):\n",
    "            items.extend(flatten_dict(value, new_key, sep=sep).items())\n",
    "        else:\n",
    "            items.append((new_key, value))\n",
    "    return dict(items)\n",
    "\n",
    "# Example usage\n",
    "nested_dict = {\n",
    "    'fruit': {\n",
    "        'apple': 1,\n",
    "        'banana': 2\n",
    "    },\n",
    "    'vegetable': {\n",
    "        'carrot': 3,\n",
    "        'spinach': 4\n",
    "    }\n",
    "}\n",
    "flattened = flatten_dict(nested_dict)\n",
    "print(\"Flattened dictionary:\", flattened)"
   ]
  },
  {
   "cell_type": "markdown",
   "metadata": {},
   "source": [
    "23. Emma wants to find all subsets of the list that sum up to a given target."
   ]
  },
  {
   "cell_type": "code",
   "execution_count": null,
   "metadata": {},
   "outputs": [],
   "source": [
    "def find_subsets_with_target(nums, target):\n",
    "    result = []\n",
    "\n",
    "    def backtrack(start, path):\n",
    "        current_sum = sum(path)\n",
    "        if current_sum == target:\n",
    "            result.append(path)\n",
    "        for i in range(start, len(nums)):\n",
    "            backtrack(i + 1, path + [nums[i]])\n",
    "\n",
    "    backtrack(0, [])\n",
    "    return result\n",
    "\n",
    "# Example usage\n",
    "numbers = [1, 2, 3, 4, 5]\n",
    "target_sum = 5\n",
    "subsets = find_subsets_with_target(numbers, target_sum)\n",
    "print(\"Subsets that sum to target:\", subsets)"
   ]
  },
  {
   "cell_type": "markdown",
   "metadata": {},
   "source": [
    "24. John wants to calculate the median temperature for each city."
   ]
  },
  {
   "cell_type": "code",
   "execution_count": null,
   "metadata": {},
   "outputs": [],
   "source": [
    "from statistics import median\n",
    "\n",
    "def median_temperatures(city_temps):\n",
    "    median_dict = {}\n",
    "    \n",
    "    for city, temps in city_temps.items():\n",
    "        median_dict[city] = median(temps) if temps else 0\n",
    "\n",
    "    return median_dict\n",
    "\n",
    "# Example usage\n",
    "city_temperatures = {\n",
    "    'City A': [30, 32, 31],\n",
    "    'City B': [25, 27, 26],\n",
    "    'City C': []\n",
    "}\n",
    "median_temp = median_temperatures(city_temperatures)\n",
    "print(\"Median temperatures:\", median_temp)"
   ]
  },
  {
   "cell_type": "markdown",
   "metadata": {},
   "source": [
    "25. David wants to find the longest substring that consists of unique characters."
   ]
  },
  {
   "cell_type": "code",
   "execution_count": null,
   "metadata": {},
   "outputs": [],
   "source": [
    "def longest_unique_substring(s):\n",
    "    char_index = {}\n",
    "    start = max_length = 0\n",
    "    longest_substring = \"\"\n",
    "\n",
    "    for end, char in enumerate(s):\n",
    "        if char in char_index and char_index[char] >= start:\n",
    "            start = char_index[char] + 1\n",
    "        char_index[char] = end\n",
    "        if end - start + 1 > max_length:\n",
    "            max_length = end - start + 1\n",
    "            longest_substring = s[start:end + 1]\n",
    "\n",
    "    return longest_substring\n",
    "\n",
    "# Example usage\n",
    "input_string = \"abcabcbb\"\n",
    "longest_unique = longest_unique_substring(input_string)\n",
    "print(\"Longest substring with unique characters:\", longest_unique)"
   ]
  }
 ],
 "metadata": {
  "kernelspec": {
   "display_name": "Python 3",
   "language": "python",
   "name": "python3"
  },
  "language_info": {
   "codemirror_mode": {
    "name": "ipython",
    "version": 3
   },
   "file_extension": ".py",
   "mimetype": "text/x-python",
   "name": "python",
   "nbconvert_exporter": "python",
   "pygments_lexer": "ipython3",
   "version": "3.12.7"
  }
 },
 "nbformat": 4,
 "nbformat_minor": 2
}
